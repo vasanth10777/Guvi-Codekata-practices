{
  "nbformat": 4,
  "nbformat_minor": 0,
  "metadata": {
    "colab": {
      "provenance": [],
      "authorship_tag": "ABX9TyNc/58O2f7x9Mo0lDeD8y8F",
      "include_colab_link": true
    },
    "kernelspec": {
      "name": "python3",
      "display_name": "Python 3"
    },
    "language_info": {
      "name": "python"
    }
  },
  "cells": [
    {
      "cell_type": "markdown",
      "metadata": {
        "id": "view-in-github",
        "colab_type": "text"
      },
      "source": [
        "<a href=\"https://colab.research.google.com/github/Sivabarani/Guvi-Codekata-practices/blob/main/CodekataPractice.ipynb\" target=\"_parent\"><img src=\"https://colab.research.google.com/assets/colab-badge.svg\" alt=\"Open In Colab\"/></a>"
      ]
    },
    {
      "cell_type": "markdown",
      "source": [
        "# **String Codekata**"
      ],
      "metadata": {
        "id": "PqX61xsePe7h"
      }
    },
    {
      "cell_type": "code",
      "execution_count": null,
      "metadata": {
        "colab": {
          "base_uri": "https://localhost:8080/"
        },
        "id": "VHgpHUMnYe2H",
        "outputId": "9e66cf88-cf78-4d97-cdec-e9a87a1b383d"
      },
      "outputs": [
        {
          "output_type": "stream",
          "name": "stdout",
          "text": [
            "mississipie\n",
            "mpe\n"
          ]
        }
      ],
      "source": [
        "# Task 1\n",
        "\"\"\"Rahul is given a task to manipulate a string,\n",
        "He hired you as a developer your task is to delete all the repeating characters and print the result left.\n",
        "\n",
        "Input Description:\n",
        "You are given a string ‘s’\n",
        "\n",
        "Output Description:\n",
        "Print the remaining string\n",
        "\n",
        "Sample Input :\n",
        "mississipie\n",
        "Sample Output :\n",
        "mpe\"\"\"\n",
        "s = input()\n",
        "new = ''\n",
        "for i in s:\n",
        "    count = s.count(i)\n",
        "    if count == 1:\n",
        "        new = new + i\n",
        "print(new)"
      ]
    },
    {
      "cell_type": "code",
      "source": [
        "# Task 2\n",
        "\"\"\"Given a string S, print 'yes' if it has a vowel in it else print 'no'.\n",
        "Sample Testcase :\n",
        "INPUT\n",
        "codekata\n",
        "OUTPUT\n",
        "yes\n",
        "\"\"\"\n",
        "s = input()\n",
        "vowels = ['a', 'e', 'i', 'o', 'u']\n",
        "for i in vowels:\n",
        "    if i in s:\n",
        "        print(\"yes\")\n",
        "        break\n",
        "else:\n",
        "    print(\"no\")\n",
        "\n",
        "# Alternative approach\n",
        "s = input()\n",
        "vowels = {'a', 'e', 'i', 'o', 'u'}  # Use a set for faster lookup\n",
        "if any(vowel in s for vowel in vowels):\n",
        "    print(\"yes\")\n",
        "else:\n",
        "    print(\"no\")"
      ],
      "metadata": {
        "id": "ZtQD5s6JZCE2"
      },
      "execution_count": null,
      "outputs": []
    },
    {
      "cell_type": "code",
      "source": [
        "# Task 3\n",
        "\"\"\"You are given a number with duplicate digits your task is\n",
        "to remove the immediate duplicate digits and print the result\n",
        "\n",
        "Input Description:\n",
        "You are given a long string of digits\n",
        "\n",
        "Output Description:\n",
        "Print the desired result print -1 if result length is 0\n",
        "\n",
        "Sample Input :\n",
        "1331\n",
        "Sample Output :\n",
        "11\"\"\"\n",
        "n = input()\n",
        "\n",
        "for x in range(len(n)-1):\n",
        "  if x < len(n) and x > 0:\n",
        "    if n[x] == n[x+1] or n[x] == n[x-1]:\n",
        "      n = n.replace(n[x],'')\n",
        "\n",
        "if len(n) == 0:\n",
        "  print(\"-1\")\n",
        "else:\n",
        "  print(n)\n"
      ],
      "metadata": {
        "colab": {
          "base_uri": "https://localhost:8080/"
        },
        "id": "6Ssk8s0TZEmC",
        "outputId": "cb512439-05b5-4c3a-abdb-a292e57e4806"
      },
      "execution_count": null,
      "outputs": [
        {
          "output_type": "stream",
          "name": "stdout",
          "text": [
            "1331\n",
            "11\n"
          ]
        }
      ]
    },
    {
      "cell_type": "code",
      "source": [
        "# Task 4\n",
        "\"\"\"You are given a string. You have to print “Wonder” if the string is wonderful and -1 if it is not.\n",
        "A wonderful string is a string,which is made up of exactly 3 different characters.\n",
        "\n",
        "Input Description:\n",
        "You are given a string\n",
        "\n",
        "Output Description:\n",
        "Print “Wonder” if it is wonderful and -1 if it is not\n",
        "\n",
        "Sample Input :\n",
        "aabbcc\n",
        "Sample Output :\n",
        "Wonder\"\"\"\n",
        "s = input()\n",
        "if len(set(s)) == 3:\n",
        "    print(\"Wonder\")\n",
        "else:\n",
        "    print(\"-1\")"
      ],
      "metadata": {
        "colab": {
          "base_uri": "https://localhost:8080/"
        },
        "id": "z0U_rykCZxh8",
        "outputId": "03103fad-8adc-45d2-9486-455c2635e83a"
      },
      "execution_count": null,
      "outputs": [
        {
          "output_type": "stream",
          "name": "stdout",
          "text": [
            "aabbcc\n",
            "Wonder\n"
          ]
        }
      ]
    },
    {
      "cell_type": "markdown",
      "source": [
        "13-09-2024"
      ],
      "metadata": {
        "id": "ZgL_wxPsD4yh"
      }
    },
    {
      "cell_type": "code",
      "source": [
        "# Task 5 (revisit)\n",
        "\"\"\"Joyal was given a sentence.\n",
        "His task is to delete the two words that comes together and print the sentence\n",
        "so that the words in the output sentence have distinct words compared to their adjacent words.\n",
        "If no words are present in the output sentence print -1\n",
        "\n",
        "Input Description:\n",
        "You are given input string 'S'\n",
        "\n",
        "Output Description:\n",
        "Print the all the words that are left in the string 's'\n",
        "so that the words in the output sentence have distinct words compared to their adjacent words.\n",
        "Print -1 if no words are left\n",
        "\n",
        "Sample Input :\n",
        "I am john cena cena john\n",
        "Sample Output :\n",
        "I am\"\"\"\n",
        "s = input().split()\n",
        "list_1 = s.copy()\n",
        "for i in range(len(s)-1):\n",
        "  if i < len(s) or i > 0:\n",
        "    if s[i] == s[i+1]:\n",
        "      list_1.remove(s[i])\n",
        "      list_1.remove(s[i+1])\n",
        "\n",
        "list_2 = list_1.copy()\n",
        "for i in range(len(list_1)-1):\n",
        "  if i < len(list_1) or i > 0:\n",
        "    if list_1[i] == list_1[i+1]:\n",
        "      list_2.remove(list_1[i])\n",
        "      list_2.remove(list_1[i+1])\n",
        "if len(list_2) == 0:\n",
        "  print(\"-1\")\n",
        "else:\n",
        "  final = ' '.join(list_2)\n",
        "  print(final.strip())"
      ],
      "metadata": {
        "colab": {
          "base_uri": "https://localhost:8080/"
        },
        "id": "tiQgGzT_axLQ",
        "outputId": "43accc3e-613f-4af1-99ef-b4231bfb3952"
      },
      "execution_count": null,
      "outputs": [
        {
          "output_type": "stream",
          "name": "stdout",
          "text": [
            "We love we love\n"
          ]
        }
      ]
    },
    {
      "cell_type": "code",
      "source": [
        "# Task 6\n",
        "\"\"\"You are given a string.Your task is to print only the consonants present in the string\n",
        "without affecting the sentence spacings if present. If no consonants are present print -1\n",
        "\n",
        "Input Description:\n",
        "You are given a string ‘s’.\n",
        "\n",
        "Output Description:\n",
        "Print only consonants.\n",
        "\n",
        "Sample Input :\n",
        "I am shrey\n",
        "Sample Output :\n",
        " m shry\"\"\"\n",
        "s= input()\n",
        "new_string = ''\n",
        "for i in s:\n",
        "  if i not in 'aeiouAEIOU':\n",
        "    new_string = new_string + i\n",
        "\n",
        "if len(new_string) == 0:\n",
        "  print(\"-1\")\n",
        "else:\n",
        "  print(new_string)"
      ],
      "metadata": {
        "colab": {
          "base_uri": "https://localhost:8080/"
        },
        "id": "cFB6hYgyAjDO",
        "outputId": "370d9204-71a4-49f9-e0cc-7d06ecf1386b"
      },
      "execution_count": null,
      "outputs": [
        {
          "output_type": "stream",
          "name": "stdout",
          "text": [
            "-1\n"
          ]
        }
      ]
    },
    {
      "cell_type": "code",
      "source": [
        "#Task 7\n",
        "\"\"\"You are given two numbers. Your task is to multiply the two numbers and print the answer.\n",
        "\n",
        "Input Description:\n",
        "You are given two numbers ‘n’ and ‘m’.\n",
        "\n",
        "Output Description:\n",
        "Print the multiplied answer\n",
        "\n",
        "Sample Input :\n",
        "99999 99998\n",
        "Sample Output :\n",
        "9999700002\"\"\"\n",
        "n,m = map(int, input().split())\n",
        "print(n*m)"
      ],
      "metadata": {
        "colab": {
          "base_uri": "https://localhost:8080/"
        },
        "id": "QFBUbwroDTIx",
        "outputId": "7ec6050d-0f75-47af-d2c4-8f0be05a1caf"
      },
      "execution_count": null,
      "outputs": [
        {
          "output_type": "stream",
          "name": "stdout",
          "text": [
            "99999 99998\n",
            "9999700002\n"
          ]
        }
      ]
    },
    {
      "cell_type": "code",
      "source": [
        "# Task 8\n",
        "\"\"\"Given a string S, print it without using semicolon in your program.\n",
        "Sample Testcase :\n",
        "INPUT\n",
        "hello world\n",
        "OUTPUT\n",
        "hello world\"\"\"\n",
        "userInput = input()\n",
        "print(userInput)"
      ],
      "metadata": {
        "id": "WXp3zpXwD8He"
      },
      "execution_count": null,
      "outputs": []
    },
    {
      "cell_type": "markdown",
      "source": [
        "16-09-2024"
      ],
      "metadata": {
        "id": "KCZpORKEXHfH"
      }
    },
    {
      "cell_type": "code",
      "source": [
        "# Task 9\n",
        "\"\"\"Write a program to get a string S, Type of conversion\n",
        "(1 - Convert to Lowercase, 2 - Convert to Uppercase) T, and integer P .\n",
        "Convert the case of the letters in the positions which are multiples of P.(1 based indexing).\n",
        "\n",
        "Input Description:\n",
        "Given a string S, Type of conversion T, and integer P\n",
        "\n",
        "Output Description:\n",
        "Convert the case of the letters and print the string\n",
        "\n",
        "Sample Input :\n",
        "ProFiLe\n",
        "1\n",
        "2\n",
        "Sample Output :\n",
        "Profile\"\"\"\n",
        "\n",
        "s = input()\n",
        "t = int(input())\n",
        "p = int(input())\n",
        "i = 0\n",
        "\n",
        "while i < len(s):\n",
        "  if t == 1:\n",
        "    if (i+1) % p == 0:\n",
        "      print(s[i].lower(), end='')\n",
        "    else:\n",
        "      print(s[i], end='')\n",
        "  elif t == 2:\n",
        "    if (i+1) % p == 0:\n",
        "      print(s[i].upper(), end='')\n",
        "    else:\n",
        "      print(s[i], end='')\n",
        "\n",
        "  i = i + 1\n"
      ],
      "metadata": {
        "id": "E20oPJNwEkbx",
        "colab": {
          "base_uri": "https://localhost:8080/"
        },
        "outputId": "653e3329-cbdc-4cc6-bf58-767428c5974f"
      },
      "execution_count": null,
      "outputs": [
        {
          "output_type": "stream",
          "name": "stdout",
          "text": [
            "profile"
          ]
        }
      ]
    },
    {
      "cell_type": "code",
      "source": [
        "#Task 10 (revisit)\n",
        "\"\"\"you are given a string made up of parenthesis only.\n",
        "Your task is to check whether parenthesis are balanced or not.\n",
        "If they are balanced print 1 else print 0\n",
        "\n",
        "Input Description:\n",
        "You are given a string ‘s’\n",
        "\n",
        "Output Description:\n",
        "Print 1 for balanced and 0 for imbalanced\n",
        "\n",
        "Sample Input :\n",
        "{({})}\n",
        "Sample Output :\n",
        "1\"\"\"\n",
        "s = input()\n",
        "if len(s) % 2 == 0:\n",
        "  print(\"1\")\n",
        "else:\n",
        "  print(\"0\")"
      ],
      "metadata": {
        "colab": {
          "base_uri": "https://localhost:8080/"
        },
        "id": "1nPq4Pk430mA",
        "outputId": "8c855e9c-9d3f-42d2-fff7-1639697a1def"
      },
      "execution_count": null,
      "outputs": [
        {
          "output_type": "stream",
          "name": "stdout",
          "text": [
            "{{}}\n",
            "1\n"
          ]
        }
      ]
    },
    {
      "cell_type": "code",
      "source": [
        "# Task 11\n",
        "\"\"\"You are given with a string which comprises of some numbers.\n",
        "your task is to find the largest integer by converting the string to the corresponding integer.\n",
        "\n",
        "Input Description:\n",
        "First line contains n denoting number of Test Cases. The first and only Line of testcase has the string\n",
        "\n",
        "Output Description:\n",
        "Print the largest number\n",
        "\n",
        "Sample Input :\n",
        " I was born on 12 october 1998.\n",
        "Sample Output :\n",
        "1998\"\"\"\n",
        "s = input()\n",
        "result = ''.join(filter(lambda x: x.isalpha() or x.isdigit() or x.isspace(), s))\n",
        "print(result)\n",
        "digits = []\n",
        "for i in result.split():\n",
        "  if i.isdigit():\n",
        "    digits.append(int(i))\n",
        "\n",
        "print(max(digits))\n"
      ],
      "metadata": {
        "colab": {
          "base_uri": "https://localhost:8080/"
        },
        "id": "kUJBsbxP4oaW",
        "outputId": "92d28140-5a98-4a29-bedd-f04ce67fc6d9"
      },
      "execution_count": null,
      "outputs": [
        {
          "output_type": "stream",
          "name": "stdout",
          "text": [
            "haii 12 34 \n",
            "haii 12 34 \n",
            "34\n"
          ]
        }
      ]
    },
    {
      "cell_type": "code",
      "source": [
        "# task 12\n",
        "\"\"\" You are given a ‘true’ string.\n",
        " String is called true if weight of string is multiple of 8.\n",
        "  Your task is to tell whether a string can be declared True or Not.\n",
        "  Weight of string is the sum of ASCII value of Vowel character(s) present in the string.\n",
        "\n",
        "Input Description:\n",
        "You are given as string ‘s’ in lower cases\n",
        "\n",
        "Output Description:\n",
        "Print 1 for true and 0 for false\n",
        "\n",
        "Sample Input :\n",
        "raja\n",
        "Sample Output :\n",
        "0\"\"\"\n",
        "s = input()\n",
        "add = 0\n",
        "for i in s:\n",
        "    add += ord(i)\n",
        "\n",
        "print(\"1\" if add%8 == 0 else \"0\")\n"
      ],
      "metadata": {
        "colab": {
          "base_uri": "https://localhost:8080/"
        },
        "id": "wNujH1a68bgk",
        "outputId": "58b4eee7-1f50-4b18-f296-86c787343748"
      },
      "execution_count": null,
      "outputs": [
        {
          "output_type": "stream",
          "name": "stdout",
          "text": [
            "114\n",
            "97\n",
            "106\n",
            "97\n"
          ]
        }
      ]
    },
    {
      "cell_type": "code",
      "source": [
        "# Task 13\n",
        "\"\"\"You are given a paragraph.Your task is to print the words that come just after articles.\n",
        "\n",
        "Input Description:\n",
        "You are given a string ‘s’\n",
        "\n",
        "Output Description:\n",
        "print the words that come just after articles and -1 if there are no articles\n",
        "\n",
        "Sample Input :\n",
        "The sun rises in the east\n",
        "\n",
        "Sample Output :\n",
        "sun east\"\"\"\n",
        "s = input().split()\n",
        "print(type(s))\n",
        "articles = ['a', 'an', 'the']\n",
        "words = ''\n",
        "for i in range(len(s)-1):\n",
        "    if s[i].lower() in articles:\n",
        "        words = words + \" \" + s[i+1]\n",
        "\n",
        "print(words.strip())"
      ],
      "metadata": {
        "colab": {
          "base_uri": "https://localhost:8080/"
        },
        "id": "iuGjVtOG-wCo",
        "outputId": "a0e97899-40fc-428a-8caf-441464f0e01e"
      },
      "execution_count": null,
      "outputs": [
        {
          "output_type": "stream",
          "name": "stdout",
          "text": [
            "The sun rises in the east\n",
            "Sun east\n"
          ]
        }
      ]
    },
    {
      "cell_type": "code",
      "source": [
        "# task 14\n",
        "\"\"\"Given a string 'S' print the sum of weight of the String.\n",
        " A weight of character is defined as the ASCII value of corresponding character.\n",
        "\n",
        "Input Description:\n",
        "You are given a string ‘s’\n",
        "\n",
        "Output Description:\n",
        "Print weight\n",
        "\n",
        "Sample Input :\n",
        "abc\n",
        "Sample Output :\n",
        "294\"\"\"\n",
        "s= input()\n",
        "print(sum(ord(i) for i in s))"
      ],
      "metadata": {
        "id": "cBxzkyDNEB4U"
      },
      "execution_count": null,
      "outputs": []
    },
    {
      "cell_type": "code",
      "source": [
        "# Task 15\n",
        "\"\"\"You are given a string ‘s’.\n",
        "Your task is to print the string in the order they are present and then sum of digits.\n",
        "\n",
        "Input Description:\n",
        "You are given a string ‘s’.\n",
        "\n",
        "Output Description:\n",
        "Print the string and then at last sum of all the digits\n",
        "\n",
        "Sample Input :\n",
        "AC30BD40\n",
        "Sample Output :\n",
        "ACBD7\"\"\"\n",
        "\n",
        "s = input()\n",
        "digit = 0\n",
        "new_string = ''\n",
        "for i in s:\n",
        "    if i.isdigit():\n",
        "        digit += int(i)\n",
        "    else:\n",
        "        new_string += i\n",
        "\n",
        "print(new_string + str(digit))"
      ],
      "metadata": {
        "id": "3HVJrgnUFM9G"
      },
      "execution_count": null,
      "outputs": []
    },
    {
      "cell_type": "markdown",
      "source": [
        "17-09-2024"
      ],
      "metadata": {
        "id": "udNqzmxNXOQ-"
      }
    },
    {
      "cell_type": "code",
      "source": [
        "# Task 16 (will check)\n",
        "\"\"\"You are given string ‘s’. Your task is to modify the string as mentioned below:-\n",
        "1)The string should not have three consecutive same characters.\n",
        "2)You can add any number of characters anywhere in the string. Find the minimum number of characters which Ishaan must insert in the string.\n",
        "\n",
        "Input Description:\n",
        "You are given a string ‘s’\n",
        "\n",
        "Output Description:\n",
        "print the required answer in a new line.\n",
        "\n",
        "Sample Input :\n",
        "aabbbcc\n",
        "Sample Output :\n",
        "1\"\"\""
      ],
      "metadata": {
        "id": "ibtVKYisGyI9"
      },
      "execution_count": null,
      "outputs": []
    },
    {
      "cell_type": "code",
      "source": [
        "# Task 17\n",
        "\"\"\"Given a sentence and string S, find how many times S occurs in the given sentence.If S is not found in the sentence print -1\n",
        "Input Size : |sentence| <= 1000000(complexity O(n)).\n",
        "Sample Testcase :\n",
        "INPUT\n",
        "I enjoy doing codekata\n",
        "codekata\n",
        "OUTPUT\n",
        "1\"\"\"\n",
        "sentence = input()\n",
        "string = input()\n",
        "if sentence.count(string) == 0:\n",
        "  print(\"-1\")\n",
        "else:\n",
        "  print(sentence.count(string))"
      ],
      "metadata": {
        "colab": {
          "base_uri": "https://localhost:8080/"
        },
        "id": "h5Z8nT-EXviJ",
        "outputId": "cd510033-d056-4bf4-d37c-ea1a3068b5e1"
      },
      "execution_count": null,
      "outputs": [
        {
          "output_type": "stream",
          "name": "stdout",
          "text": [
            "haii\n",
            "shiva\n",
            "0\n"
          ]
        }
      ]
    },
    {
      "cell_type": "code",
      "source": [
        "# Task 18\n",
        "\"\"\"Radha newly learnt about palindromic strings.\n",
        "A palindromic string is a string which is same when read from left to right and also from right to left.\n",
        "Help her in implementing the logic.\n",
        "\n",
        "Input Description:\n",
        "You are given a String ‘s’\n",
        "\n",
        "Output Description:\n",
        "Print 1 if String is palindrome or 0 if not\n",
        "\n",
        "Sample Input :\n",
        "NITIN\n",
        "Sample Output :\n",
        "1\"\"\"\n",
        "s = input()\n",
        "if s == s[::-1]:\n",
        "  print(\"1\")\n",
        "else:\n",
        "  print(\"0\")"
      ],
      "metadata": {
        "colab": {
          "base_uri": "https://localhost:8080/"
        },
        "id": "1pU2NK2bYUXd",
        "outputId": "4c4f7714-5203-4f18-eff5-6b07f4a8b8f5"
      },
      "execution_count": null,
      "outputs": [
        {
          "output_type": "stream",
          "name": "stdout",
          "text": [
            "NITIN\n",
            "1\n"
          ]
        }
      ]
    },
    {
      "cell_type": "code",
      "source": [
        "# Task 19\n",
        "\"\"\"Ria is a 5 year old girl. Her mother wants to teach her how to sort words\n",
        "in the same order that they appear in a dictionary.\n",
        "She decides to write a program to sort a given set of strings based on their alphabetical order.\n",
        "Help Ria’s mother to complete the program.\n",
        "\n",
        "Input Description:\n",
        "A set of N strings\n",
        "\n",
        "Output Description:\n",
        "Alphabetically sorted set of strings\n",
        "\n",
        "Sample Input :\n",
        "3\n",
        "InfinityWar EndGame Avengers\n",
        "Sample Output :\n",
        "Avengers EndGame InfinityWar\"\"\"\n",
        "\n",
        "n = int(input())\n",
        "s = input().split()\n",
        "s.sort()\n",
        "print(' '.join(s).strip())\n"
      ],
      "metadata": {
        "colab": {
          "base_uri": "https://localhost:8080/"
        },
        "id": "isx1OAXGZRSc",
        "outputId": "f077c6a5-682b-4db2-aa15-1e0526576b2d"
      },
      "execution_count": null,
      "outputs": [
        {
          "output_type": "stream",
          "name": "stdout",
          "text": [
            "3\n",
            "InfinityWar EndGame Avengers\n",
            "Avengers EndGame InfinityWar\n"
          ]
        }
      ]
    },
    {
      "cell_type": "code",
      "source": [
        "# Task 20\n",
        "\"\"\"In XYZ country there is rule that car’s engine no.\n",
        "depends upon car’ number plate. Engine no is sum of all the integers present on car’s Number plate.\n",
        "The issuing authority has hired you in order to provide engine no. to the cars.\n",
        "Your task is to develop an algorithm which takes input as in form of string(Number plate) and gives back\n",
        "\n",
        "Engine number.\n",
        "\n",
        "Input Description:\n",
        "You are given a string ’s’\n",
        "\n",
        "Output Description:\n",
        "Print the engine number\n",
        "\n",
        "Sample Input :\n",
        "HR05-AA-2669\n",
        "Sample Output :\n",
        "28\"\"\"\n",
        "n = input()\n",
        "print(sum(int(i) for i in n if i.isdigit()))\n",
        "\n",
        "#my code\n",
        "n = input()\n",
        "engine_no = 0\n",
        "for i in n:\n",
        "    if i.isdigit():\n",
        "        engine_no += int(i)\n",
        "print(engine_no)"
      ],
      "metadata": {
        "colab": {
          "base_uri": "https://localhost:8080/"
        },
        "id": "NBzzpheSbUA8",
        "outputId": "258c106a-2fe5-4942-cb42-2f6908a868bb"
      },
      "execution_count": null,
      "outputs": [
        {
          "output_type": "stream",
          "name": "stdout",
          "text": [
            "HR05-AA-2669\n",
            "28\n"
          ]
        }
      ]
    },
    {
      "cell_type": "code",
      "source": [
        "# Task 21\n",
        "\"\"\"You are given a string ‘s’.\n",
        "Your task is to find whether string is beautiful or not.\n",
        "A string is said to be beautiful whenever string is made up of only three characters.\n",
        " All the three characters must be distinct. Print true if string is beautiful and false when it is not beautiful\n",
        "\n",
        "Input Description:\n",
        "You are given a string\n",
        "\n",
        "Output Description:\n",
        "Print ‘1’ when string is beautiful and ‘0’ when it is not\n",
        "\n",
        "Sample Input :\n",
        "Aab\n",
        "Sample Output :\n",
        "1\"\"\"\n",
        "s = input()\n",
        "if len(set(s)) == 3:\n",
        "  print(\"1\")\n",
        "else:\n",
        "  print(\"0\")\n",
        "\n",
        "# My idea\n",
        "s = input()\n",
        "flag = None\n",
        "for i in s:\n",
        "    if s.count(i) != 1:\n",
        "        flag = True\n",
        "if flag:\n",
        "    print(\"0\")\n",
        "else:\n",
        "    print(\"1\")"
      ],
      "metadata": {
        "id": "9EgToF5pcuj2"
      },
      "execution_count": null,
      "outputs": []
    },
    {
      "cell_type": "code",
      "source": [
        "# Task 22\n",
        "\"\"\"Indian PAN card issuing authority have found some fake PAN cards.\n",
        "They have hired you so that you can validate PAN card for them.\n",
        "Your task is to develop a suitable algorithm which could check if pan is valid or not\n",
        "\n",
        "1)Pan must have uppercase letters only.\n",
        "\n",
        "2)It must be of 10 character only\n",
        "\n",
        "3)From index 1 to 5 all must be letters(A-Z),last index must be letter\n",
        "\n",
        "4)Rest all must be integer Starting from 1\n",
        "\n",
        "Input Description:\n",
        "You are given a input string which indicates the PAN number\n",
        "\n",
        "Output Description:\n",
        "Print 'pan' if it is valid PAN number, else print 'not pan'\n",
        "\n",
        "Sample Input :\n",
        "HXTPS2142R\n",
        "Sample Output :\n",
        "pan\"\"\"\n",
        "s = input()\n",
        "if len(s) == 10 and s.isupper() and (s[0:5].isalpha() and s[-1].isalpha()) and s[-5:-1].isdigit() and '0' not in s[-5:-1]:\n",
        "    print(\"pan\")\n",
        "else:\n",
        "    print(\"not pan\")"
      ],
      "metadata": {
        "id": "c3Ozg2VQfsLg"
      },
      "execution_count": null,
      "outputs": []
    },
    {
      "cell_type": "code",
      "source": [
        "# task 23\n",
        "\"\"\"Given a string S, print 'yes' if it is a palindrome or 'no' if it is not a palindrome.\n",
        "Sample Testcase :\n",
        "INPUT\n",
        "lappal\n",
        "OUTPUT\n",
        "yes\"\"\"\n",
        "s = input()\n",
        "if s == s[::-1]:\n",
        "  print(\"yes\")\n",
        "else:\n",
        "  print(\"no\")"
      ],
      "metadata": {
        "id": "m3edxkzwjMhh"
      },
      "execution_count": null,
      "outputs": []
    },
    {
      "cell_type": "markdown",
      "source": [
        "18-09-2024"
      ],
      "metadata": {
        "id": "Eh6jUsJxVaQ7"
      }
    },
    {
      "cell_type": "code",
      "source": [
        "# Task 24\n",
        "\"\"\"Given a string S, find its length(including the spaces)without using any pre-defined functions.\n",
        "Sample Testcase :\n",
        "INPUT\n",
        "codekata\n",
        "OUTPUT\n",
        "8\"\"\"\n",
        "s = input()\n",
        "count = 0\n",
        "for _ in s:\n",
        "    count += 1\n",
        "print(count)"
      ],
      "metadata": {
        "id": "foEsgIv3Vb8C"
      },
      "execution_count": null,
      "outputs": []
    },
    {
      "cell_type": "code",
      "source": [
        "# Task 25 (Incomplete)\n",
        "\"\"\"Given a number ‘n’, your task is to  generate all n-bit grey code sequences,\n",
        "“a grey code sequence is a sequence such that successive patterns in it differ by one bit”\n",
        "\n",
        "Input Description:\n",
        "You are given an number ‘n’.\n",
        "\n",
        "Output Description:\n",
        "Print the grey code sequence\n",
        "\n",
        "Sample Input :\n",
        "2\n",
        "Sample Output :\n",
        "00 01 11 10\"\"\""
      ],
      "metadata": {
        "id": "Rlfqu0DGWRtl"
      },
      "execution_count": null,
      "outputs": []
    },
    {
      "cell_type": "code",
      "source": [
        "# Task 26\n",
        "\"\"\" Jennyfer is fond of strings. She wants to read the character from right to left (reverse the string), so she wants you to design a suitable algorithm which satisfy her desire.\n",
        "\n",
        "Input Description:\n",
        "Enter the string ‘s’\n",
        "\n",
        "Output Description:\n",
        "Print the string from characters right to left.\n",
        "\n",
        "Sample Input :\n",
        "jennyfer\n",
        "Sample Output :\n",
        "Refynnej\"\"\"\n",
        "n = input()\n",
        "print(n[::-1].title())"
      ],
      "metadata": {
        "id": "nKu_fq09CUMp"
      },
      "execution_count": null,
      "outputs": []
    },
    {
      "cell_type": "code",
      "source": [
        "# Task 27\n",
        "\"\"\"Given a string S,\n",
        "print it after changing the middle element to * (if the length of the string is even, change the 2 middle elements to *).\n",
        "Sample Testcase :\n",
        "INPUT\n",
        "hello\n",
        "OUTPUT\n",
        "he*lo\"\"\"\n",
        "\n",
        "s = input()\n",
        "middle = int(len(s)/2)\n",
        "if len(s) % 2 == 0:\n",
        "  s = s.replace(s[middle-1:middle+1], '**')\n",
        "else:\n",
        "  s = s.replace(s[middle], '*')\n",
        "print(s)\n"
      ],
      "metadata": {
        "colab": {
          "base_uri": "https://localhost:8080/"
        },
        "id": "AFxqvN63C0xP",
        "outputId": "0dad4cf3-4180-41eb-fb4f-e1b08112fccf"
      },
      "execution_count": null,
      "outputs": [
        {
          "output_type": "stream",
          "name": "stdout",
          "text": [
            "hel**o78\n"
          ]
        }
      ]
    },
    {
      "cell_type": "code",
      "source": [
        "# task 28\n",
        "\"\"\"Guvi developed a new system to make sure no two usernames are same.\n",
        "So, they hired you as a developer to develop this system.\n",
        "They have set some rules to do the same.If you see the same username that already exists,\n",
        "just add a number at the end of that username ,else print \"Verified\".\n",
        "\n",
        "Input Description:\n",
        "First line consists of an integer N, denoting number of usernames. Second line consists of N spaced separated Strings, denoting usernames.\n",
        "\n",
        "Output Description:\n",
        "print the required output in a new line.\n",
        "\n",
        "Sample Input :\n",
        "4\n",
        "abc aab abc aba\n",
        "Sample Output :\n",
        "Verified Verified abc1 aba\"\"\"\n",
        "\n"
      ],
      "metadata": {
        "id": "MORPf8KbC5UV",
        "colab": {
          "base_uri": "https://localhost:8080/"
        },
        "outputId": "4b273c05-44fd-4945-a5fb-3ab18ee14896"
      },
      "execution_count": null,
      "outputs": [
        {
          "output_type": "stream",
          "name": "stdout",
          "text": [
            "abc2\n",
            "Verified\n",
            "abc2\n",
            "Verified\n"
          ]
        }
      ]
    },
    {
      "cell_type": "code",
      "source": [
        "# Task 29\n",
        "\"\"\"You are given a string ‘s’.Your task is to print the string in alternate lowercase and uppercase order.\n",
        "\n",
        "Input Description:\n",
        "You are given a string\n",
        "\n",
        "Output Description:\n",
        "Print the string according to given criteria\n",
        "\n",
        "Sample Input :\n",
        "abcd efgh ijkl\n",
        "Sample Output :\n",
        "ABCD efgh IJKL\"\"\"\n",
        "text = input().split()\n",
        "new_list = []\n",
        "for i in range(1,len(text)+1):\n",
        "    if i % 2 != 0:\n",
        "        new_list.append(text[i-1].upper())\n",
        "    else:\n",
        "        new_list.append(text[i-1].lower())\n",
        "print(*new_list)"
      ],
      "metadata": {
        "colab": {
          "base_uri": "https://localhost:8080/"
        },
        "id": "vPCtDZLvnhtG",
        "outputId": "c76dd8d5-673c-4442-9f4d-523154c0aac0"
      },
      "execution_count": null,
      "outputs": [
        {
          "output_type": "stream",
          "name": "stdout",
          "text": [
            "ABCD efgh IJKL\n"
          ]
        }
      ]
    },
    {
      "cell_type": "code",
      "source": [
        "# Task 30\n",
        "\"\"\"You are given a string ‘s’. Your task is to print the characters which are not repeated with a single space in between the characters.\n",
        "Input Description:\n",
        "You are given a string ‘s’.\n",
        "\n",
        "Output Description:\n",
        "Print the characters present once and -1 if there is no character which satisfy above condition\n",
        "\n",
        "Sample Input :\n",
        "dabbc\n",
        "Sample Output :\n",
        "d a c\"\"\"\n",
        "n = input()\n",
        "new_string  = []\n",
        "for i in n:\n",
        "    if n.count(i) == 1:\n",
        "        new_string.append(i)\n",
        "print(*new_string)"
      ],
      "metadata": {
        "id": "WyL2T0gDoMHO"
      },
      "execution_count": null,
      "outputs": []
    },
    {
      "cell_type": "code",
      "source": [
        "# Task 31\n",
        "\"\"\"Given a string S, print 2 strings such that first string containing all characters in odd position(s)\n",
        "and other containing all characters in even position(s).\n",
        "Sample Testcase :\n",
        "INPUT\n",
        "XCODE\n",
        "OUTPUT\n",
        "XOE CD\"\"\"\n",
        "n = input()\n",
        "odd = ''\n",
        "even = ''\n",
        "for i in range(1, len(n)+1):\n",
        "    if i%2 == 0:\n",
        "        even += n[i-1]\n",
        "    else:\n",
        "        odd += n[i-1]\n",
        "print(odd + ' ' + even)"
      ],
      "metadata": {
        "id": "IRWZ3NdxpMMa"
      },
      "execution_count": null,
      "outputs": []
    },
    {
      "cell_type": "code",
      "source": [
        "# Task 32\n",
        "\"\"\"You are given two string ‘s1’ and ‘s2’.\n",
        "You have to tell whether these form pair of (strset) A pair of strings is said to be str set if one string is substring of other.\n",
        "\n",
        "Input Description:\n",
        "You are given two strings ‘s1’ and ‘s2’\n",
        "\n",
        "Output Description:\n",
        "Print Yes if they form strset and No if they don’t.\n",
        "\n",
        "Sample Input :\n",
        "abc ab\n",
        "Sample Output :\n",
        "Yes\"\"\"\n",
        "str1, str2 = input().split()\n",
        "if str2 in str1:\n",
        "  print('Yes')\n",
        "else:\n",
        "  print('No')"
      ],
      "metadata": {
        "colab": {
          "base_uri": "https://localhost:8080/"
        },
        "id": "yaJX3ZEjpUnV",
        "outputId": "6bc49892-e7f6-4eaa-f9fe-15a177bb7e61"
      },
      "execution_count": null,
      "outputs": [
        {
          "output_type": "stream",
          "name": "stdout",
          "text": [
            "abe ab\n",
            "Yes\n"
          ]
        }
      ]
    },
    {
      "cell_type": "code",
      "source": [
        "# Task 33\n",
        "\"\"\"n a school there are voting to choose the monitor of class.\n",
        "Your task is to tell which candidate is winner and if there is a tie print the name of candidate whose come first in lexicographical order.\n",
        "\n",
        "Input Description:\n",
        "You are given with the space separated names.\n",
        "\n",
        "Output Description:\n",
        "Print the winner’s name and the votes he earned.\n",
        "\n",
        "Sample Input :\n",
        "john johnny jackie johnny john jackie jamie jamie john johnny jamie johnny john\n",
        "Sample Output :\n",
        "john 4\"\"\"\n",
        "arr = input().split()\n",
        "new_dict = {}\n",
        "for i in arr:\n",
        "  new_dict.update({i:arr.count(i)})\n",
        "\n",
        "max_score = new_dict.values()\n",
        "students = [i for i in new_dict.keys() if new_dict[i] == max(max_score)]\n",
        "students.sort()\n",
        "print(students[0], max(max_score))"
      ],
      "metadata": {
        "id": "mPHEEuogrU8g",
        "colab": {
          "base_uri": "https://localhost:8080/"
        },
        "outputId": "c3d0806c-ac66-41a1-e11a-a25768ee1726"
      },
      "execution_count": 12,
      "outputs": [
        {
          "output_type": "stream",
          "name": "stdout",
          "text": [
            "john siva siva siva siva\n",
            "siva 4\n"
          ]
        }
      ]
    },
    {
      "cell_type": "code",
      "source": [
        "# Task 34 (pending)\n",
        "\"\"\"Given an array of pairs of strings, find if there are mirror pairs.\n",
        "(s1, s2) & (s3, s4) are mirror pairs, if s1 = s4 and s2 = s3. The first string in each pair is distinct.\n",
        "\n",
        "Input Description:\n",
        "The first line contains the number string pairs N. Then N string pairs follow.\n",
        "\n",
        "Output Description:\n",
        "Print YES, if a mirror pair exists, print NO otherwise.\n",
        "\n",
        "Sample Input :\n",
        "3\n",
        "raja kili\n",
        "pan quil\n",
        "kili raja\n",
        "Sample Output :\n",
        "YES\"\"\""
      ],
      "metadata": {
        "id": "gfXq7RYbrs9v"
      },
      "execution_count": null,
      "outputs": []
    },
    {
      "cell_type": "code",
      "source": [
        "# Task 35\n",
        "\"\"\"You are given some words all in lower case letters your task is to print them in sorted order.\n",
        "\n",
        "Input Description:\n",
        "You are given a string ‘s’\n",
        "\n",
        "Output Description:\n",
        "Print the string in sorted order\n",
        "\n",
        "Sample Input :\n",
        "virat kohli\n",
        "Sample Output :\n",
        "kohli virat\"\"\"\n",
        "arr = input().split()\n",
        "arr.sort()\n",
        "print(*arr)"
      ],
      "metadata": {
        "colab": {
          "base_uri": "https://localhost:8080/"
        },
        "id": "P-KKD3filQrG",
        "outputId": "44a37143-05b0-4157-ee1f-3ba76b5809fa"
      },
      "execution_count": 14,
      "outputs": [
        {
          "output_type": "stream",
          "name": "stdout",
          "text": [
            "virat kohli\n",
            "kohli virat\n"
          ]
        }
      ]
    },
    {
      "cell_type": "code",
      "source": [
        "#Task 36\n",
        "\"\"\"Given 2 strings,check whether they have any common characters.If found print 'yes' else print 'no'.\n",
        "Input Size : |s| <= 100000(O(n))\n",
        "Sample Testcase :\n",
        "INPUT\n",
        "guvi guvigeeks\n",
        "OUTPUT\n",
        "yes\"\"\"\n",
        "s1, s2 = input().split()\n",
        "x = set(s1).intersection(set(s2))\n",
        "if len(x) > 1:\n",
        "  print(\"yes\")\n",
        "else:\n",
        "  print(\"no\")"
      ],
      "metadata": {
        "colab": {
          "base_uri": "https://localhost:8080/"
        },
        "id": "cGfNq3xlbvC5",
        "outputId": "d189b781-69d1-4514-d04b-f5c583c0501c"
      },
      "execution_count": null,
      "outputs": [
        {
          "output_type": "stream",
          "name": "stdout",
          "text": [
            "learn code\n",
            "yes\n"
          ]
        }
      ]
    },
    {
      "cell_type": "code",
      "source": [
        "# Task 37\n",
        "\"\"\"You are given a string ‘S’ consisting of lowercase Latin Letters.\n",
        "Find the first non repeating character in S. If you find all the characters are repeating print the answer as -1\n",
        "\n",
        "Input Description:\n",
        "You are given a string ‘s’\n",
        "\n",
        "Output Description:\n",
        "Print the first non occurring character if possible else -1.\n",
        "\n",
        "Sample Input :\n",
        "apple\n",
        "Sample Output :\n",
        "a\"\"\"\n",
        "arr = input()\n",
        "non_occur_char = \"\"\n",
        "for i in arr:\n",
        "  if arr.count(i) == 1:\n",
        "    non_occur_char += i\n",
        "\n",
        "if len(non_occur_char) > 0:\n",
        "  print(non_occur_char[0])\n",
        "else:\n",
        "  print(-1)"
      ],
      "metadata": {
        "colab": {
          "base_uri": "https://localhost:8080/"
        },
        "id": "CypqJ_OMlum6",
        "outputId": "cd70cc5e-2e69-4c58-cc08-c0d28c50ea55"
      },
      "execution_count": 21,
      "outputs": [
        {
          "output_type": "stream",
          "name": "stdout",
          "text": [
            "-1\n"
          ]
        }
      ]
    },
    {
      "cell_type": "code",
      "source": [
        "# Task 38\n",
        "\"\"\"You are given a string ‘s’. Your task is to tell whether string is beautiful or not.\n",
        "A beautiful string is a string in which String starts with ‘a’ or ‘A’ and middle element is either ‘m’ or ‘M’ and last element is ‘z’or ‘Z’\n",
        "\n",
        "Input Description:\n",
        "You are given a string ‘s’.\n",
        "\n",
        "Output Description:\n",
        "Print 1 if string is beautiful and 0 if it is not\n",
        "\n",
        "Sample Input :\n",
        "Amz\n",
        "Sample Output :\n",
        "1\"\"\"\n",
        "s = input()\n",
        "if (s.startswith('A') or s.startswith('a')) and (s.endswith('z') or s.endswith('Z')) and (s[len(s)//2] == 'M' or s[len(s)//2] == 'm'):\n",
        "  print(1)\n",
        "else:\n",
        "  print(0)"
      ],
      "metadata": {
        "colab": {
          "base_uri": "https://localhost:8080/"
        },
        "id": "LWGDpPEun1w2",
        "outputId": "92fa1955-e509-4403-ad87-ebe266a5c45e"
      },
      "execution_count": 27,
      "outputs": [
        {
          "output_type": "stream",
          "name": "stdout",
          "text": [
            "0\n"
          ]
        }
      ]
    },
    {
      "cell_type": "code",
      "source": [
        "# Task 39\n",
        "\"\"\"Given a string S, print the encoded string by adding 3 to each character(a maps to d,b maps to e,c maps to f and so on).\n",
        "Input Size : 1 <= N <= 100000\n",
        "Sample Testcase :\n",
        "INPUT\n",
        "RADAR\n",
        "OUTPUT\n",
        "UDGDU\"\"\"\n",
        "\n",
        "s = input()\n",
        "encoded_s = ''\n",
        "for i in s:\n",
        "  x = ord(i)\n",
        "  if i.islower():\n",
        "    if x > 96 and x < 120:\n",
        "      encoded_s += chr(x+3)\n",
        "    else:\n",
        "      encoded_s += chr(x-23)\n",
        "  else:\n",
        "    if x > 65 and x < 88:\n",
        "      encoded_s += chr(x+3)\n",
        "    else:\n",
        "      encoded_s += chr(x-23)\n",
        "print(encoded_s)"
      ],
      "metadata": {
        "colab": {
          "base_uri": "https://localhost:8080/"
        },
        "id": "oAabHg7Vphzl",
        "outputId": "38af119b-b9de-462f-fcc8-01f393f1e089"
      },
      "execution_count": 55,
      "outputs": [
        {
          "output_type": "stream",
          "name": "stdout",
          "text": [
            "87\n",
            "ZABC\n"
          ]
        }
      ]
    },
    {
      "cell_type": "markdown",
      "source": [
        "# **Debugging**"
      ],
      "metadata": {
        "id": "__12aK1aSkem"
      }
    },
    {
      "cell_type": "code",
      "source": [
        "r, c = map(int, input().split())\n",
        "for i in range(1,r+1):\n",
        "    new_list = []\n",
        "    if (i==1) or (i==r):\n",
        "        for _ in range(c):\n",
        "            new_list.append('*')\n",
        "        print(new_list)\n",
        "    for j in range(1, c+1):\n",
        "        if (i==1) or (j==1) or (i==r) or (j==c):\n",
        "            print('*', end=' ')\n",
        "        else:\n",
        "            print(\" \", end=' ')\n",
        "    print()"
      ],
      "metadata": {
        "id": "aBg9yjBXsnTC"
      },
      "execution_count": null,
      "outputs": []
    },
    {
      "cell_type": "code",
      "source": [
        "r, c = map(int, input().split())\n",
        "for i in range(1,r+1):\n",
        "    new_list = []\n",
        "    if (i==1) or (i==r):\n",
        "        for _ in range(c):\n",
        "            new_list.append('*')\n",
        "        print(*new_list)\n",
        "    else:\n",
        "        for _ in range(c):\n",
        "            if (_==0) or (_==c-1):\n",
        "                new_list.append('*')\n",
        "            else:\n",
        "                new_list.append(' ')\n",
        "        print(*new_list)"
      ],
      "metadata": {
        "colab": {
          "base_uri": "https://localhost:8080/"
        },
        "id": "tqXz1q4ts1Mk",
        "outputId": "54341901-3aa2-4d92-de9a-e0c5933b8251"
      },
      "execution_count": null,
      "outputs": [
        {
          "output_type": "stream",
          "name": "stdout",
          "text": [
            "3 5\n",
            "* * * * *\n",
            "*       *\n",
            "* * * * *\n"
          ]
        }
      ]
    },
    {
      "cell_type": "markdown",
      "source": [
        "# **Array Codekata**"
      ],
      "metadata": {
        "id": "fN8LcTz7PnnW"
      }
    },
    {
      "cell_type": "code",
      "source": [
        "# Task 1\n",
        "\"\"\"A person saves his monthly saving according to given schema.\n",
        "He saves same amount of money which is equal to the money saved in immediate previous two months.\n",
        "Assume, initially he saved 1000 rupees and in first month he saved another 1000.\n",
        "Your task is to tell how much he had totally saved at the end of ‘n’ months\n",
        "Input Description:\n",
        "You will be given a number ‘n’->No. of months\n",
        "Output Description:\n",
        "Print the total savings at the end of ‘n’ months\n",
        "Sample Input :\n",
        "1\n",
        "Sample Output :\n",
        "2000\"\"\"\n",
        "\n",
        "n = int(input(''))\n",
        "initial_amount = 1000\n",
        "for i in range(1, n+1):\n",
        "    initial_amount += i*1000\n",
        "print(initial_amount)"
      ],
      "metadata": {
        "id": "1FEG4liyPssE"
      },
      "execution_count": null,
      "outputs": []
    },
    {
      "cell_type": "code",
      "source": [
        "# Task 2\n",
        "\"\"\"You are given with an circular array .Your task is calculate the\n",
        "difference between two consecutive number. And if difference is greater than ‘k’, print 1 else print 0\n",
        "\n",
        "Input Description:\n",
        "You are given two numbers ‘n’, ’m’. Next line contains n space separated integers.\n",
        "\n",
        "Output Description:\n",
        "Print 1 if the difference is greater than ‘m’.\n",
        "\n",
        "Sample Input :\n",
        "5 15\n",
        "50 65 85 98 35\n",
        "Sample Output :\n",
        "0 1 0 1 0\"\"\"\n",
        "\n",
        "def circular_array_difference(n, m, arr):\n",
        "    result = []\n",
        "    for i in range(n):\n",
        "        diff = abs(arr[i] - arr[(i + 1) % n])\n",
        "        if diff > m:\n",
        "            result.append('1')\n",
        "        else:\n",
        "            result.append('0')\n",
        "    print(' '.join(result))\n",
        "\n",
        "n, m = map(int, input().split())\n",
        "arr = list(map(int, input().split()))\n",
        "\n",
        "circular_array_difference(n, m, arr)"
      ],
      "metadata": {
        "id": "WAz1LVzfQrmf"
      },
      "execution_count": null,
      "outputs": []
    },
    {
      "cell_type": "code",
      "source": [
        "# Task 3\n",
        "\"\"\"You are given with an array. For each element present in the array your task is to\n",
        "print the next smallest than that number. If it is not smallest print -1\n",
        "\n",
        "Input Description:\n",
        "You are given a number ‘n’ representing size of array. And n space separated numbers.\n",
        "\n",
        "Output Description:\n",
        "Print the next smallest number present in array and -1 if no smallest is present\n",
        "\n",
        "Sample Input :\n",
        "7\n",
        "10 7 9 3 2 1 15\n",
        "Sample Output :\n",
        "7 3 3 2 1 -1 -1\n",
        "\"\"\"\n",
        "n = int(input())\n",
        "k = list(map(int, input().split()))\n",
        "count = 1\n",
        "new_list = []\n",
        "for i in range(len(k)):\n",
        "    l = count\n",
        "    while l < n-1:\n",
        "        if k[i] > k[l]:\n",
        "            new_list.append(k[l])\n",
        "            break\n",
        "        l += 1\n",
        "    else:\n",
        "        new_list.append(-1)\n",
        "    count+=1\n",
        "\n",
        "final_list = ''\n",
        "for i in new_list:\n",
        "    final_list += ' ' + str(i)\n",
        "print(final_list.strip())"
      ],
      "metadata": {
        "id": "wXZ4sMDvQjJz"
      },
      "execution_count": null,
      "outputs": []
    },
    {
      "cell_type": "code",
      "source": [
        "# Task 4\n",
        "\"\"\"you are given with an array of numbers,\n",
        "Your task is to print the difference of indices of largest and smallest number.All number are unique.\n",
        "Input Description:\n",
        "First line contains a number ‘n’. Then next line contains n space separated numbers.\n",
        "Output Description:\n",
        "Print the difference of indices of largest and smallest array\n",
        "Sample Input :\n",
        "5\n",
        "1 6 4 0 3\n",
        "Sample Output :\n",
        "-2\"\"\"\n",
        "\n",
        "n = int()\n",
        "l = list(map(int, input().split()))\n",
        "print(l.index(max(l)) - l.index(min(l)))"
      ],
      "metadata": {
        "id": "aFY09EoiQeeZ"
      },
      "execution_count": null,
      "outputs": []
    },
    {
      "cell_type": "code",
      "source": [
        "# Task 5\n",
        "\"\"\"You are a passport issuer, but due to some problems in the system, there are redundant\n",
        "passport numbers. Your task is to delete all the duplicate passport numbers.\n",
        "You are given a list of passport numbers.\n",
        "\n",
        "\n",
        "Input Description:\n",
        "You are given length of list.Second line,You are given with a list.\n",
        "\n",
        "Output Description:\n",
        "Print the list of passport numbers without duplicates.\n",
        "\n",
        "Sample Input :\n",
        "5\n",
        "A23 B56 B56 C79 D16\n",
        "Sample Output :\n",
        "A23 B56 C79 D16\"\"\"\n",
        "\n",
        "n = 5\n",
        "k = list(\"A23 B56 B56 C79 D16\".split())\n",
        "new_list = []\n",
        "for i in k:\n",
        "    if i not in new_list:\n",
        "        new_list.append(i)\n",
        "print(' '.join(new_list).strip())"
      ],
      "metadata": {
        "id": "mJlOoLpYQVb6"
      },
      "execution_count": null,
      "outputs": []
    },
    {
      "cell_type": "code",
      "source": [
        "# Task 6\n",
        "\"\"\"You are given a number with duplicate digits your task is to remove the immediate duplicate digits and print the result\n",
        "\n",
        "Input Description:\n",
        "You are given a long string of digits\n",
        "\n",
        "Output Description:\n",
        "Print the desired result print -1 if result length is 0\n",
        "\n",
        "Sample Input :\n",
        "1331\n",
        "Sample Output :\n",
        "11\"\"\"\n",
        "n = input()\n",
        "\n",
        "for x in range(len(n)-1):\n",
        "  if x < len(n) and x > 0:\n",
        "    if n[x] == n[x+1] or n[x] == n[x-1]:\n",
        "      n = n.replace(n[x],'')\n",
        "\n",
        "if len(n) == 0:\n",
        "  print(\"-1\")\n",
        "else:\n",
        "  print(n)"
      ],
      "metadata": {
        "id": "rfmbCCzMr8rq"
      },
      "execution_count": null,
      "outputs": []
    },
    {
      "cell_type": "code",
      "source": [
        "# Task 7\n",
        "\"\"\"Assume you are a student studying in school.\n",
        "You are given a task to find first negative integer for each and every window of size k.\n",
        "\n",
        "Input Description:\n",
        "First line contains an integer n denoting the size of the array.\n",
        "The next line contains n space separated integers forming the array.\n",
        "The last line contains the window size k.\n",
        "\n",
        "Output Description:\n",
        "Print the first negative integer in that window.If all the numbers are positive print 0\n",
        "\n",
        "Sample Input :\n",
        "7\n",
        "1 -2 -3 -4 5 6 -7\n",
        "3\n",
        "Sample Output :\n",
        "-2 -2 -3 -4 -7\"\"\"\n",
        "\n",
        "n = int(input())\n",
        "k = list(map(int, input().split()))\n",
        "ws = int(input())\n",
        "negative_int = []\n",
        "for i in range(len(k)):\n",
        "    if len(k[i:(i+ws)]) == 3:\n",
        "        for j in k[i:(i+ws)]:\n",
        "            if j < 0:\n",
        "                negative_int.append(j)\n",
        "                break\n",
        "        else:\n",
        "            negative_int.append(0)\n",
        "final_list = ''\n",
        "for i in negative_int:\n",
        "    final_list += ' ' + str(i)\n",
        "print(final_list.strip())"
      ],
      "metadata": {
        "id": "XXfYh4lWQT9B"
      },
      "execution_count": null,
      "outputs": []
    },
    {
      "cell_type": "code",
      "source": [
        "# Task 8\n",
        "\"\"\"You are given an array of ids of prisoners. The jail authority found that there are some prisoners of same id. Your task is to help the authority in finding the common ids.\n",
        "Input Description:\n",
        "First line contains a number ‘n’ representing no of prisoners. Next line contains n space separated numbers.\n",
        "\n",
        "Output Description:\n",
        "Print the ids which are not unique. Print -1 if all ids are unique\n",
        "\n",
        "Sample Input :\n",
        "7\n",
        "1 1 11 121 131 141 98\n",
        "Sample Output :\n",
        "1\"\"\"\n",
        "n = int(input())\n",
        "id = list(map(int, input().split()))\n",
        "val = [i for i in id if id.count(i) != 1]\n",
        "if len(val) > 0:\n",
        "    new_list = set(val)\n",
        "    print(' '.join(map(str, new_list)).strip())\n",
        "else:\n",
        "    print(-1)"
      ],
      "metadata": {
        "id": "ka2znkN3QI3B"
      },
      "execution_count": null,
      "outputs": []
    },
    {
      "cell_type": "code",
      "source": [
        "# Task 9\n",
        "\"\"\"You are given with two arrays.\n",
        "Your task is to merge the array such that first array is in ascending order and second one in descending order.\n",
        "\n",
        "Input Description:\n",
        "First line contains two integer ‘n’ and ‘m’. ‘n’ denotes length of array 1 and ‘m’ of array 2.Next line contains n space separated numbers and third line contains ‘m’ space separated numbers\n",
        "\n",
        "Output Description:\n",
        "Print a single array in desired order\n",
        "\n",
        "Sample Input :\n",
        "3 3\n",
        "23 15 16\n",
        "357 65 10\n",
        "Sample Output :\n",
        "15 16 23 357 65 10\"\"\"\n",
        "\n",
        "n = list(map(int, input().split()))\n",
        "first_array = list(map(int, input().split()))\n",
        "second_array = list(map(int, input().split()))\n",
        "first_array.sort()\n",
        "second_array.sort(reverse=True)\n",
        "final_output = first_array + second_array\n",
        "print(' '.join(map(str, final_output)).strip())\n"
      ],
      "metadata": {
        "colab": {
          "base_uri": "https://localhost:8080/"
        },
        "id": "8O1i5URJrfkj",
        "outputId": "70aae219-2fcd-4c15-c882-b6788fae32be"
      },
      "execution_count": null,
      "outputs": [
        {
          "output_type": "stream",
          "name": "stdout",
          "text": [
            "15 16 23 357 65 10\n"
          ]
        }
      ]
    },
    {
      "cell_type": "code",
      "source": [
        "# Task 10\n",
        "\"\"\"Given 2 numbers N and K followed by elements of N .Print 'yes' if K exists else print 'no'.\n",
        "Sample Testcase :\n",
        "INPUT\n",
        "4 2\n",
        "1 2 3 3\n",
        "OUTPUT\n",
        "yes\"\"\"\n",
        "n = input().split()\n",
        "k = input().split()\n",
        "\n",
        "value = ''\n",
        "for i in n:\n",
        "    if i in k:\n",
        "       value = 'yes'\n",
        "    else:\n",
        "       value = 'no'\n",
        "\n",
        "print(value)"
      ],
      "metadata": {
        "id": "jvZMjxTsuP9Q"
      },
      "execution_count": null,
      "outputs": []
    },
    {
      "cell_type": "code",
      "source": [
        "# Task 11\n",
        "\"\"\"Ramesh is a student and wants to find out if there is any other student in his class who has got the same marks as his, in maths.\n",
        "Help him to find out.\n",
        "\n",
        "Input Description:\n",
        "First line contains the number of students in the class followed by Ramesh’s mark. Second line contains the marks of all students in the class.\n",
        "\n",
        "Output Description:\n",
        "Index of student who got mark same as Ramesh’s mark. If no such mark exists, return -1.\n",
        "\n",
        "Sample Input :\n",
        "2 10\n",
        "1 2\n",
        "Sample Output :\n",
        "-1\"\"\"\n",
        "no_of_student, ramesh_mark = map(int, input().split())\n",
        "marks_of_all = list(map(int, input().split()))\n",
        "if ramesh_mark in marks_of_all:\n",
        "    print(marks_of_all.index(ramesh_mark))\n",
        "else:\n",
        "    print(-1)"
      ],
      "metadata": {
        "id": "nHQeMfn3udjE"
      },
      "execution_count": null,
      "outputs": []
    },
    {
      "cell_type": "code",
      "source": [
        "# Task 12 (pending)\n",
        "\"\"\"Mr.Stark wants to order the employee ids, which are recorded in a 2D matrix, in ascending order.\n",
        "He wants to do it so as to allot a new id to a person who joins as a fresher.\n",
        "You are the CTO of the Stark industries and you are asked by Mr.Stark to sort the data.\n",
        "\n",
        "Input Description:\n",
        "Dimensions of the matrix m and n, followed by the elements of the matrix.\n",
        "\n",
        "Output Description:\n",
        "Matrix sorted in ascending order\n",
        "\n",
        "Sample Input :\n",
        "3 3\n",
        "87 21 34\n",
        "89 32 78\n",
        "12 23 45\n",
        "Sample Output :\n",
        "12 21 23\n",
        "32 34 45\n",
        "78 87 89\"\"\""
      ],
      "metadata": {
        "id": "a44RujVNwtW3"
      },
      "execution_count": null,
      "outputs": []
    },
    {
      "cell_type": "code",
      "source": [
        "# Task 13\n",
        "\"\"\"You are an intern at GUVI and the company wants to organise its data and delete unnecessary extra storage elements used.\n",
        "You are given k arrays of unequal dimensions. Sort the k arrays individually and concatenate them.\n",
        "\n",
        "Input Description:\n",
        "First line contains the number of arrays. Subsequent lines contain the size of the array followed by the elements of the array.\n",
        "\n",
        "Output Description:\n",
        "An array containing the sorted elements of k sorted arrays\n",
        "\n",
        "Sample Input :\n",
        "3\n",
        "2\n",
        "98 12\n",
        "6\n",
        "1 2 3 8 5 9\n",
        "1\n",
        "11\n",
        "Sample Output :\n",
        "12 98 1 2 3 5 8 9 11\"\"\"\n",
        "\n",
        "n = int(input())\n",
        "total_list = []\n",
        "for _ in range(1, n+1):\n",
        "    total_num = int(input())\n",
        "    list_of_num = list(map(int, input().split()))\n",
        "    list_of_num.sort()\n",
        "    total_list.append(list_of_num)\n",
        "new_list = []\n",
        "for i in range(len(total_list)):\n",
        "    new_list.extend(total_list[i])\n",
        "\n",
        "print(' '.join(map(str, new_list)).strip())"
      ],
      "metadata": {
        "id": "zGMUG07LpW1U"
      },
      "execution_count": null,
      "outputs": []
    },
    {
      "cell_type": "code",
      "source": [
        "# Task 14\n",
        "\"\"\"You are provided with an array in which all elements are repeated thrice except one which is repeated twice.\n",
        "Your task is to print that number.\n",
        "\n",
        "O(n) time and O(1) extra space\n",
        "\n",
        "\n",
        "Input Description:\n",
        "First line contains a number denoting size of array ‘n’.Next line contains n space separated numbers\n",
        "\n",
        "Output Description:\n",
        "Print the number which is repeated twice\n",
        "\n",
        "Sample Input :\n",
        "5\n",
        "13 12 13 12 13\n",
        "Sample Output :\n",
        "12\"\"\"\n",
        "\n",
        "n = int(input())\n",
        "arr = list(map(int, input().split()))\n",
        "for i in arr:\n",
        "    if arr.count(i) == 2:\n",
        "        if i != 1:\n",
        "          print(i)\n",
        "          break"
      ],
      "metadata": {
        "id": "GTDWkO4cpqIB"
      },
      "execution_count": null,
      "outputs": []
    },
    {
      "cell_type": "code",
      "source": [
        "# Task 15\n",
        "\"\"\"you are given with array of numbers.you have to find whether array is beautiful or not.\n",
        "A beautiful array is an array whose sum of all numbers is divisible by 2, 3 and 5\n",
        "\n",
        "Input Description:\n",
        "You are given a number ‘n’ denoting the size of array.Next line contains n space separated numbers.\n",
        "\n",
        "Output Description:\n",
        "Print 1 if array is beautiful and 0 if it is not\n",
        "\n",
        "Sample Input :\n",
        "5\n",
        "5 25 35 -5 30\n",
        "Sample Output :\n",
        "1\"\"\"\n",
        "\n",
        "n = int(input())\n",
        "m = list(map(int, input().split()))\n",
        "\n",
        "total_sum = sum(m)\n",
        "\n",
        "if total_sum % 2 == 0 and total_sum % 3 == 0 and total_sum % 5 == 0:\n",
        "    print(1)\n",
        "else:\n",
        "    print(0)"
      ],
      "metadata": {
        "colab": {
          "base_uri": "https://localhost:8080/"
        },
        "id": "kaEUym8GqPSh",
        "outputId": "611a777f-032c-4c40-8c5d-5ef83618bf0a"
      },
      "execution_count": null,
      "outputs": [
        {
          "output_type": "stream",
          "name": "stdout",
          "text": [
            "1\n",
            "1\n",
            "0\n"
          ]
        }
      ]
    },
    {
      "cell_type": "code",
      "source": [
        "# Task 16\n",
        "\"\"\"You are given an array. Your task is to sort the array in given manner.\n",
        "Print the elements in increasing order of the frequency. If frequency is same print smaller one first.\n",
        "\n",
        "Input Description:\n",
        "You are given a number ‘n’. Then in next line n space separated numbers.\n",
        "\n",
        "Output Description:\n",
        "Print the array as mentioned\n",
        "\n",
        "Sample Input :\n",
        "4\n",
        "1 1 3 2\n",
        "Sample Output :\n",
        "2 3 1\"\"\"\n",
        "\n",
        "n = int(input())\n",
        "arr= list(map(int,input().split()))\n",
        "\n",
        "from collections import Counter\n",
        "\n",
        "def frequencySort(nums):\n",
        "    cn = Counter(nums)\n",
        "    out = []\n",
        "    for k, v in sorted(cn.items(), key = lambda kv: (kv[1],kv[0])):\n",
        "        out.append(v*[k])\n",
        "\n",
        "    o = []\n",
        "    for i in out:\n",
        "        o+= i\n",
        "\n",
        "    final = []\n",
        "    for i in o:\n",
        "        if i not in final:\n",
        "            final.append(i)\n",
        "    return final\n",
        "\n",
        "print(*frequencySort(arr))\n"
      ],
      "metadata": {
        "colab": {
          "base_uri": "https://localhost:8080/"
        },
        "id": "AkQhSKuTsuer",
        "outputId": "880a5f8f-c13e-494f-a14f-3cd452ec7a16"
      },
      "execution_count": null,
      "outputs": [
        {
          "output_type": "stream",
          "name": "stdout",
          "text": [
            "2 1\n",
            "3 1\n",
            "1 2\n",
            "2 3 1\n"
          ]
        }
      ]
    },
    {
      "cell_type": "code",
      "source": [
        "# Task 17\n",
        "\"\"\"Given a string S, print it after changing the middle element to *\n",
        "(if the length of the string is even, change the 2 middle elements to *).\n",
        "Sample Testcase :\n",
        "INPUT\n",
        "hello\n",
        "OUTPUT\n",
        "he*lo\"\"\"\n",
        "\n",
        "s = input()\n",
        "middle = int(len(s)/2)\n",
        "if len(s) % 2 == 0:\n",
        "  s = s.replace(s[middle-1:middle+1], '**')\n",
        "else:\n",
        "  s = s.replace(s[middle], '*')\n",
        "print(s)"
      ],
      "metadata": {
        "colab": {
          "base_uri": "https://localhost:8080/"
        },
        "id": "ag4nEZsavBf-",
        "outputId": "14cf246e-463c-40fe-b40e-5659c3cbe9a7"
      },
      "execution_count": null,
      "outputs": [
        {
          "output_type": "stream",
          "name": "stdout",
          "text": [
            "datee\n",
            "else\n",
            "da*ee\n"
          ]
        }
      ]
    },
    {
      "cell_type": "code",
      "source": [
        "# Task 18 (To be done)\n",
        "\"\"\"You are a software engineer at an MNC. You are given the task of sorting the employees\n",
        "in your company based on their salary. Perform the task so that the employees, including yourself,\n",
        "will get a bonus from the management.\n",
        "\n",
        "CONSTRAINT:\n",
        "\n",
        "0<=salary<=1000000\n",
        "\n",
        "Input Description:\n",
        "Number of employees followed by their name and salary\n",
        "\n",
        "Output Description:\n",
        "Sorted list of employee names\n",
        "\n",
        "Sample Input :\n",
        "3\n",
        "Karthik 23000 rohan 81734 varshini 12343\n",
        "Sample Output :\n",
        "varshini\n",
        "Karthik\n",
        "Rohan\"\"\"\n",
        "n = int(input())\n",
        "lst = input().split()\n",
        "employee_dict = {lst[i]: lst[i + 1] for i in range(0, len(lst), 2)}\n",
        "sorted_dict = dict(sorted(employee_dict.items(), key=lambda item: item[1]))\n",
        "for i in sorted_dict.keys():\n",
        "    print(i)"
      ],
      "metadata": {
        "id": "tcQsxEgvyvqr"
      },
      "execution_count": null,
      "outputs": []
    },
    {
      "cell_type": "code",
      "source": [
        "# Task 19\n",
        "\"\"\"You are given an array of numbers.\n",
        "Print the least occurring element.\n",
        "If there is more than 1 element print all of them in decreasing order of their value.\n",
        "\n",
        "Input Description:\n",
        "You are given a number ‘n’ denoting size of array. Next line contains n space separated numbers.\n",
        "\n",
        "Output Description:\n",
        "Print the number as mentioned\n",
        "\n",
        "Sample Input :\n",
        "9\n",
        "1 6 4 56 56 56 6 4 2\n",
        "Sample Output :\n",
        "2 1\"\"\"\n",
        "n = int(input())\n",
        "elements = list(map(int, input().split()))\n",
        "elements_count = {i:elements.count(i) for i in elements}\n",
        "\n",
        "min_value = min(elements_count.values())\n",
        "min_keys = [key for key, value in elements_count.items() if value == min_value]\n",
        "\n",
        "min_keys.sort(reverse=True)\n",
        "print(' '.join(map(str, min_keys)))"
      ],
      "metadata": {
        "id": "H-gh4z-z5NHt"
      },
      "execution_count": null,
      "outputs": []
    },
    {
      "cell_type": "code",
      "source": [
        "# Task 20\n",
        "\"\"\"Pk finds it difficult to judge the minimum element in the list of elements given to him.\n",
        "Your task is to develop the algorithm in order to find the minimum element.\n",
        "\n",
        "Note:Don’t use sorting\n",
        "\n",
        "Input Description:\n",
        "You are given ‘n’ number of elements. Next line contains n space separated numbers.\n",
        "\n",
        "Output Description:\n",
        "Print the minimum element\n",
        "\n",
        "Sample Input :\n",
        "5\n",
        "3 4 9 1 6\n",
        "Sample Output :\n",
        "1\"\"\"\n",
        "n = int(input())\n",
        "list_1 = list(map(int, input().split()))\n",
        "\n",
        "temp = list_1[0]\n",
        "for i in list_1:\n",
        "    if temp < i:\n",
        "        temp = temp\n",
        "    else:\n",
        "        temp = i\n",
        "\n",
        "print(temp)"
      ],
      "metadata": {
        "id": "oL-zUKik5pM5"
      },
      "execution_count": null,
      "outputs": []
    },
    {
      "cell_type": "code",
      "source": [
        "# Task 21\n",
        "\"\"\"In a world cup tournament,no of goals scored by each team is given to you.\n",
        "Your task is to calculate net goal rate of each team.\n",
        "\n",
        "Net goal rate of team is calculated\n",
        "\n",
        "No of goals(team)- sum of(no of goals by last 3 teams)\n",
        "\n",
        "Input Description:\n",
        "You are given a number ‘n’.Next line contains n space separated numbers.\n",
        "\n",
        "Output Description:\n",
        "Print the net goal rate of each team\n",
        "\n",
        "Sample Input :\n",
        "5\n",
        "95 85 75 12 11\n",
        "Sample Output :\n",
        "-3 -13 -23 -86 -87\"\"\"\n",
        "n = int(input())\n",
        "goal = list(map(int,input().split()))\n",
        "final_list = []\n",
        "for i in goal:\n",
        "    total_sum = i - sum(goal[-3:])\n",
        "    final_list.append(total_sum)\n",
        "print(*final_list)"
      ],
      "metadata": {
        "id": "Kbcc60Ty6Xin"
      },
      "execution_count": null,
      "outputs": []
    },
    {
      "cell_type": "code",
      "source": [
        "# Task 22\n",
        "\"\"\"You are given with a list of size ‘n’.\n",
        "The list is imposed with a condition that all elements must be of range 0 to n-1.\n",
        "Your task is to rearrange the numbers such that arr[i] becomes arr[arr[i]].\n",
        "\n",
        "Input Description:\n",
        "You are given size of array ‘n’.n space separated numbers in next line.\n",
        "\n",
        "Output Description:\n",
        "Print all elements after rearranging.\n",
        "\n",
        "Sample Input :\n",
        "5\n",
        "4 0 2 1 3\n",
        "Sample Output :\n",
        "3 4 2 0 1\"\"\"\n",
        "n = int(input())\n",
        "numbers = list(map(int,input().split()))\n",
        "rearrange_list = []\n",
        "for i in range(0, n):\n",
        "    rearrange_list.append(numbers[numbers[i]])\n",
        "print(*rearrange_list)"
      ],
      "metadata": {
        "id": "Zmt2_vDa7PqR"
      },
      "execution_count": null,
      "outputs": []
    },
    {
      "cell_type": "code",
      "source": [
        "# Task 23\n",
        "\"\"\"Given a string S, print it without using semicolon in your program.\n",
        "Sample Testcase :\n",
        "INPUT\n",
        "hello world\n",
        "OUTPUT\n",
        "hello world\"\"\"\n",
        "userInput = input()\n",
        "print(userInput)"
      ],
      "metadata": {
        "id": "05SrL3Df8_o6"
      },
      "execution_count": null,
      "outputs": []
    },
    {
      "cell_type": "code",
      "source": [
        "# Task 24\n",
        "\"\"\"You are given two arrays of equal length.\n",
        "Your task is to merge the two arrays then sort them too and then find the sum of two middlemost elements.\n",
        "\n",
        "Input Description:\n",
        "You are given a number ‘n’. Then Next line contains first list of 'n' separated numbers.Third line contains second list of 'n' space separated numbers.\n",
        "\n",
        "Output Description:\n",
        "Print the sum of two middle elements\n",
        "\n",
        "Sample Input :\n",
        "5\n",
        "1 9 16 25 46\n",
        "2 3 4 5 6\n",
        "Sample Output :\n",
        "11\"\"\"\n",
        "n = int(input())\n",
        "array_1 = list(map(int,input().split()))\n",
        "array_2 = list(map(int, input().split()))\n",
        "merged_array = sorted(array_1 + array_2)\n",
        "middle_element = int(len(merged_array)/2)\n",
        "print(merged_array[middle_element-1] + merged_array[middle_element])"
      ],
      "metadata": {
        "id": "FonM2wLF9Gdy"
      },
      "execution_count": null,
      "outputs": []
    },
    {
      "cell_type": "code",
      "source": [
        "# Task 25\n",
        "\"\"\"Given a number N, print the odd digits in the number(space seperated) or print -1 if there is no odd digit in the given number.\n",
        "Input Size : N <= 100000\n",
        "Sample Testcase :\n",
        "INPUT\n",
        "2143\n",
        "OUTPUT\n",
        "1 3\"\"\"\n",
        "n = int(input())\n",
        "\n",
        "odd = []\n",
        "while n > 0:\n",
        "    x = n % 10\n",
        "    if x % 2 != 0:\n",
        "        odd.append(x)\n",
        "    n = n // 10\n",
        "\n",
        "odd.reverse()\n",
        "if len(odd) != 0:\n",
        "    print(' '.join(str(i) for i in odd))\n",
        "else:\n",
        "    print(-1)"
      ],
      "metadata": {
        "id": "Qr_ovIEb_DqT"
      },
      "execution_count": null,
      "outputs": []
    },
    {
      "cell_type": "code",
      "source": [
        "# Task 26\n",
        "\"\"\"Ria is a 5 year old girl. Her mother wants to teach her how to sort words in the same order that they appear in a dictionary.\n",
        "She decides to write a program to sort a given set of strings based on their alphabetical order. Help Ria’s mother to complete the program.\n",
        "\n",
        "Input Description:\n",
        "A set of N strings\n",
        "\n",
        "Output Description:\n",
        "Alphabetically sorted set of strings\n",
        "\n",
        "Sample Input :\n",
        "3\n",
        "InfinityWar EndGame Avengers\n",
        "Sample Output :\n",
        "Avengers EndGame InfinityWar\"\"\"\n",
        "n = int(input())\n",
        "s = input().split()\n",
        "s.sort()\n",
        "print(' '.join(s).strip())"
      ],
      "metadata": {
        "id": "B3Knq2cK_McC"
      },
      "execution_count": null,
      "outputs": []
    },
    {
      "cell_type": "code",
      "source": [
        "# Task 27\n",
        "\"\"\"You are given an array of numbers.\n",
        "Print the least occurring element.\n",
        "If there is more than 1 element print all of them in decreasing order of their value.\n",
        "\n",
        "Input Description:\n",
        "You are given a number ‘n’ denoting size of array. Next line contains n space separated numbers.\n",
        "\n",
        "Output Description:\n",
        "Print the number as mentioned\n",
        "\n",
        "Sample Input :\n",
        "9\n",
        "1 6 4 56 56 56 6 4 2\n",
        "Sample Output :\n",
        "2 1\"\"\"\n",
        "n = int(input())\n",
        "elements = list(map(int, input().split()))\n",
        "elements_count = {i:elements.count(i) for i in elements}\n",
        "\n",
        "min_value = min(elements_count.values())\n",
        "min_keys = [key for key, value in elements_count.items() if value == min_value]\n",
        "\n",
        "min_keys.sort(reverse=True)\n",
        "print(' '.join(map(str, min_keys)))"
      ],
      "metadata": {
        "id": "af3NKhz__ZYo"
      },
      "execution_count": null,
      "outputs": []
    },
    {
      "cell_type": "code",
      "source": [
        "# Task 28\n",
        "\"\"\"Rahul is fond of numbers.He is given a list of queries.\n",
        "1 means store that element,2 means means print the minimum element of the stored list. For more clarity see the input and output example\n",
        "\n",
        "Input Description:\n",
        "The first line of the input N indicates the size of the query list. For N lines,\n",
        "the queries are given with the format of '1 M', where M indicates the number to be stored\n",
        "and 1 indicates the query type. Similarly, '2' which indicates the type of query\n",
        "and it does not contain M since it is not required by this query type. Briefly saying,\n",
        "'1 M' means store that element M in a list '2' means print the minimum element of stored list\n",
        "\n",
        "Output Description:\n",
        "Print the minimum element and -1 if there are no elements in stored list if the querytype is 2.\n",
        "Store the given number in the list if the query type is 1.\n",
        "\n",
        "Sample Input :\n",
        "5\n",
        "1 60\n",
        "2\n",
        "1 58\n",
        "2\n",
        "1 69\n",
        "Sample Output :\n",
        "60 58\"\"\"\n",
        "def process_queries(queries):\n",
        "    stored_numbers = []\n",
        "    results = []\n",
        "\n",
        "    for query in queries:\n",
        "        if query[0] == 1:\n",
        "            # Store the number\n",
        "            stored_numbers.append(query[1])\n",
        "        elif query[0] == 2:\n",
        "            # Print the minimum element\n",
        "            if stored_numbers:\n",
        "                results.append(min(stored_numbers))\n",
        "            else:\n",
        "                results.append(-1)\n",
        "\n",
        "    return results\n",
        "\n",
        "# Input reading\n",
        "N = int(input())\n",
        "queries = []\n",
        "\n",
        "for _ in range(N):\n",
        "    query = list(map(int, input().split()))\n",
        "    queries.append(query)\n",
        "\n",
        "# Process queries and get results\n",
        "results = process_queries(queries)\n",
        "print(*results)"
      ],
      "metadata": {
        "colab": {
          "base_uri": "https://localhost:8080/"
        },
        "id": "cno921YaEctg",
        "outputId": "2271fa07-4420-453c-a437-c8f3cac4a2dd"
      },
      "execution_count": null,
      "outputs": [
        {
          "output_type": "stream",
          "name": "stdout",
          "text": [
            "6\n",
            "1 23\n",
            "2\n",
            "1 24\n",
            "2\n",
            "1 14\n",
            "2\n",
            "23 23 14\n"
          ]
        }
      ]
    },
    {
      "cell_type": "code",
      "source": [
        "# Task 29\n",
        "\"\"\"\n",
        "Given a number N and 2 arrays A and B of sorted order of size N, print the common elements.If it is not found print -1.\n",
        "Input Size : 1 <= N <= 100000\n",
        "Sample Testcase :\n",
        "INPUT\n",
        "5\n",
        "1 1 1 1 1\n",
        "1 2 3 4 5\n",
        "OUTPUT\n",
        "1\n",
        "\"\"\"\n",
        "n = int(input())\n",
        "array_1 = set(map(int, input().split()))\n",
        "array_2 = set(map(int, input().split()))\n",
        "intersection = sorted(array_1.intersection(array_2))\n",
        "if intersection:\n",
        "    print(*intersection)\n",
        "else:\n",
        "    print(-1)"
      ],
      "metadata": {
        "id": "WmT7FuQOI9QP"
      },
      "execution_count": null,
      "outputs": []
    },
    {
      "cell_type": "code",
      "source": [
        "# Task 30\n",
        "\"\"\"Shreya is a brilliant girl.\n",
        "She likes to memorize the numbers.\n",
        "These numbers will be shown to her. As an examiner develop an algorithm to test her memory.\n",
        "\n",
        "CONSTRAINTS\n",
        "1<=Y,N,T<=1000\n",
        "\n",
        "Input Description:\n",
        "First line contains no. of test cases(Y). Next line contains a number N. Next line contains n space separated numbers Next line contains a number T denoting the number of questions asked from you regarding the given array. Next line contains T space separated numbers.\n",
        "\n",
        "Output Description:\n",
        "Print the occurrence of each number if present else “NOT PRESENT”\n",
        "\n",
        "Sample Input :\n",
        "10\n",
        "1 1 1 2 2 2 3 8 9 7\n",
        "5\n",
        "1 2 3 0 5\n",
        "Sample Output :\n",
        "3 3 1 Not Present Not Present\"\"\"\n",
        "\n",
        "y = int(input())\n",
        "N = list(map(int, input().split()))\n",
        "s = int(input())\n",
        "t = list(map(int, input().split()))\n",
        "def get_len_of_num(n):\n",
        "    count = 0\n",
        "    for i in N:\n",
        "        if n == i:\n",
        "            count = count+1\n",
        "    return count\n",
        "\n",
        "count = 0\n",
        "final_output = ''\n",
        "for i in t:\n",
        "    count = get_len_of_num(i)\n",
        "    if count != 0:\n",
        "        final_output += ' ' + str(count)\n",
        "    else:\n",
        "        final_output += ' Not Present'\n",
        "\n",
        "print(final_output.strip())"
      ],
      "metadata": {
        "id": "uhFPDa26LRID"
      },
      "execution_count": null,
      "outputs": []
    },
    {
      "cell_type": "code",
      "source": [
        "# Task 31\n",
        "\"\"\"Given numbers A,B find A^B.\n",
        "Input Size : 1 <= A <= 5 <= B <= 50\n",
        "Sample Testcase :\n",
        "INPUT\n",
        "3 4\n",
        "OUTPUT\n",
        "81\"\"\"\n",
        "a, b = map(int, input().split())\n",
        "print(a**b)"
      ],
      "metadata": {
        "id": "kvvQleFaLltl"
      },
      "execution_count": null,
      "outputs": []
    },
    {
      "cell_type": "code",
      "source": [
        "# Task 32\n",
        "\"\"\"Given a string S, print 2 strings such that first string containing\n",
        "all characters in odd position(s) and other containing all characters in even position(s).\n",
        "Sample Testcase :\n",
        "INPUT\n",
        "XCODE\n",
        "OUTPUT\n",
        "XOE CD\"\"\"\n",
        "s = input()\n",
        "odd = ''\n",
        "even = ''\n",
        "for i in range(len(s)):\n",
        "    if i % 2 == 0:\n",
        "        even += s[i]\n",
        "    else:\n",
        "        odd += s[i]\n",
        "print(odd, even)"
      ],
      "metadata": {
        "id": "kcuPtyQHHaeY"
      },
      "execution_count": null,
      "outputs": []
    },
    {
      "cell_type": "code",
      "source": [
        "# Task 33\n",
        "\"\"\"Loki wants to steal the tesseract but in order to do so,\n",
        "he has to rearrange the elements in an array in a specific manner which is mentioned in a clue.\n",
        "The clue says ‘cursed are the odd and sorted are the even’.\n",
        "Loki manages to decode the clue which translates to “sort the even positioned elements of an array,\n",
        "starting from the element at index 0, in ascending order”. Manipulate the array so as to help Loki steal the tesseract.\n",
        "\n",
        "Input Description:\n",
        "Size of the array followed by the elements of the array\n",
        "\n",
        "Output Description:\n",
        "Even index array elements sorted in ascending order\n",
        "\n",
        "Sample Input :\n",
        "5\n",
        "3 9 1 44 6\n",
        "Sample Output :\n",
        "1 9 3 44 6\"\"\"\n",
        "\n",
        "n = int(input())\n",
        "s = list(map(int, input().split()))\n",
        "\n",
        "even_indexed_elements = [s[i] for i in range(0, n, 2)]\n",
        "\n",
        "even_indexed_elements.sort()\n",
        "\n",
        "for i in range(len(even_indexed_elements)):\n",
        "    s[i * 2] = even_indexed_elements[i]\n",
        "\n",
        "print(*s)"
      ],
      "metadata": {
        "id": "0NMzowQiKL00",
        "colab": {
          "base_uri": "https://localhost:8080/"
        },
        "outputId": "444bd8d3-30cb-494e-f051-a09f072306c6"
      },
      "execution_count": null,
      "outputs": [
        {
          "output_type": "stream",
          "name": "stdout",
          "text": [
            "5\n",
            "3 9 1 44 6\n",
            "1 9 3 44 6\n"
          ]
        }
      ]
    },
    {
      "cell_type": "code",
      "source": [
        "# Task 34\n",
        "\"\"\"Given a number N and an array of N integers, find the sum of all the negative numbers in the array.\n",
        "Input Size : N <= 100000\n",
        "Sample Testcase :\n",
        "INPUT\n",
        "2\n",
        "3 0\n",
        "OUTPUT\n",
        "0\"\"\"\n",
        "n = int(input())\n",
        "arr = list(map(int, input().split()))\n",
        "sum = 0\n",
        "for i in arr:\n",
        "    if i < 0:\n",
        "        sum += i\n",
        "print(sum)"
      ],
      "metadata": {
        "id": "dgeC3nT9Xh1F"
      },
      "execution_count": null,
      "outputs": []
    },
    {
      "cell_type": "code",
      "source": [
        "# Task 35\n",
        "\"\"\"You are given given task is to print whether array is ‘majestic’ or not.\n",
        "A ‘majsetic’ array is an array whose sum of first three number is equal to last three number.\n",
        "\n",
        "Input Description:\n",
        "You are given a number ‘n’,Next line contains ‘n’ space separated\n",
        "\n",
        "Output Description:\n",
        "Print 1 if array is majestic and 0 if it is not\n",
        "\n",
        "Sample Input :\n",
        "7\n",
        "1 2 3 4 6 0 0\n",
        "Sample Output :\n",
        "1\"\"\"\n",
        "n = int(input())\n",
        "s = list(map(int, input().split()))\n",
        "if sum(s[0:3]) == sum(s[-3:]):\n",
        "    print(1)\n",
        "else:\n",
        "    print(0)"
      ],
      "metadata": {
        "id": "ZqHuhcCVX4kF"
      },
      "execution_count": null,
      "outputs": []
    },
    {
      "cell_type": "code",
      "source": [
        "# Task 36\n",
        "\"\"\"Rajesh and Ram are having a conflict on the maximum marks that they have scored in all\n",
        "the exams conducted in the past year. The one having scored the maximum gets a treat from the other.\n",
        "They decide to go through their test papers and record their highest marks.\n",
        "You are Rajesh’s best friend and as he has tutions to attend,\n",
        "he gives you all his test papers and asks you to find out the maximum marks that he has scored among all the marks in all exams.\n",
        "He promises you a treat if he wins the bet with Ram. Help Rajesh find out his highest marks.\n",
        "\n",
        "Constraints:\n",
        "1 <= N <= 10\n",
        "0 <= A[] <= 100\n",
        "\n",
        "Input Description:\n",
        "First line contains count of marks. Next line is the list of marks obtained by Rajesh.\n",
        "\n",
        "Output Description:\n",
        "Highest marks obtained by Rajesh.\n",
        "\n",
        "Sample Input :\n",
        "3\n",
        "82 96 72\n",
        "Sample Output :\n",
        "96\"\"\"\n",
        "n = int(input())\n",
        "s = list(map(int, input().split()))\n",
        "print(max(s))"
      ],
      "metadata": {
        "id": "nnahd5sbZVGS"
      },
      "execution_count": null,
      "outputs": []
    },
    {
      "cell_type": "code",
      "source": [
        "# Task 37\n",
        "\"\"\"Prakash is bored and wants to spends his time.\n",
        "He starts rolling a die (having the face values as 1, 2, 3, 4, 8, 15, 7, 9) and\n",
        "observes that some of the values keep repeating. Also while rolling n times, some face appear once only. Find the number on its face.\n",
        "\n",
        "Constraints\n",
        "0 <   N  <= 100\n",
        "0 <= A[i] <= 100\n",
        "Input Description:\n",
        "The first line contains a positive integer N, denoting the size of the array. The second line contains N positive integers, denoting the face values that appeared when the die was rolled.\n",
        "\n",
        "Output Description:\n",
        "Print out the singly occurring number. print 0 if no numbers are repeating.\n",
        "\n",
        "Sample Input :\n",
        "5\n",
        "1 1 2 5 5\n",
        "Sample Output :\n",
        "2\"\"\""
      ],
      "metadata": {
        "id": "arSBkNBdaJ-B"
      },
      "execution_count": null,
      "outputs": []
    },
    {
      "cell_type": "code",
      "source": [
        "# Task 38\n",
        "\"\"\"Your old mobile phone gets broken and so you want to purchase a new smartphone and\n",
        "decide to go through all the online websites to find out which dealer has the best\n",
        "offer for a particular model. You document the prices of N dealers. Dealer ids start from 0 and go up to N.\n",
        "Find out which dealer has the best price for you.\n",
        "\n",
        "Constraints:\n",
        "1 <= N <= 100\n",
        "\n",
        "1 <= A[] <= 100000\n",
        "\n",
        "Input Description:\n",
        "Number of dealers followed by the price offered by each dealer\n",
        "\n",
        "Output Description:\n",
        "Dealer offering the best price.\n",
        "\n",
        "Sample Input :\n",
        "3\n",
        "10000 11200 12030\n",
        "Sample Output :\n",
        "Dealer0\"\"\"\n",
        "n = int(input())\n",
        "arr = list(map(int, input().split()))\n",
        "best_price = min(arr)\n",
        "print(\"Dealer\"+str(arr.index(best_price)))"
      ],
      "metadata": {
        "id": "PQkeWs1Lkd9Q"
      },
      "execution_count": null,
      "outputs": []
    },
    {
      "cell_type": "code",
      "source": [
        "# Task 39\n",
        "\"\"\"Given a sentence and string S, find how many times S occurs in the given sentence.If S is not found in the sentence print -1\n",
        "Input Size : |sentence| <= 1000000(complexity O(n)).\n",
        "Sample Testcase :\n",
        "INPUT\n",
        "I enjoy doing codekata\n",
        "codekata\n",
        "OUTPUT\n",
        "1\"\"\"\n",
        "sentence = input()\n",
        "string = input()\n",
        "if sentence.count(string) == 0:\n",
        "  print(\"-1\")\n",
        "else:\n",
        "  print(sentence.count(string))"
      ],
      "metadata": {
        "id": "BIckotTHkoNl"
      },
      "execution_count": null,
      "outputs": []
    },
    {
      "cell_type": "code",
      "source": [
        "# Task 40\n",
        "\"\"\"Given a number N, print the sum of squares of all its digits.\n",
        "Input Size : 1 <= N <= 100000\n",
        "Sample Testcase :\n",
        "INPUT\n",
        "12\n",
        "OUTPUT\n",
        "5\"\"\"\n",
        "n = int(input())\n",
        "sum = 0\n",
        "while n > 0:\n",
        "    x = n % 10\n",
        "    sum += x**2\n",
        "    n = n // 10\n",
        "print(sum)"
      ],
      "metadata": {
        "id": "sr3-dF8nk3_n"
      },
      "execution_count": null,
      "outputs": []
    },
    {
      "cell_type": "code",
      "source": [
        "# Task 41\n",
        "\"\"\"Ram is the CEO of an MNC. He wants to order the employee salaries in ascending order so\n",
        "that he can do a salary hike based on the salary values of employees.\n",
        "He selects you to do the task of sorting the salaries. Sort the salaries in ascending order and pass on the information to Ram.\n",
        "\n",
        "Input Description:\n",
        "Number of employees followed by the salaries of employees.\n",
        "\n",
        "Output Description:\n",
        "Salaries sorted in ascending order.\n",
        "\n",
        "Sample Input :\n",
        "8\n",
        "7000 8000 6500 1200 4000 2800 3000 5230\n",
        "Sample Output :\n",
        "1200 2800 3000 4000 5230 6500 7000 8000\"\"\"\n",
        "n = int(input())\n",
        "salaries = list(map(int, input().split()))\n",
        "salaries.sort()\n",
        "print(*salaries)"
      ],
      "metadata": {
        "id": "S01oqu8soUl7"
      },
      "execution_count": null,
      "outputs": []
    },
    {
      "cell_type": "code",
      "source": [
        "# Task 42\n",
        "\"\"\"You are given an array of non-negative integers representing height of walls at index i as Ai and the width of each block is 1.\n",
        "Compute how much air can be encapsulated between the walls of chamber.\n",
        "\n",
        "Input Description:\n",
        "Each line contains an integer ‘N’ denoting the size of the array Next line contains N space separated numbers to be stored in array.\n",
        "\n",
        "Output Description:\n",
        "Output the total unit of Air encapsulated between the walls of chamber.\n",
        "\n",
        "Sample Input :\n",
        "3\n",
        "7 4 9\n",
        "Sample Output :\n",
        "3\"\"\"\n",
        "a=int(input())\n",
        "list_1 = list(map(int, input().split()))\n",
        "ind_0 = list_1[0]\n",
        "if list_1[a-1] < ind_0:\n",
        "    ind_0 = list_1[a-1]\n",
        "b=0\n",
        "for i in list_1[1:a-1]:\n",
        "    if i < ind_0:\n",
        "        b += ind_0-i\n",
        "print(b)"
      ],
      "metadata": {
        "id": "W8nahmi-ornP"
      },
      "execution_count": null,
      "outputs": []
    },
    {
      "cell_type": "code",
      "source": [
        "# Task 43\n",
        "\"\"\"Given a number N print a right angled traingle structure with the starting level as\n",
        "single 1 and every immediate proceeding level with 2 more additional ones than the previous level .Repeat the pattern for N levels.\n",
        "Input Size : N <= 1000\n",
        "Sample Testcase :\n",
        "INPUT\n",
        "3\n",
        "OUTPUT\n",
        "1\n",
        "1 1 1\n",
        "1 1 1 1 1\"\"\"\n",
        "n = int(input())\n",
        "count = 1\n",
        "for i in range(1, n+1):\n",
        "    new_list = []\n",
        "    if i == 1:\n",
        "        new_list.append(1)\n",
        "        print(*new_list)\n",
        "    else:\n",
        "        for j in range(i+count):\n",
        "            new_list.append(1)\n",
        "        count = count + 1\n",
        "        print(*new_list)"
      ],
      "metadata": {
        "id": "GQ6tjQvmo3ya",
        "colab": {
          "base_uri": "https://localhost:8080/"
        },
        "outputId": "6aa657cc-2cf1-434d-d7b6-634db9ad25b0"
      },
      "execution_count": null,
      "outputs": [
        {
          "output_type": "stream",
          "name": "stdout",
          "text": [
            "7\n",
            "1\n",
            "1 1 1\n",
            "1 1 1 1 1\n",
            "1 1 1 1 1 1 1\n",
            "1 1 1 1 1 1 1 1 1\n",
            "1 1 1 1 1 1 1 1 1 1 1\n",
            "1 1 1 1 1 1 1 1 1 1 1 1 1\n"
          ]
        }
      ]
    },
    {
      "cell_type": "code",
      "source": [
        "# Task 44\n",
        "\"\"\"You are given an array F of focal lengths of size f, F[0], F[1],...F[f-1].\n",
        "You are asked to determine the indices of the elements from the biggest element to the smallest element.\n",
        "\n",
        "Input Description:\n",
        "The first line contains an integer f. The next line contains f space separated integers F[i],\n",
        " (0 <= i <= f-1) Note: The elements of F[i] are pairwise distinct.\n",
        "\n",
        "Output Description:\n",
        "Print f space separated integers, denoting the indices of the elements, from biggest element to smallest.\n",
        "\n",
        "Sample Input :\n",
        "3\n",
        "1 5 4\n",
        "Sample Output :\n",
        "1 2 0\"\"\"\n",
        "n = int(input())\n",
        "k = list(map(int, input().split()))\n",
        "sorted_list = sorted(k, reverse=True)\n",
        "sorted_index = []\n",
        "for i in sorted_list:\n",
        "    sorted_index.append(k.index(i))\n",
        "print(*sorted_index)"
      ],
      "metadata": {
        "id": "EgM9OZENUUXx"
      },
      "execution_count": null,
      "outputs": []
    },
    {
      "cell_type": "code",
      "source": [
        "# Task 45\n",
        "\"\"\"You are given an array of digits. Your task is to print the digit with maximum frequency.\n",
        "\n",
        "Input Description:\n",
        "You are given length of array ’n’,next line contains n space separated numbers.\n",
        "\n",
        "Output Description:\n",
        "Print the number with maximum frequency. If two number have equal freqency prin the number that comes first\n",
        "\n",
        "Sample Input :\n",
        "7\n",
        "1 2 3 4 4 4 5\n",
        "Sample Output :\n",
        "4\"\"\"\n",
        "n = int(input())\n",
        "arr= list(map(int,input().split()))\n",
        "\n",
        "from collections import Counter\n",
        "\n",
        "def frequencySort(nums):\n",
        "    cn = Counter(nums)\n",
        "    out = []\n",
        "    for k, v in sorted(cn.items(), key = lambda kv: (kv[1],kv[0])):\n",
        "        out.append(v*[k])\n",
        "\n",
        "    o = []\n",
        "    for i in out:\n",
        "        o+= i\n",
        "\n",
        "    final = []\n",
        "    for i in o:\n",
        "        if i not in final:\n",
        "            final.append(i)\n",
        "    return final\n",
        "\n",
        "print(frequencySort(arr)[-1])"
      ],
      "metadata": {
        "id": "Q6EGsVeWudtn"
      },
      "execution_count": null,
      "outputs": []
    },
    {
      "cell_type": "code",
      "source": [
        "# Task 46\n",
        "\"\"\"Ramit is given a list of both positive and negative integers.\n",
        "He has to tell the maximum sum out of all subarrays in the given list.\n",
        "He got confused and requested help from you. Now it is your task to find the maximum sum out of all subarrays in the given list.\n",
        "\n",
        "Input Description:\n",
        "You are given a number 'n'. Next line contains n space separated numbers.\n",
        "\n",
        "Output Description:\n",
        "Print the max sum of subarray.\n",
        "\n",
        "Sample Input :\n",
        "5\n",
        "1 2 3 -2 5\n",
        "Sample Output :\n",
        "9\"\"\"\n",
        "n = int(input())\n",
        "arr= list(map(int,input().split()))\n",
        "max_sum  = current_sum = arr[0]\n",
        "for i in arr[1:]:\n",
        "  current_sum = max(i, current_sum+i)\n",
        "  max_sum = max(max_sum, current_sum)\n",
        "print(max_sum)"
      ],
      "metadata": {
        "colab": {
          "base_uri": "https://localhost:8080/"
        },
        "id": "reDWtweeukMq",
        "outputId": "92631b48-98b2-434a-ccfa-a2649b0be049"
      },
      "execution_count": null,
      "outputs": [
        {
          "output_type": "stream",
          "name": "stdout",
          "text": [
            "3\n",
            "1 2 3\n",
            "6\n"
          ]
        }
      ]
    },
    {
      "cell_type": "code",
      "source": [
        "# task 47\n",
        "\"\"\"The prison warden at Central jail is given a tip-off that a prison inmate is planning an escape.\n",
        "The warden suspects a particular prisoner of planning an escape and wants to find out if he/she is present in his/her cell.\n",
        "The layout of the prison is modelled in a matrix with every cell of the matrix representing a prison cell.\n",
        "The matrix is filled with the prisoner ids at the corresponding cells.\n",
        "Find out whether the person the warden suspects is present in the prison or not.\n",
        "\n",
        "Input Description:\n",
        "First line contains the dimensions of the prison matrix, followed by the ids of prisoners as elements of the matrix.\n",
        "The third line contains the id to be searched.\n",
        "\n",
        "Output Description:\n",
        "(yes/no) whether the given element is present in the matrix or not.\n",
        "\n",
        "Sample Input :\n",
        "2 5\n",
        "2 3 0 7 1 5 3 4 1 8\n",
        "11\n",
        "Sample Output :\n",
        "no\"\"\"\n",
        "n = list(map(int, input().split()))\n",
        "arr= list(map(int,input().split()))\n",
        "search = int(input())\n",
        "if search in arr:\n",
        "  print(\"yes\")\n",
        "else:\n",
        "  print(\"no\")"
      ],
      "metadata": {
        "id": "WS4IkepVPaOH"
      },
      "execution_count": null,
      "outputs": []
    },
    {
      "cell_type": "code",
      "source": [
        "# Task 48\n",
        "\"\"\"Rajesh was going through alternative array sorting. He wishes to print the array alternatively.\n",
        "Hence hired you. Your task is to help rajesh in printing the array alternatively.\n",
        "\n",
        "An alternative array is an array in which first element is maximum of the whole array second element\n",
        "is minimum of the whole array. Third element is the second largest.\n",
        "Fourth element is the second smallest And so on. print the array in the desired manner.\n",
        "\n",
        "Input Description:\n",
        "You are given with the length of array ‘n’. followed by ‘n’ space separated numbers.\n",
        "\n",
        "Output Description:\n",
        "Print the array as mentioned.\n",
        "\n",
        "Sample Input :\n",
        "5 1 7 11 16 19\n",
        "Sample Output :\n",
        "19 1 16 7 11\"\"\"\n",
        "n = int(input())\n",
        "arr = list(map(int, input().split()))\n",
        "arr.sort()\n",
        "new_list = []\n",
        "odd_count = 1\n",
        "even_count = 0\n",
        "for i in range(1,len(arr)+1):\n",
        "  if i % 2 != 0:\n",
        "    new_list.append(arr[-odd_count])\n",
        "    odd_count += 1\n",
        "  else:\n",
        "    new_list.append(arr[even_count])\n",
        "    even_count += 1\n",
        "print(*new_list)"
      ],
      "metadata": {
        "id": "mWAY_HlZQiHK"
      },
      "execution_count": null,
      "outputs": []
    },
    {
      "cell_type": "code",
      "source": [
        "# Task 49\n",
        "\"\"\"You are head incharge of sports activity in queue.\n",
        "Your task is to sort the students height wise in line.\n",
        "But you can only swap students.Your task is to determine the minimum possible swaps required to sort the students in queue according to heights\n",
        "\n",
        "Input Description:\n",
        "You are given with number ‘n’ denoting number of students. Next line contains n space separated integers denoting their height.\n",
        "\n",
        "Output Description:\n",
        "Print the minimum number of swaps required to sort the students in line.\n",
        "\n",
        "Sample Input :\n",
        "5\n",
        "1 5 4 3 2\n",
        "Sample Output :\n",
        "2\"\"\"\n",
        "n = int(input())\n",
        "arr = list(map(int, input().split()))\n",
        "new_list = []\n",
        "count = 1\n",
        "i = 0\n",
        "while i < len(arr)-1:\n",
        "  if arr[i] < arr[i+1]:\n",
        "    new_list.append(arr[i])\n",
        "    count+=1\n",
        "  else:\n",
        "    new_list.append(arr[i])\n",
        "  i += 1\n",
        "print(count)"
      ],
      "metadata": {
        "colab": {
          "base_uri": "https://localhost:8080/"
        },
        "id": "vUd5b3YzcwIX",
        "outputId": "42032999-83e9-4a9d-c492-bda732c355d2"
      },
      "execution_count": null,
      "outputs": [
        {
          "output_type": "stream",
          "name": "stdout",
          "text": [
            "5\n",
            "1 4 5 2 6\n",
            "6 1 5 2 4\n"
          ]
        }
      ]
    },
    {
      "cell_type": "code",
      "source": [],
      "metadata": {
        "id": "5pLnO4YqjcZH"
      },
      "execution_count": null,
      "outputs": []
    },
    {
      "cell_type": "code",
      "source": [
        "n = 5\n",
        "years = [2004, 1999, 2019, 2009, 2014]\n",
        "champian = [\"JDU\", \"JDU\", \"CON\", \"JDU\", \"CON\"]\n",
        "elect_dict = {}\n",
        "for i in range(n):\n",
        "  if champian[i] not in elect_dict:\n",
        "    elect_dict[champian[i]] = [years[i]]\n",
        "  else:\n",
        "    elect_dict[champian[i]].append(years[i])\n",
        "elect_dict"
      ],
      "metadata": {
        "colab": {
          "base_uri": "https://localhost:8080/"
        },
        "id": "eQW6nGJBTeBW",
        "outputId": "1d2b7eee-0029-4057-e03d-86aa3b205c69"
      },
      "execution_count": null,
      "outputs": [
        {
          "output_type": "execute_result",
          "data": {
            "text/plain": [
              "{'JDU': [2004, 1999, 2009], 'CON': [2019, 2014]}"
            ]
          },
          "metadata": {},
          "execution_count": 1
        }
      ]
    },
    {
      "cell_type": "code",
      "source": [
        "[;//negative_int\n",
        "\n",
        "\n",
        "\n",
        "\n",
        "\n",
        "\n",
        "\n",
        "\n",
        "\n",
        "\n",
        "\n",
        "\n",
        "\n",
        "\n",
        "\n",
        "]"
      ],
      "metadata": {
        "id": "IbGdWiO6Td5y"
      },
      "execution_count": null,
      "outputs": []
    },
    {
      "cell_type": "markdown",
      "source": [
        "# **Bitwise Codekata**"
      ],
      "metadata": {
        "id": "bSrv0XAYQ1rz"
      }
    },
    {
      "cell_type": "code",
      "source": [
        "# Task 1 and Task 2\n",
        "\"\"\"Given a number N and an array of N elements, find the Bitwise OR of the array elements.\n",
        "Input Size : N <= 100000\n",
        "Sample Testcase :\n",
        "INPUT\n",
        "2\n",
        "2 4\n",
        "OUTPUT\n",
        "6\"\"\"\n",
        "from functools import reduce\n",
        "n = int(input())\n",
        "arr = list(map(int, input().split()))\n",
        "result = reduce(lambda x, y: x | y, arr)\n",
        "print(result)"
      ],
      "metadata": {
        "id": "_Dpo8g57Q8DQ"
      },
      "execution_count": null,
      "outputs": []
    },
    {
      "cell_type": "code",
      "source": [
        "# taak 3\n",
        "\"\"\"Given a binary number convert it to hexadecimal.\n",
        "Sample Testcase :\n",
        "INPUT\n",
        "1100100\n",
        "OUTPUT\n",
        "64\"\"\""
      ],
      "metadata": {
        "id": "oUKITnfCRAxS"
      },
      "execution_count": null,
      "outputs": []
    },
    {
      "cell_type": "markdown",
      "source": [
        "# **Numbers**"
      ],
      "metadata": {
        "id": "p7z_qUJWRleT"
      }
    },
    {
      "cell_type": "code",
      "source": [
        "# Task 1:\n",
        "\"\"\" You are provided with a number ’n’.\n",
        " Your task is to tell whether that number is saturated. A saturated number is a number which is made by exactly two digits.\n",
        "\n",
        "Input Description:\n",
        "You are given with a number n.\n",
        "\n",
        "Output Description:\n",
        "Print Saturated if it is saturated else it is Unsaturated\n",
        "\n",
        "Sample Input :\n",
        "121\n",
        "Sample Output :\n",
        "Saturated\"\"\"\n",
        "\n",
        "inputt = input()\n",
        "sett = list(set(inputt))\n",
        "\n",
        "if(len(sett) == 2):\n",
        "    print(\"Saturated\")\n",
        "else:\n",
        "    print(\"Unsaturated\")"
      ],
      "metadata": {
        "id": "KCwcgtxURr2j"
      },
      "execution_count": null,
      "outputs": []
    },
    {
      "cell_type": "code",
      "source": [
        "# Task 2\n",
        "\"\"\"Prateek finds it difficult to judge the minimum element in the list of elements given to him.\n",
        "Your task is to develop the algorithm in order to find the minimum element.\n",
        "\n",
        "Input Description:\n",
        "You are given ‘n’ number of elements. Next line contains n space separated numbers.\n",
        "\n",
        "Output Description:\n",
        "Print the minimum element\n",
        "\n",
        "Sample Input :\n",
        "5\n",
        "3 4 9 1 6\n",
        "Sample Output :\n",
        "1\n",
        "\"\"\"\n",
        "n = int(input())\n",
        "list_1 = list(map(int, input().split()))\n",
        "list_1.sort()\n",
        "print(list_1[0])"
      ],
      "metadata": {
        "id": "aZB8kdGpR0Ha"
      },
      "execution_count": null,
      "outputs": []
    },
    {
      "cell_type": "code",
      "source": [
        "# Task 3\n",
        "\"\"\"You are an employee of ‘Rox Travel’ channel.The channel has decided to give allowances to some customer\n",
        "who satisfy these conditions. The conditions are:\n",
        "The customer should be born on or before july 22 1987\n",
        "The month of D.O.B month should be of 31 days.\n",
        "You are given with the D.O.B of all the employees.\n",
        "Your task is to print the employee index who are having chance to avail special offer.\n",
        "\n",
        "Input Description:\n",
        "First line contains the number of employee.Next line contains an array of D.O.B of employees\n",
        "\n",
        "Output Description:\n",
        "Print the employee index (index at 1). Print-1 if there are no such employee\n",
        "\n",
        "Sample Input :\n",
        "Input\n",
        "4\n",
        "23 MARCH 1996 23 MARCH 1986 22 JULY 1987 23 APRIL 1987\n",
        "Sample Output :\n",
        "2 3\"\"\"\n"
      ],
      "metadata": {
        "id": "NwqHoDn_RvHw"
      },
      "execution_count": null,
      "outputs": []
    },
    {
      "cell_type": "code",
      "source": [
        "# Task 4\n",
        "\"\"\"You are given a number ‘n’. You have to tell whether a number is great or not.\n",
        "A great number is a number whose sum of digits let (m) and product of digits let(j) when summed together gives the number back\n",
        "\n",
        "m+j=n\n",
        "\n",
        "Input Description:\n",
        "You are given a number n;\n",
        "\n",
        "Output Description:\n",
        "Print Great if a number is great else print the no\n",
        "\n",
        "Sample Input :\n",
        "59\n",
        "Sample Output :\n",
        "Great\"\"\"\n",
        "n = int(input())\n",
        "original_value = n\n",
        "sum = 0\n",
        "mul = 1\n",
        "while (n > 0):\n",
        "    r = n % 10 #getting 9 from 59\n",
        "    sum = sum + r\n",
        "    mul = mul * r\n",
        "    n = n // 10 #getting 5 from 59\n",
        "\n",
        "great_num = sum + mul\n",
        "if great_num == original_value:\n",
        "    print(\"Great\")\n",
        "else:\n",
        "    print(\"no\")"
      ],
      "metadata": {
        "id": "m21w_Nz4sSBf"
      },
      "execution_count": null,
      "outputs": []
    },
    {
      "cell_type": "code",
      "source": [
        "# Task 5\n",
        "\"\"\"You are given a very long integer.Your task is to determine the smallest possible number such that sum of factorial of digits results back in ‘n’.\n",
        "Print -1 if no number is possible\n",
        "\n",
        "Input Description:\n",
        "You are given a number ‘n’\n",
        "\n",
        "Output Description:\n",
        "Print the smallest number\n",
        "\n",
        "Sample Input :\n",
        "145\n",
        "Sample Output :\n",
        "145\"\"\""
      ],
      "metadata": {
        "id": "im1Mi38bsZvy"
      },
      "execution_count": null,
      "outputs": []
    },
    {
      "cell_type": "code",
      "source": [
        "# Task 6\n",
        "\"\"\"\n",
        "you are given with ‘arasu’ series(shown in example).You have to understand it and you will be given a number ‘n’ ,you have to print the series till n numbers.\n",
        "\n",
        "Input Description:\n",
        "You are given a number n;\n",
        "\n",
        "Output Description:\n",
        "Print series till nth number\n",
        "\n",
        "Sample Input :\n",
        "4\n",
        "Sample Output :\n",
        "2 5 10 17\"\"\"\n",
        "n = int(input())\n",
        "count = 1\n",
        "new_list = []\n",
        "i = 1\n",
        "while len(new_list) < n:\n",
        "    count = count+i\n",
        "    new_list.append(count)\n",
        "    i = i+2\n",
        "print(*new_list)\n",
        "\n"
      ],
      "metadata": {
        "id": "VaLrZoBHsfTk"
      },
      "execution_count": null,
      "outputs": []
    },
    {
      "cell_type": "code",
      "source": [
        "# Task 7\n",
        "\"\"\"Assume that you are ticket verifier at a club. Your club has decided to give a special discount to the person(s) who are satisfying the following condition\n",
        "\n",
        "Condition:-\n",
        "If ticket number is divisible by date of month. You are eligible for a discount.\n",
        "\n",
        "Input Description:\n",
        "First line contains input ‘n’.Next line contains n space separated numbers denoting ticket numbers .Next line contains ‘k’ date of the month.\n",
        "\n",
        "Output Description:\n",
        "Print 1 if the ticket is eligible for discount else 0\n",
        "\n",
        "Sample Input :\n",
        "6\n",
        "112 139 165 175 262 130\n",
        "22\n",
        "Sample Output :\n",
        "0 0 0 0 0 0\"\"\"\n",
        "n = int(input())\n",
        "ticket_numbers = list(map(int, input().split()))\n",
        "k = int(input())\n",
        "discount = ''\n",
        "for i in ticket_numbers:\n",
        "    if i % k == 0:\n",
        "        discount += ' ' + str(1)\n",
        "    else:\n",
        "        discount += ' ' + str(0)\n",
        "\n",
        "print(discount.strip())"
      ],
      "metadata": {
        "id": "zmaR8RSKspHP"
      },
      "execution_count": null,
      "outputs": []
    },
    {
      "cell_type": "code",
      "source": [
        "# Task 8\n",
        "\"\"\"Rampal is a number in which the sum of last two digits of that number is multiple of 4.\n",
        "Your teacher has given you the task to make a list of rampal numbers.Your task is to tell whether the number is rampal or not.\n",
        "\n",
        "Note : if the number is negative than rampal is a number which has sum of first and last digit as multiple of 4\n",
        "\n",
        "Input Description:\n",
        "First line contains an input n\n",
        "\n",
        "Output Description:\n",
        "Print yes or no\n",
        "\n",
        "Sample Input :\n",
        "20\n",
        "\n",
        "Sample Output :\n",
        "no\"\"\"\n",
        "from functools import reduce\n",
        "n = int(input())\n",
        "last_digits = n%100\n",
        "x = reduce(lambda x, y: x+y, list(map(int, str(last_digits))))\n",
        "if x%4 == 0:\n",
        "  print(\"yes\")\n",
        "else:\n",
        "  print(\"no\")"
      ],
      "metadata": {
        "colab": {
          "base_uri": "https://localhost:8080/"
        },
        "id": "bmheQ03uswzH",
        "outputId": "246fbc6c-a058-44bc-d914-7d6191aaedd8"
      },
      "execution_count": null,
      "outputs": [
        {
          "output_type": "stream",
          "name": "stdout",
          "text": [
            "no\n"
          ]
        }
      ]
    },
    {
      "cell_type": "code",
      "source": [
        "# Task 9\n",
        "\"\"\"You are given an array of digits. Your task is to print the digit with maximum frequency.\n",
        "\n",
        "Input Description:\n",
        "You are given length of array ’n’,next line contains n space separated numbers.\n",
        "\n",
        "Output Description:\n",
        "Print the number with maximum frequency. If two number have equal freqency prin the number that comes first\n",
        "\n",
        "Sample Input :\n",
        "7\n",
        "1 2 3 4 4 4 5\n",
        "Sample Output :\n",
        "4\"\"\"\n",
        "n = int(input())\n",
        "arr= list(map(int,input().split()))\n",
        "\n",
        "from collections import Counter\n",
        "\n",
        "def frequencySort(nums):\n",
        "    cn = Counter(nums)\n",
        "    out = []\n",
        "    for k, v in sorted(cn.items(), key = lambda kv: (kv[1],kv[0])):\n",
        "        out.append(v*[k])\n",
        "\n",
        "    o = []\n",
        "    for i in out:\n",
        "        o+= i\n",
        "\n",
        "    final = []\n",
        "    for i in o:\n",
        "        if i not in final:\n",
        "            final.append(i)\n",
        "    return final\n",
        "\n",
        "print(frequencySort(arr)[-1])"
      ],
      "metadata": {
        "id": "yaO-ZYjlvyfJ"
      },
      "execution_count": null,
      "outputs": []
    },
    {
      "cell_type": "code",
      "source": [
        "# Task 10\n",
        "\"\"\"You are given with an array of numbers, Your task is to print the difference of indices of largest and smallest number.All number are unique.\n",
        "\n",
        "Input Description:\n",
        "First line contains a number ‘n’. Then next line contains n space separated numbers.\n",
        "\n",
        "Output Description:\n",
        "Print the difference of indices of largest and smallest array\n",
        "\n",
        "Sample Input :\n",
        "5\n",
        "1 6 4 0 3\n",
        "Sample Output :\n",
        "-2\"\"\"\n",
        "n = int(input())\n",
        "l = list(map(int, input().split()))\n",
        "print(l.index(max(l)) - l.index(min(l)))"
      ],
      "metadata": {
        "id": "SiirikUlv8k_"
      },
      "execution_count": null,
      "outputs": []
    },
    {
      "cell_type": "code",
      "source": [
        "# Task 11\n",
        "\"\"\"you are given with array of numbers.you have to find whether array is beautiful or not.\n",
        "A beautiful array is an array whose sum of all numbers is divisible by 2, 3 and 5\n",
        "\n",
        "Input Description:\n",
        "You are given a number ‘n’ denoting the size of array.Next line contains n space separated numbers.\n",
        "\n",
        "Output Description:\n",
        "Print 1 if array is beautiful and 0 if it is not\n",
        "\n",
        "Sample Input :\n",
        "5\n",
        "5 25 35 -5 30\n",
        "Sample Output :\n",
        "1\"\"\"\n",
        "n = int(input())\n",
        "m = list(map(int, input().split()))\n",
        "\n",
        "total_sum = sum(m)\n",
        "\n",
        "if total_sum % 2 == 0 and total_sum % 3 == 0 and total_sum % 5 == 0:\n",
        "    print(1)\n",
        "else:\n",
        "    print(0)"
      ],
      "metadata": {
        "id": "_rkW2eLCwDMB"
      },
      "execution_count": null,
      "outputs": []
    },
    {
      "cell_type": "code",
      "source": [
        "# Task 12\n",
        "\"\"\"Ramesh is given a special series to print,as he has some other work to do.Help ramesh in printing the series.\n",
        "\n",
        "Note:Observe the series very keenly in examples\n",
        "\n",
        "Input Description:\n",
        "You are given a number ‘n’.\n",
        "\n",
        "Output Description:\n",
        "Print the n term of series.\n",
        "\n",
        "Sample Input :\n",
        "6\n",
        "Sample Output :\n",
        "1 6 120\"\"\"\n",
        "\n"
      ],
      "metadata": {
        "colab": {
          "base_uri": "https://localhost:8080/"
        },
        "id": "62eMqxdIwJys",
        "outputId": "1e4d5127-99ea-4a1f-f3a4-6835fcffb7ff"
      },
      "execution_count": null,
      "outputs": [
        {
          "output_type": "stream",
          "name": "stdout",
          "text": [
            "0\n",
            "100\n",
            "200\n",
            "300\n",
            "400\n",
            "500\n"
          ]
        }
      ]
    },
    {
      "cell_type": "markdown",
      "source": [
        "# **Mathematics**"
      ],
      "metadata": {
        "id": "RvvEr0DjSz6V"
      }
    },
    {
      "cell_type": "code",
      "source": [
        "\"\"\"Task : Prime factors\"\"\"\n",
        "def prime_factors(n):\n",
        "    factors = []\n",
        "    divisor = 2\n",
        "    while n > 1:\n",
        "        while n % divisor == 0:\n",
        "            factors.append(divisor)\n",
        "            print(\"n\",n)\n",
        "            n //= divisor\n",
        "            print(\"n23\",n)\n",
        "        divisor += 1\n",
        "    return factors\n",
        "\n",
        "def lcm_of_list(numbers):\n",
        "    prime_factors_mult = {}\n",
        "    for num in numbers:\n",
        "        factors = prime_factors(num)\n",
        "        num_count = {}\n",
        "        for factor in factors:\n",
        "            if factor in num_count:\n",
        "                num_count[factor] += 1\n",
        "            else:\n",
        "                num_count[factor] = 1\n",
        "        for factor, count in num_count.items():\n",
        "            if factor in prime_factors_mult:\n",
        "                prime_factors_mult[factor] = max(prime_factors_mult[factor], count)\n",
        "            else:\n",
        "                prime_factors_mult[factor] = count\n",
        "\n",
        "    lcm = 1\n",
        "    for factor, count in prime_factors_mult.items():\n",
        "        lcm *= factor ** count\n",
        "    return lcm\n",
        "\n",
        "N = int(input())\n",
        "values = list(map(int, input().split()))\n",
        "print(lcm_of_list(values))"
      ],
      "metadata": {
        "id": "qloMo8x6S3fV"
      },
      "execution_count": null,
      "outputs": []
    },
    {
      "cell_type": "code",
      "source": [
        "# Task 3\n",
        "\"\"\"A person saves his monthly saving according to given schema.\n",
        "He saves same amount of money which is equal to the money saved in immediate previous two months.\n",
        "Assume, initially he saved 1000 rupees and in first month he saved another 1000.\n",
        "Your task is to tell how much he had totally saved at the end of ‘n’ months\n",
        "\"\"\"\n",
        "\"\"\" inital ah enta 1000 iruku 1st month nan atha double ah aakuren 2000\n",
        "second month 2000 atha double aakuna 4000\n",
        "third month 3000 atha dobule akuna 7000\"\"\"\n",
        "\n",
        "\"\"\"n = int(input(''))\n",
        "initial_amount = 1000\n",
        "for i in range(1, n+1):\n",
        "    initial_amount += i*1000\n",
        "print(initial_amount)\"\"\""
      ],
      "metadata": {
        "id": "9-waptXEW7MI"
      },
      "execution_count": null,
      "outputs": []
    },
    {
      "cell_type": "code",
      "source": [
        "# Task 4\n",
        "\"\"\"Given a number N, print yes if the number is a multiple of 7 else print no.\"\"\"\n",
        "\n",
        "\"\"\"n = int(input())\n",
        "print('yes' if n%7 == 0 else 'no')\"\"\""
      ],
      "metadata": {
        "id": "tQKVPPnXW0Cm"
      },
      "execution_count": null,
      "outputs": []
    },
    {
      "cell_type": "code",
      "source": [
        "# Task 5\n",
        "\"\"\" Given 3 numbers a,b,c print a*b mod c.\"\"\"\n",
        "\n",
        "\"\"\"a, b, c = map(int, input().split())\n",
        "print(a*b%c)\"\"\""
      ],
      "metadata": {
        "id": "fX4sBcMBWwMP"
      },
      "execution_count": null,
      "outputs": []
    },
    {
      "cell_type": "code",
      "source": [
        "# Task 6\n",
        "\"\"\"You are given a number ‘n’. You have to tell whether a number is great or not.\n",
        "A great number is a number whose sum of digits let (m) and\n",
        "product of digits let(j) when summed together gives the number back\"\"\"\n",
        "\n",
        "\"\"\"n = int(input())\n",
        "original_value = n\n",
        "sum = 0\n",
        "mul = 1\n",
        "while (n > 0):\n",
        "    r = n % 10 #getting 9 from 59\n",
        "    sum = sum + r\n",
        "    mul = mul * r\n",
        "    n = n // 10 #getting 5 from 59\n",
        "\n",
        "great_num = sum + mul\n",
        "if great_num == original_value:\n",
        "    print(\"Great\")\n",
        "else:\n",
        "    print(\"no\")\"\"\""
      ],
      "metadata": {
        "id": "1acPQXhDWqSO"
      },
      "execution_count": null,
      "outputs": []
    },
    {
      "cell_type": "code",
      "source": [
        "# Task 7\n",
        "\"\"\"You are given a large number made of only 0’s and 1’s.\n",
        "Your task is to find the max no of consecutive 1’s.\n",
        "If there are no 1’s print -1\"\"\"\n",
        "# range na (0,10) -> for loop la use panuvom\n",
        "# current length find panna use panuvom\n",
        "\n",
        "n = input()\n",
        "max_consecutive = 0\n",
        "current_consecutive = 0\n",
        "\n",
        "for i in range(len(n)):\n",
        "    if n[i] == '1':\n",
        "        current_consecutive += 1\n",
        "        max_consecutive = max(max_consecutive, current_consecutive)\n",
        "    else:\n",
        "        current_consecutive = 0\n",
        "\n",
        "if max_consecutive:\n",
        "    print(max_consecutive)\n",
        "else:\n",
        "    print('-1')"
      ],
      "metadata": {
        "id": "ms5NrZLTV0P4"
      },
      "execution_count": null,
      "outputs": []
    },
    {
      "cell_type": "code",
      "source": [
        "# Task 8\n",
        "\"\"\"You will be given two numbers ‘n’ and ‘m’\n",
        "Your task is to tell whether numbers is co prime or not. If it is a co-prime print 1 else 0\"\"\"\n",
        "\n",
        "import math\n",
        "n,m = map(int, input().split())\n",
        "if math.gcd(n,m) == 1:\n",
        "    print(1)\n",
        "else:\n",
        "    print(0)"
      ],
      "metadata": {
        "id": "lzllEsg0VwXo"
      },
      "execution_count": null,
      "outputs": []
    },
    {
      "cell_type": "code",
      "source": [
        "# Task 9\n",
        "\"\"\"Input Description:\n",
        "First line contains input ‘n’.Next line contains n space separated numbers\n",
        "denoting ticket numbers .Next line contains ‘k’ date of the month.\n",
        "If ticket number is divisible by date of month. You are eligible for a discount.\n",
        "\n",
        "Output Description:\n",
        "Print 1 if the ticket is eligible for discount else 0\"\"\"\n",
        "\n",
        "n = int(input())\n",
        "ticket_numbers = list(map(int, input().split()))\n",
        "k = int(input())\n",
        "discount = ''\n",
        "for i in ticket_numbers:\n",
        "    if i % k == 0:\n",
        "        discount += ' ' + str(1)\n",
        "    else:\n",
        "        discount += ' ' + str(0)\n",
        "\n",
        "print(discount.strip())"
      ],
      "metadata": {
        "id": "zMwIdbq6VsHg"
      },
      "execution_count": null,
      "outputs": []
    },
    {
      "cell_type": "code",
      "source": [
        "# Task 10\n",
        "\"\"\"You are given an array of numbers. Print the least occurring element.\n",
        "If there is more than 1 element print all of them in decreasing order of their value.\"\"\"\n",
        "\n",
        "n = int(input())\n",
        "elements = list(map(int, input().split()))\n",
        "elements_count = {i:elements.count(i) for i in elements}\n",
        "\n",
        "min_value = min(elements_count.values())\n",
        "min_keys = [key for key, value in elements_count.items() if value == min_value]\n",
        "\n",
        "min_keys.sort(reverse=True)\n",
        "print(' '.join(map(str, min_keys)))"
      ],
      "metadata": {
        "id": "neLns3aBVjH_"
      },
      "execution_count": null,
      "outputs": []
    },
    {
      "cell_type": "code",
      "source": [
        "# Task 11\n",
        "# Cumulative probability = 1 - (5/6)^n\n",
        "\"\"\"You are given a number ‘n’.\n",
        "Print two numbers denoting numerator and denominator\"\"\"\n",
        "\n",
        "from fractions import Fraction\n",
        "n = int(input())\n",
        "final_result = 0\n",
        "for i in range(1, n+1):\n",
        "    base_fraction = Fraction(5, 6)\n",
        "    result_fraction = base_fraction ** i\n",
        "    final_result = 1 - result_fraction\n",
        "print(f'{final_result.numerator} {final_result.denominator}')"
      ],
      "metadata": {
        "id": "UoLRticFVTD2"
      },
      "execution_count": null,
      "outputs": []
    },
    {
      "cell_type": "code",
      "source": [
        "# Task 12\n",
        "\"\"\"In a firm there is an intelligent employee.\n",
        "He said that he will not work on all those days which has factors more than 2.\n",
        "You are given with month and year calculate the no of working days of employee.\"\"\"\n",
        "\n",
        "x = input().split()\n",
        "months = {'January': 1, 'February': 2, 'March': 3, 'April': 4,\n",
        "    'May': 5, 'June': 6, 'July': 7, 'August': 8,\n",
        "    'September': 9, 'October': 10, 'November': 11, 'December': 12\n",
        "}\n",
        "month = x[0]\n",
        "get_month = months[month]\n",
        "year = x[1]\n",
        "lower = 1\n",
        "count = 0\n",
        "def get_range(month, year):\n",
        "    if month in list(range(1,7)):\n",
        "        if month == 2:\n",
        "            if year % 4 == 0:\n",
        "                return 29\n",
        "            else:\n",
        "                return 28\n",
        "        if month % 2 == 0:\n",
        "            return 30\n",
        "        else:\n",
        "            return 31\n",
        "    else:\n",
        "        if month % 2 == 0:\n",
        "            return 31\n",
        "        else:\n",
        "            return 30\n",
        "\n",
        "x = get_range(get_month, year)\n",
        "for num in range(lower, x + 1):\n",
        "   if num > 1:\n",
        "       for i in range(2, num):\n",
        "           if (num % i) == 0:\n",
        "               break\n",
        "       else:\n",
        "           count = count + 1\n",
        "\n",
        "print(count)"
      ],
      "metadata": {
        "id": "c-pLOv18VLmA"
      },
      "execution_count": null,
      "outputs": []
    },
    {
      "cell_type": "code",
      "source": [
        "# Task 13\n",
        "\"\"\"You are given an array of non-negative integers representing height of walls at index i as\n",
        "Ai and the width of each block is 1. Compute how much air can be encapsulated between the walls of chamber.\n",
        "\n",
        "Input Description:\n",
        "Each line contains an integer ‘N’ denoting the size of the array Next line contains N space separated\n",
        "numbers to be stored in array.\n",
        "\n",
        "Output Description:\n",
        "Output the total unit of Air encapsulated between the walls of chamber.\n",
        "\"\"\"\n",
        "a=int(input())\n",
        "list_1 = list(map(int, input().split()))\n",
        "ind_0 = list_1[0]\n",
        "if list_1[a-1] < ind_0:\n",
        "    ind_0 = list_1[a-1]\n",
        "b=0\n",
        "for i in list_1[1:a-1]:\n",
        "    if i < ind_0:\n",
        "        b += ind_0-i\n",
        "print(b)"
      ],
      "metadata": {
        "id": "ZbdZ3qwmVEbO"
      },
      "execution_count": null,
      "outputs": []
    },
    {
      "cell_type": "code",
      "source": [
        "# Task 14\n",
        "\"\"\"You are given with a number ‘n’. You have to count the pair of two numbers\n",
        "a and b such that sum of two numbers are equal to n.\n",
        "Note:Both numbers lie in range 1<=a,b<n\n",
        "Input Description:\n",
        "You are given a number ‘n’\n",
        "Output Description:\n",
        "Print the number of pairs satisfying above condition\"\"\"\n",
        "\n",
        "n = int(input())\n",
        "list_numbers = range(1,n)\n",
        "count = 0\n",
        "for i in range(1, n):\n",
        "    for j in range(1, n):\n",
        "        if i + j == n:\n",
        "            count += 1\n",
        "print(count)"
      ],
      "metadata": {
        "id": "GTuRl2c4U-D_"
      },
      "execution_count": null,
      "outputs": []
    },
    {
      "cell_type": "code",
      "source": [
        "# Task 15\n",
        "\"\"\"Count the number of digits of a given number N.Size of the integer ranges from 1\n",
        "Sample Testcases :\n",
        "INPUT\n",
        "548\n",
        "OUTPUT\n",
        "3\"\"\"\n",
        "\n",
        "n = int(input())\n",
        "print(len(str(n)))"
      ],
      "metadata": {
        "id": "kopj5i3zU78j"
      },
      "execution_count": null,
      "outputs": []
    },
    {
      "cell_type": "code",
      "source": [
        "# Task 16\n",
        "\"\"\"You are given a set of numbers,\n",
        "out of which you have to tell which of them are finest.\n",
        "A finest number ‘n’ is a number which is formed by a number ‘t’ such that\n",
        "n=t^3+(t+1)^3\"\"\"\n",
        "\n",
        "import math\n",
        "\n",
        "n = int(input())\n",
        "numbers = list(map(int, input().split()))\n",
        "\n",
        "finest_values = []\n",
        "\n",
        "for number in numbers:\n",
        "    found_finest = False\n",
        "    for count in range(1, int(math.pow(number, 1 / 3)) + 1):\n",
        "        t_value = math.pow(count, 3) + math.pow(count + 1, 3)\n",
        "        if t_value == number:\n",
        "            finest_values.append(number)\n",
        "            found_finest = True\n",
        "            break\n",
        "\n",
        "    if not found_finest:\n",
        "        finest_values.append(-1)\n",
        "\n",
        "result = sorted(filter(lambda x: x != -1, finest_values))\n",
        "\n",
        "print(\" \".join(map(str, result)))"
      ],
      "metadata": {
        "id": "zklOnpXVUrrK"
      },
      "execution_count": null,
      "outputs": []
    },
    {
      "cell_type": "code",
      "source": [
        "# Task 17\n",
        "\"\"\"You are given a task to\n",
        "tell whether the number is pure or not. A pure number is a number whose sum of digits is multiple of 3.\"\"\"\n",
        "\n",
        "n = int(input())\n",
        "add = 0\n",
        "\n",
        "while n > 0:\n",
        "    x = n % 10\n",
        "    add = add + x\n",
        "    n = n // 10\n",
        "\n",
        "print('yes' if add % 3 == 0 else 'not')"
      ],
      "metadata": {
        "id": "hXVn0Z7lUoI4"
      },
      "execution_count": null,
      "outputs": []
    },
    {
      "cell_type": "code",
      "source": [
        "# Task 18\n",
        "\"\"\" Pk finds it difficult to judge the minimum element in the list of elements given to him.\n",
        "Your task is to develop the algorithm in order to find the minimum element.\n",
        "\n",
        "Note:Don’t use sorting\n",
        "\"\"\"\n",
        "n = int(input())\n",
        "list_1 = list(map(int, input().split()))\n",
        "\n",
        "temp = list_1[0]\n",
        "for i in list_1:\n",
        "    if temp < i:\n",
        "        temp = temp\n",
        "    else:\n",
        "        temp = i\n",
        "\n",
        "print(temp)"
      ],
      "metadata": {
        "id": "KK8jLXdpUWHa"
      },
      "execution_count": null,
      "outputs": []
    },
    {
      "cell_type": "code",
      "source": [
        "# Task 19\n",
        "\"\"\" Given a number N, print the product of the digits.\n",
        "Input Size : N <= 100000000000\"\"\"\n",
        "\n",
        "n = int(input())\n",
        "product = 1\n",
        "while n > 0:\n",
        "    x = n % 10\n",
        "    product = product * x\n",
        "    n = n // 10\n",
        "print(product)"
      ],
      "metadata": {
        "id": "pN2YbKtxUN01"
      },
      "execution_count": null,
      "outputs": []
    },
    {
      "cell_type": "code",
      "source": [
        "# Task 20\n",
        "\"\"\"Given a number N, find the nearest greater multiple of 10.\n",
        "Input Size : N <= 10000\"\"\"\n",
        "\n",
        "n = int(input())\n",
        "\n",
        "for i in range(n, 10000):\n",
        "    if i % 10 == 0:\n",
        "        print(i)\n",
        "        break"
      ],
      "metadata": {
        "id": "fnuepzW4UKsh"
      },
      "execution_count": null,
      "outputs": []
    },
    {
      "cell_type": "code",
      "source": [
        "# Task 21\n",
        "\"\"\"Given 3 numbers N , L and R. Print 'yes' if N is between L and R else print 'no'.\"\"\"\n",
        "n = int(input())\n",
        "l, r = input().split()\n",
        "if n > int(l) and n < int(r):\n",
        "    print('yes')\n",
        "else:\n",
        "    print('no')"
      ],
      "metadata": {
        "id": "CS8qTDQsT-Sb"
      },
      "execution_count": null,
      "outputs": []
    },
    {
      "cell_type": "code",
      "source": [
        "# Task 22\n",
        "\"\"\"Sreelatha was confused with series. She is given with a number ‘n’.\n",
        "There is a pattern hidden the series. She has to understand and\n",
        "print the series till nth number by looking into example.\n",
        "Sreelatha is confused and She hired you , you have to develop the series for sreelatha by\n",
        "observing the pattern from the below example.\n",
        "Input Description:\n",
        "She is given with a number ‘n’. #3\n",
        "Output Description:\n",
        "print  the series till nth number #1 9 36\n",
        "\"\"\"\n",
        "n = int(input())\n",
        "temp = 1\n",
        "new_list = ''\n",
        "for i in range(2, 10):\n",
        "    if len(new_list.split()) > n-1:\n",
        "        break\n",
        "    new_list = new_list + ' ' + str(temp**2)\n",
        "    temp = temp + i\n",
        "print(new_list.strip())"
      ],
      "metadata": {
        "id": "wM_w322lT1xi"
      },
      "execution_count": null,
      "outputs": []
    },
    {
      "cell_type": "code",
      "source": [
        "# Task 23\n",
        "\"\"\"Given a number N, print the odd digits in the number(space seperated) or\n",
        "print -1 if there is no odd digit in the given number.\n",
        "Input Size : N <= 100000\n",
        "Sample Testcase :\n",
        "INPUT\n",
        "2143\n",
        "OUTPUT\n",
        "1 3:\"\"\"\n",
        "\n",
        "n = int(input())\n",
        "\n",
        "odd = []\n",
        "while n > 0:\n",
        "    x = n % 10\n",
        "    if x % 2 != 0:\n",
        "        odd.append(x)\n",
        "    n = n // 10\n",
        "\n",
        "odd.reverse()\n",
        "if len(odd) != 0:\n",
        "    print(' '.join(str(i) for i in odd))\n",
        "else:\n",
        "    print(-1)"
      ],
      "metadata": {
        "id": "BBFYGUmzTsmn"
      },
      "execution_count": null,
      "outputs": []
    },
    {
      "cell_type": "code",
      "source": [
        "# Task 24\n",
        "\"\"\"Given a number N, find its next immediate greater power of 2(i.e 2^1, 2^2, 2^3...).\n",
        "Input Size : N <= 1000\"\"\"\n",
        "\n",
        "n = int(input())\n",
        "list_2 = [(2**i) for i in range(1, 100)]\n",
        "for i in list_2:\n",
        "    if n in list_2:\n",
        "        index = list_2.index(n)\n",
        "        print(list_2[index+1])\n",
        "        break"
      ],
      "metadata": {
        "id": "aA22wmWlTi16"
      },
      "execution_count": null,
      "outputs": []
    },
    {
      "cell_type": "code",
      "source": [
        "# Task 25\n",
        "\"\"\"CONSTRAINTS 1<=Y,N,T<=1000 , First line contains no. of test cases(Y). Next line contains a number N.\n",
        "Next line contains n space separated numbers Next line contains a number\n",
        "T denoting the number of questions asked from you regarding the given array.\n",
        "Next line contains T space separated numbers.\n",
        "Output Description:\n",
        "Print the occurrence of each number if present else “NOT PRESENT”\n",
        "Sample Input :\n",
        "10\n",
        "1 1 1 2 2 2 3 8 9 7\n",
        "5\n",
        "1 2 3 0 5\n",
        "Sample Output :\n",
        "3 3 1 Not Present Not Present\"\"\"\n",
        "\n",
        "y = int(input())\n",
        "N = list(map(int, input().split()))\n",
        "s = int(input())\n",
        "t = list(map(int, input().split()))\n",
        "def get_len_of_num(n):\n",
        "    count = 0\n",
        "    for i in N:\n",
        "        if n == i:\n",
        "            count = count+1\n",
        "    return count\n",
        "\n",
        "count = 0\n",
        "final_output = ''\n",
        "for i in t:\n",
        "    count = get_len_of_num(i)\n",
        "    if count != 0:\n",
        "        final_output += ' ' + str(count)\n",
        "    else:\n",
        "        final_output += ' Not Present'\n",
        "\n",
        "print(final_output.strip())"
      ],
      "metadata": {
        "id": "JLKbHfGDTQGL"
      },
      "execution_count": null,
      "outputs": []
    },
    {
      "cell_type": "code",
      "source": [
        "# Task 26\n",
        "\"\"\"Given a number N, print 'yes' if it is composite else print 'no'.\n",
        "Sample Testcase :\n",
        "INPUT\n",
        "123\n",
        "OUTPUT\n",
        "yes\"\"\"\n",
        "\n",
        "n = int(input())\n",
        "count = 0\n",
        "\n",
        "for i in range(1, n+1):\n",
        "    if n%i == 0:\n",
        "        count += 1\n",
        "\n",
        "if count > 2:\n",
        "    print(\"yes\")\n",
        "else:\n",
        "    print(\"no\")"
      ],
      "metadata": {
        "id": "Z2l1PNp7TDo0"
      },
      "execution_count": null,
      "outputs": []
    },
    {
      "cell_type": "code",
      "source": [
        "# Task 27\n",
        "\"\"\"Ajay is given a series(In example).he gone through the series but unable to understand it properly\n",
        "he has hired you. Your task is to understand the series and print the series 2,6,12,20,30... .\n",
        "You are given with a number ‘n’. Find the nth number of series.\n",
        "Input Description:\n",
        "You are given a number ‘n’.\n",
        "Output Description:\n",
        "Print the nth number of series\n",
        "Sample Input :\n",
        "5\n",
        "Sample Output :\n",
        "30\"\"\"\n",
        "# 2 ah 2 ah kutitu ponum. 2 + 4 = 6, 6 + 6 = 12, 12 + 8 = 20\n",
        "n = int(input())\n",
        "output = 0\n",
        "for i in range(0,n+1):\n",
        "    output+=i*2\n",
        "print(output)"
      ],
      "metadata": {
        "id": "Pf2xmSzTS621"
      },
      "execution_count": null,
      "outputs": []
    },
    {
      "cell_type": "code",
      "source": [
        "# Task 28\n",
        "\"\"\"Simi is learning about palindromic numbers.\n",
        "Her teacher gave him the task to count all palindromic numbers present in that range.Simi has told you about this and want your help.\n",
        "You design an algorithm in order to help simi.\n",
        "\n",
        "Input Description:\n",
        "You will be given a number ‘n’\n",
        "\n",
        "Output Description:\n",
        "Print the count of all palindromic numbers till ‘n’(inclusive)\n",
        "\n",
        "Sample Input :\n",
        "5\n",
        "Sample Output :\n",
        "5\"\"\"\n",
        "n = int(input())\n",
        "count = 0\n",
        "for i in range(1, n + 1):\n",
        "    if str(i) == str(i)[::-1]:\n",
        "        count += 1\n",
        "print(count)\n"
      ],
      "metadata": {
        "id": "_Ilvv7rTidBX"
      },
      "execution_count": null,
      "outputs": []
    },
    {
      "cell_type": "code",
      "source": [
        "# Task 29\n",
        "\"\"\"you are given with ‘arasu’ series(shown in example).\n",
        "You have to understand it and you will be given a number ‘n’ ,you have to print the series till n numbers.\n",
        "\n",
        "Input Description:\n",
        "You are given a number n;\n",
        "\n",
        "Output Description:\n",
        "Print series till nth number\n",
        "\n",
        "Sample Input :\n",
        "4\n",
        "Sample Output :\n",
        "2 5 10 17\"\"\"\n",
        "n = int(input())\n",
        "count = 1\n",
        "new_list = []\n",
        "i = 1\n",
        "while len(new_list) < n:\n",
        "    count = count+i\n",
        "    new_list.append(count)\n",
        "    i = i+2\n",
        "print(*new_list)"
      ],
      "metadata": {
        "id": "fgVTQWyanymc"
      },
      "execution_count": null,
      "outputs": []
    },
    {
      "cell_type": "code",
      "source": [
        "# Task 30\n",
        "\"\"\"Given 2 numbers N,M. Find their difference and check whether it is even or odd.\n",
        "Sample Testcase :\n",
        "INPUT\n",
        "5 5\n",
        "OUTPUT\n",
        "even\"\"\"\n",
        "n, m = map(int, input().split())\n",
        "difference = n-m\n",
        "print(\"even\" if difference%2 == 0 else \"odd\")"
      ],
      "metadata": {
        "id": "8b8HkBuQoVkK"
      },
      "execution_count": null,
      "outputs": []
    },
    {
      "cell_type": "code",
      "source": [
        "# Task 31\n",
        "\"\"\"Given a number N, check whether it is prime or not. Print 'yes' if it is prime else print 'no'.\n",
        "Sample Testcase :\n",
        "INPUT\n",
        "123\n",
        "OUTPUT\n",
        "no\"\"\"\n",
        "n = int(input())\n",
        "flag = False\n",
        "for i in range(2,n):\n",
        "    if n%i == 0:\n",
        "        flag = True\n",
        "        break\n",
        "if flag:\n",
        "    print(\"no\")\n",
        "else:\n",
        "    print(\"yes\")"
      ],
      "metadata": {
        "id": "z38r3SSCp8oK"
      },
      "execution_count": null,
      "outputs": []
    },
    {
      "cell_type": "code",
      "source": [
        "# Task 32\n",
        "\"\"\"Write a program to print the sum of the first K natural numbers.\n",
        "Input Size : n <= 100000\n",
        "Sample Testcase :\n",
        "INPUT\n",
        "3\n",
        "OUTPUT\n",
        "6\"\"\"\n",
        "userInput = int(input())\n",
        "sum = 0\n",
        "for i in range(1, userInput+1):\n",
        "    sum += i\n",
        "print(sum)"
      ],
      "metadata": {
        "id": "RYbf__2lLt3u"
      },
      "execution_count": null,
      "outputs": []
    },
    {
      "cell_type": "code",
      "source": [
        "# Task 33\n",
        "\"\"\"You are given with a string which comprises of some numbers.\n",
        " Your task is to find the largest integer by converting the string to the corresponding integer.\n",
        "\n",
        "Input Description:\n",
        "First line contains n denoting number of Test Cases. The first and only Line of testcase has the string\n",
        "\n",
        "Output Description:\n",
        "Print the largest number\n",
        "\n",
        "Sample Input :\n",
        " I was born on 12 october 1998.\n",
        "Sample Output :\n",
        "1998\"\"\"\n",
        "s = input()\n",
        "result = ''.join(filter(lambda x: x.isalpha() or x.isdigit() or x.isspace(), s))\n",
        "digits = []\n",
        "for i in result.split():\n",
        "  if i.isdigit():\n",
        "    digits.append(int(i))\n",
        "\n",
        "print(max(digits))"
      ],
      "metadata": {
        "id": "462iKPmjLyx-"
      },
      "execution_count": null,
      "outputs": []
    },
    {
      "cell_type": "code",
      "source": [
        "# Task 34\n",
        "\"\"\"Given a number N, check whether it is prime or not. Print 'yes' if it is prime else print 'no'.\n",
        "Sample Testcase :\n",
        "INPUT\n",
        "123\n",
        "OUTPUT\n",
        "no\"\"\"\n",
        "n = int(input())\n",
        "flag = False\n",
        "for i in range(2,n):\n",
        "    if n%i == 0:\n",
        "        flag = True\n",
        "        break\n",
        "if flag:\n",
        "    print(\"no\")\n",
        "else:\n",
        "    print(\"yes\")"
      ],
      "metadata": {
        "id": "CVeLSoD_L5cq"
      },
      "execution_count": null,
      "outputs": []
    },
    {
      "cell_type": "code",
      "source": [
        "# Task 35\n",
        "\"\"\" You are given a ‘true’ string. String is called true if weight of string is multiple of 8.\n",
        " Your task is to tell whether a string can be declared True or Not.\n",
        " Weight of string is the sum of ASCII value of Vowel character(s) present in the string.\n",
        "\n",
        "Input Description:\n",
        "You are given as string ‘s’ in lower cases\n",
        "\n",
        "Output Description:\n",
        "Print 1 for true and 0 for false\n",
        "\n",
        "Sample Input :\n",
        "raja\n",
        "Sample Output :\n",
        "0\"\"\"\n",
        "s = input()\n",
        "add = 0\n",
        "for i in s:\n",
        "    add += ord(i)\n",
        "\n",
        "print(\"1\" if add%8 == 0 else \"0\")"
      ],
      "metadata": {
        "id": "VhdKulfdL_6A"
      },
      "execution_count": null,
      "outputs": []
    },
    {
      "cell_type": "code",
      "source": [
        "# Task 36\n",
        "\"\"\"Kabali is a brave warrior who with his group of young ninjas moves from one place to another to fight against his opponents.\n",
        "Before Fighting he just calculates one thing, the difference between his ninja number and the opponent's ninja number. From this difference\n",
        "he decides whether to fight or not. Kabali's ninja number is never greater than his opponent.\n",
        "Input\n",
        "The input contains two numbers in every line. These two numbers in each line denotes the number ninjas in Kabali's clan and his opponent's clan .\n",
        " print the absolute difference of number of ninjas between Kabali's clan and his opponent's clan. Each output should be in seperate line.\n",
        "Sample Testcase :\n",
        "INPUT\n",
        "100 200\n",
        "OUTPUT\n",
        "100\"\"\"\n",
        "x, y = input().split()\n",
        "print(int(y) - int(x))"
      ],
      "metadata": {
        "id": "T01G2ADbMH_t"
      },
      "execution_count": null,
      "outputs": []
    },
    {
      "cell_type": "code",
      "source": [
        "# Task 37\n",
        "\"\"\"In a world cup tournament,no of goals scored by each team is given to you. Your task is to calculate net goal rate of each team.\n",
        "Net goal rate of team is calculated\n",
        "\n",
        "No of goals(team)- sum of(no of goals by last 3 teams)\n",
        "\n",
        "\n",
        "Input Description:\n",
        "You are given a number ‘n’.Next line contains n space separated numbers.\n",
        "\n",
        "Output Description:\n",
        "Print the net goal rate of each team\n",
        "\n",
        "Sample Input :\n",
        "5\n",
        "95 85 75 12 11\n",
        "Sample Output :\n",
        "-3 -13 -23 -86 -87\"\"\"\n",
        "n = int(input())\n",
        "goal = list(map(int,input().split()))\n",
        "final_list = []\n",
        "for i in goal:\n",
        "    total_sum = i - sum(goal[-3:])\n",
        "    final_list.append(total_sum)\n",
        "print(*final_list)"
      ],
      "metadata": {
        "id": "W6t0vP4WMT84"
      },
      "execution_count": null,
      "outputs": []
    },
    {
      "cell_type": "code",
      "source": [
        "# Task 38\n",
        "\"\"\"Given a number N, print its reverse.\n",
        "Input Size : n <= 1000\n",
        "Sample Testcase :\n",
        "INPUT\n",
        "10\n",
        "OUTPUT\n",
        "1\"\"\"\n",
        "n = input()\n",
        "print(int(n[::-1]))"
      ],
      "metadata": {
        "id": "x6xVzTgkMfMp"
      },
      "execution_count": null,
      "outputs": []
    },
    {
      "cell_type": "code",
      "source": [
        "# Task 39\n",
        "\"\"\"Given 3 numbers A,B,C find the sum of Arithmetic Series with a=A, d=B and n=C\n",
        "Sample Testcase :\n",
        "INPUT\n",
        "1 1 2\n",
        "OUTPUT\n",
        "3\"\"\"\n",
        "a,b,n = map(int, input().split())\n",
        "t = 0\n",
        "for i in range(1,n+1):\n",
        "    arithmetic_sum = a + (i-1)*b\n",
        "    t=t+arithmetic_sum\n",
        "print(t)"
      ],
      "metadata": {
        "colab": {
          "base_uri": "https://localhost:8080/"
        },
        "id": "R3YWwpmaM78b",
        "outputId": "cf7c2992-156d-4aff-ca5f-d002269d9719"
      },
      "execution_count": null,
      "outputs": [
        {
          "output_type": "stream",
          "name": "stdout",
          "text": [
            "2 3 4\n",
            "26\n"
          ]
        }
      ]
    },
    {
      "cell_type": "code",
      "source": [
        "# Task 40\n",
        "\"\"\"Given a number N, print 'yes' if it is a multiple of 13 else print 'no'.\n",
        "Sample Testcase :\n",
        "INPUT\n",
        "26\n",
        "OUTPUT\n",
        "yes\"\"\"\n",
        "n = int(input())\n",
        "print(\"yes\" if n%13 == 0 else \"no\")"
      ],
      "metadata": {
        "colab": {
          "base_uri": "https://localhost:8080/"
        },
        "id": "9ZfNePfbO6fY",
        "outputId": "db9e7f76-1592-4131-e579-bd707a9ce2a3"
      },
      "execution_count": null,
      "outputs": [
        {
          "output_type": "stream",
          "name": "stdout",
          "text": [
            "26\n",
            "yes\n"
          ]
        }
      ]
    },
    {
      "cell_type": "code",
      "source": [
        "# Task 41\n",
        "\"\"\"Given 2 numbers N and K followed by N elements,print the number of repetition of K otherwise print '-1' if the element not found.\n",
        "Sample Testcase :\n",
        "INPUT\n",
        "6 2\n",
        "1 2 3 5 7 8\n",
        "OUTPUT\n",
        "0\"\"\"\n",
        "N, K = map(int, input().split())\n",
        "elements = list(map(int, input().split()))\n",
        "\n",
        "count = elements.count(K)\n",
        "if count > 0:\n",
        "    if count == 1:\n",
        "        print(0)\n",
        "    else:\n",
        "        print(count)\n",
        "else:\n",
        "    print(-1)"
      ],
      "metadata": {
        "id": "8dMbFqKdQDda"
      },
      "execution_count": null,
      "outputs": []
    },
    {
      "cell_type": "code",
      "source": [
        "# Task 42 (Pending)\n",
        "\"\"\"You are an employee of ‘Rox Travel’ channel.\n",
        "The channel has decided to give allowances to some customer who satisfy these conditions. The conditions are:\n",
        "\n",
        "The customer should be born on or before july 22 1987\n",
        "\n",
        "The month of D.O.B month should be of 31 days.\n",
        "\n",
        "You are given with the D.O.B of all the employees.Your task is to print the employee index who are having chance to avail special offer.\n",
        "\n",
        "Input Description:\n",
        "First line contains the number of employee.Next line contains an array of D.O.B of employees\n",
        "\n",
        "Output Description:\n",
        "Print the employee index (index at 1). Print-1 if there are no such employee\n",
        "\n",
        "Sample Input :\n",
        "Input\n",
        "4\n",
        "23 MARCH 1996 23 MARCH 1986 22 JULY 1987 23 APRIL 1987\n",
        "Sample Output :\n",
        "2 3\"\"\""
      ],
      "metadata": {
        "id": "PIdu-wXVQLCy"
      },
      "execution_count": null,
      "outputs": []
    },
    {
      "cell_type": "code",
      "source": [
        "# Task 43\n",
        "\"\"\"Given a range of 2 numbers (i.e) L and R count the number of prime numbers in the range (inclusive of L and R ).\n",
        "Input Size : L <= R <= 100000(complexity O(n) read about Sieve of Eratosthenes)\n",
        "Sample Testcase :\n",
        "INPUT\n",
        "2 5\n",
        "OUTPUT\n",
        "3\"\"\"\n",
        "l, r = input().split()\n",
        "count = 0\n",
        "for i in range(int(l), int(r)+1):\n",
        "    if i > 1:\n",
        "        is_prime = True\n",
        "        for j in range(2, int(i**0.5) + 1):\n",
        "            if i % j == 0:\n",
        "                is_prime = False\n",
        "                break\n",
        "        if is_prime:\n",
        "            count += 1\n",
        "print(count)"
      ],
      "metadata": {
        "id": "G67TW2dxbNyu"
      },
      "execution_count": null,
      "outputs": []
    },
    {
      "cell_type": "code",
      "source": [
        "# Task 44\n",
        "\"\"\"Given base(B) and height(H) of a triangle find its area.\n",
        "Input Size : N <= 1000000\n",
        "Sample Testcase :\n",
        "INPUT\n",
        "2 4\n",
        "OUTPUT\n",
        "4\"\"\"\n",
        "b, h = input().split()\n",
        "\n",
        "multiply = int(b) * int(h)\n",
        "area = multiply/2\n",
        "print(area)"
      ],
      "metadata": {
        "id": "tVwJjsvebWNC"
      },
      "execution_count": null,
      "outputs": []
    },
    {
      "cell_type": "code",
      "source": [
        "# Task 45\n",
        "\"\"\"Given a number N, print the sum of squares of all its digits.\n",
        "Input Size : 1 <= N <= 100000\n",
        "Sample Testcase :\n",
        "INPUT\n",
        "12\n",
        "OUTPUT\n",
        "5\"\"\"\n",
        "n = int(input())\n",
        "sum = 0\n",
        "while n > 0:\n",
        "    x = n % 10\n",
        "    sum += x**2\n",
        "    n = n // 10\n",
        "print(sum)"
      ],
      "metadata": {
        "id": "EROmB6rDbbIS"
      },
      "execution_count": null,
      "outputs": []
    },
    {
      "cell_type": "code",
      "source": [
        "# Task 46\n",
        "\"\"\"Given a floating point number with 1 decimal place round it off to nearest greater integer and print it.\n",
        "Sample Testcase :\n",
        "INPUT\n",
        "2.6\n",
        "OUTPUT\n",
        "3\"\"\"\n",
        "# ceil -> 2.3,2.4 whatever it takes 3\n",
        "# floor -> 2.3, 2.6 whatever it takes 2\n",
        "# round -> 2.3 -> 2, 2.6-> 3\n",
        "import math\n",
        "n = float(input())\n",
        "print(math.ceil(n))\n"
      ],
      "metadata": {
        "id": "ya2ALBtibh_z"
      },
      "execution_count": null,
      "outputs": []
    },
    {
      "cell_type": "code",
      "source": [
        "# Task 47\n",
        "\"\"\"Rajesh is very fond of numbers. With the given positive number(‘n’) ,\n",
        "he has to tell whether a number is lively or not. A lively number is a number which has same frequency of all integers present.\n",
        "\n",
        "Input Description:\n",
        "A integer ‘n’ will be given\n",
        "\n",
        "Output Description:\n",
        "Print 1 if number is lively and 0 if it is not lively.\n",
        "\n",
        "Sample Input :\n",
        "1212\n",
        "Sample Output :\n",
        "1\"\"\"\n",
        "n = input()\n",
        "freq = {}\n",
        "for i in n:\n",
        "  if i in freq:\n",
        "    freq[i] += 1\n",
        "  else:\n",
        "    freq[i] = 1\n",
        "res = len(set(list(freq.values()))) == 1\n",
        "if res:\n",
        "    print(1)\n",
        "else:\n",
        "    print(0)"
      ],
      "metadata": {
        "id": "K2u1aNfGdAj5"
      },
      "execution_count": null,
      "outputs": []
    },
    {
      "cell_type": "code",
      "source": [
        "# Task 48\n",
        "\"\"\"Given a number N followed by N elements which can be arranged in ascending order with maximum one element update.\n",
        "Print the index of the element which has to be changed else print '-1'\n",
        "if the updation not neccassary or if the given input needs more than one update to form ascending order.\n",
        "Sample Testcase :\n",
        "INPUT\n",
        "7\n",
        "1 2 4 3 5 6 8\n",
        "OUTPUT\n",
        "2\n",
        "Sample Testcase :\n",
        "INPUT\n",
        "5\n",
        "1 10 3 14 5\n",
        "OUTPUT\n",
        "-1\"\"\"\n",
        "n = int(input())\n",
        "arr = list(map(int, input().split()))\n",
        "count = 0\n",
        "index = None\n",
        "for i in range(len(arr)-1):\n",
        "  if arr[i] > arr[i+1]:\n",
        "    count += 1\n",
        "    index = i\n",
        "\n",
        "if count == 1:\n",
        "  print(index)\n",
        "else:\n",
        "  print(-1)"
      ],
      "metadata": {
        "id": "hOpTgQmwhJUL"
      },
      "execution_count": null,
      "outputs": []
    },
    {
      "cell_type": "code",
      "source": [
        "# Task 49\n",
        "\"\"\"Given the values of a,b and x in the equation ax + b = y. Find the value of y.\n",
        "Sample Testcase :\n",
        "INPUT\n",
        "3 5 2\n",
        "OUTPUT\n",
        "11\"\"\"\n",
        "a, b, x = map(int, input().split())\n",
        "print((a*x)+b)"
      ],
      "metadata": {
        "colab": {
          "base_uri": "https://localhost:8080/"
        },
        "id": "XLKW-h2Ihx7t",
        "outputId": "90be0b3d-e932-4e2e-b226-4c8214f150fa"
      },
      "execution_count": null,
      "outputs": [
        {
          "output_type": "stream",
          "name": "stdout",
          "text": [
            "3 5 2\n",
            "11\n"
          ]
        }
      ]
    },
    {
      "cell_type": "code",
      "source": [
        "# Task 50\n",
        "\"\"\"In \"A Mathematicians Apology\", G.H. Hardy wrote:\n",
        "“There are just four numbers, after unity, which are the sums of the cubes of their digits”\n",
        "Let the largest of those four numbers be X.\n",
        "A hash function for performing separate chaining was defined as hash(n) := n mod X, where n is a whole number. Separate chaining was performed for N integers in an array A. Mrs. Leela was asked to find the number of empty chains from 0 to X-1 (both inclusive) after performing the hashing using separate chaining. Help her solve this mysterious question.\n",
        "Separate chaining resources:\n",
        "https://en.wikipedia.org/wiki/Hash_table#Separate_chaining_with_linked_lists\n",
        "https://www.geeksforgeeks.org/hashing-set-2-separate-chaining/\n",
        "\n",
        "Input Description:\n",
        "The first line contains the number of integers N. The second line contains N space separated integers.\n",
        "\n",
        "Output Description:\n",
        "Print a single line containing an integer denoting the number of empty chains.\n",
        "\n",
        "Sample Input :\n",
        "15\n",
        "0 1 2 3 4 5 6 7 8 9 10 11 12 13 14 15\n",
        "Sample Output :\n",
        "392\"\"\""
      ],
      "metadata": {
        "id": "zTQOMJt4ky8H"
      },
      "execution_count": null,
      "outputs": []
    },
    {
      "cell_type": "code",
      "source": [
        "# Task 51\n",
        "\"\"\"In a garage the service man takes 10 minutes to service one car.\n",
        "If there are N cars in garage and X is number of minutes after which one person arrives,Calculate how much time last person\n",
        "has to wait in garage.(Print answer in minutes)\n",
        "\n",
        "Input Description:\n",
        "You are given Two numbers ‘N’ and ‘X’\n",
        "\n",
        "Output Description:\n",
        "Waiting time of last person\n",
        "\n",
        "Sample Input :\n",
        "4 5\n",
        "Sample Output :\n",
        "15\"\"\"\n",
        "n, x = map(int, input().split())\n",
        "avg_arrival_time = 10-x\n",
        "final_arrival = (n-1) * avg_arrival_time\n",
        "print(final_arrival)"
      ],
      "metadata": {
        "id": "fmz68SDal42n"
      },
      "execution_count": null,
      "outputs": []
    },
    {
      "cell_type": "code",
      "source": [
        "# Task 52\n",
        "\"\"\"In XYZ country there is rule that car’s engine no. depends upon car’ number plate.\n",
        "Engine no is sum of all the integers present on car’s Number plate.\n",
        "The issuing authority has hired you in order to provide engine no. to the cars.\n",
        "Your task is to develop an algorithm which takes input as in form of string(Number plate) and gives back\n",
        "Engine number.\n",
        "\n",
        "Input Description:\n",
        "You are given a string ’s’\n",
        "\n",
        "Output Description:\n",
        "Print the engine number\n",
        "\n",
        "Sample Input :\n",
        "HR05-AA-2669\n",
        "Sample Output :\n",
        "28\"\"\"\n",
        "n = input()\n",
        "engine_no = 0\n",
        "for i in n:\n",
        "    if i.isdigit():\n",
        "        engine_no += int(i)\n",
        "print(engine_no)"
      ],
      "metadata": {
        "id": "QCC83cQsk8Sa"
      },
      "execution_count": null,
      "outputs": []
    },
    {
      "cell_type": "code",
      "source": [
        "# Task 53\n",
        "\"\"\"You are given given task is to print whether array is ‘majestic’ or not.\n",
        "A ‘majsetic’ array is an array whose sum of first three number is equal to last three number.\n",
        "\n",
        "Input Description:\n",
        "You are given a number ‘n’,Next line contains ‘n’ space separated\n",
        "\n",
        "Output Description:\n",
        "Print 1 if array is majestic and 0 if it is not\n",
        "\n",
        "Sample Input :\n",
        "7\n",
        "1 2 3 4 6 0 0\n",
        "Sample Output :\n",
        "1\"\"\"\n",
        "n = int(input())\n",
        "s = list(map(int, input().split()))\n",
        "if sum(s[0:3]) == sum(s[-3:]):\n",
        "    print(1)\n",
        "else:\n",
        "    print(0)"
      ],
      "metadata": {
        "id": "XNChm3LDlRrl"
      },
      "execution_count": null,
      "outputs": []
    },
    {
      "cell_type": "code",
      "source": [
        "# Task 54\n",
        "\"\"\"Given numbers A,B find A^B.\n",
        "Input Size : 1 <= A <= 5 <= B <= 50\n",
        "Sample Testcase :\n",
        "INPUT\n",
        "3 4\n",
        "OUTPUT\n",
        "81\"\"\"\n",
        "a, b = map(int, input().split())\n",
        "print(a**b)"
      ],
      "metadata": {
        "id": "R3u8pq_6lggp"
      },
      "execution_count": null,
      "outputs": []
    },
    {
      "cell_type": "code",
      "source": [
        "# Task 55\n",
        "\"\"\"A stiff number is a number which can only be formed by sum of two number which are co prime.\n",
        "You are given with a number (n). Write a programme to determine whether a number is stiff or not\n",
        "\n",
        "Input Description:\n",
        "You are given a number n\n",
        "\n",
        "Output Description:\n",
        "Print Stiff or not stiff\n",
        "\n",
        "Sample Input :\n",
        "9\n",
        "Sample Output :\n",
        "Stiff\"\"\"\n",
        "import math\n",
        "n = 10\n",
        "co_primes = []\n",
        "for i in range(1, n):\n",
        "  for j in range(1, i):\n",
        "    if math.gcd(i,j) == 1:\n",
        "      co_primes.append((i,j))\n",
        "\n",
        "print(co_primes)\n",
        "stiff = False\n",
        "for j in co_primes:\n",
        "  if sum(j) == n:\n",
        "    stiff = True\n",
        "    break\n",
        "\n",
        "if stiff:\n",
        "  print(\"Stiff\")\n",
        "else:\n",
        "  print(\"Not stiff\")"
      ],
      "metadata": {
        "colab": {
          "base_uri": "https://localhost:8080/"
        },
        "id": "ub5IUIuXlt11",
        "outputId": "17f6b35b-6fdc-4875-a399-f06ead0e7b77"
      },
      "execution_count": null,
      "outputs": [
        {
          "output_type": "stream",
          "name": "stdout",
          "text": [
            "[(2, 1), (3, 1), (3, 2), (4, 1), (4, 3), (5, 1), (5, 2), (5, 3), (5, 4), (6, 1), (6, 5), (7, 1), (7, 2), (7, 3), (7, 4), (7, 5), (7, 6), (8, 1), (8, 3), (8, 5), (8, 7), (9, 1), (9, 2), (9, 4), (9, 5), (9, 7), (9, 8)]\n",
            "Stiff\n"
          ]
        }
      ]
    },
    {
      "cell_type": "markdown",
      "source": [
        "  # **Companies**"
      ],
      "metadata": {
        "id": "TjQBx6MaXN6a"
      }
    },
    {
      "cell_type": "code",
      "source": [
        "# Task 1\n",
        "\"\"\"Given a number N followed by a list of N numbers.\n",
        "Write a program to reverse the list and print the list.\n",
        "Input Size : 1 <= N <= 10000\n",
        "Sample Testcases :\n",
        "INPUT\n",
        "7\n",
        "1 2 3 4 5 6 7\n",
        "OUTPUT\n",
        "7->6->5->4->3->2->1\"\"\"\n",
        "\n",
        "n = int(input())\n",
        "list_1 = list(map(int, input().split()))\n",
        "list_1.reverse()\n",
        "print('->'.join(str(i) for i in list_1))"
      ],
      "metadata": {
        "id": "Eh64TxBvXQPX"
      },
      "execution_count": null,
      "outputs": []
    },
    {
      "cell_type": "code",
      "source": [
        "# Task 2\n",
        "\"\"\"Given a sentence interchange the between the word 'and'.\n",
        "Input Size : |S| <= 1000000\n",
        "Sample Testcase :\n",
        "INPUT\n",
        "jack and jill went up and down to get water\n",
        "OUTPUT\n",
        "jill and jack went down and up to get water\"\"\""
      ],
      "metadata": {
        "id": "spfxtcP-XW9W"
      },
      "execution_count": null,
      "outputs": []
    },
    {
      "cell_type": "markdown",
      "source": [
        "# **Data structures codekata**"
      ],
      "metadata": {
        "id": "jw51de4uy0Ud"
      }
    },
    {
      "cell_type": "code",
      "source": [
        "# Task 1\n",
        "\"\"\"Given 2 numbers a and B.Print the value of a!/b!.\n",
        "Input Size : A,B <= 10000 and A-B <= 5\n",
        "Sample Testcase :\n",
        "INPUT\n",
        "4 2\n",
        "OUTPUT\n",
        "12\"\"\"\n",
        "\n",
        "import math\n",
        "a, b = map(int, input().split())\n",
        "output = math.factorial(a)/math.factorial(b)\n",
        "print(int(output))\n"
      ],
      "metadata": {
        "id": "OrC62Dwny863"
      },
      "execution_count": null,
      "outputs": []
    },
    {
      "cell_type": "markdown",
      "source": [
        "# **Galgotias**"
      ],
      "metadata": {
        "id": "GJ_Ppp78A6Jp"
      }
    },
    {
      "cell_type": "code",
      "source": [
        "# Task 1\n",
        "\"\"\"Write a program to convert Celsius to Fahrenheit.\n",
        "If the output is float value round off upto 1 decimal places.\n",
        "\n",
        "Input Description:\n",
        "First line consists of input number celsius\n",
        "\n",
        "Output Description:\n",
        "Output consists of Fahrenheit\n",
        "\n",
        "Sample Input :\n",
        "78\n",
        "Sample Output :\n",
        "172.4\"\"\"\n",
        "\n",
        "n = int(input())\n",
        "print(round((n*9/5)+32, 1))"
      ],
      "metadata": {
        "colab": {
          "base_uri": "https://localhost:8080/"
        },
        "id": "aNQAM9-6A99c",
        "outputId": "ba487301-a3ef-4aae-bb78-280934a51760"
      },
      "execution_count": null,
      "outputs": [
        {
          "output_type": "stream",
          "name": "stdout",
          "text": [
            "78\n",
            "172.4\n"
          ]
        }
      ]
    },
    {
      "cell_type": "code",
      "source": [
        "# Task 2\n",
        "\"\"\"Write a program to check whether a given number is prime or not. If prime display “True” else “False”.\n",
        "\n",
        "Input Description:\n",
        "First line consists of input number\n",
        "\n",
        "Output Description:\n",
        "Output consists of prime or not\n",
        "\n",
        "Sample Input :\n",
        "1\n",
        "Sample Output :\n",
        "False\"\"\"\n",
        "n = int(input())\n",
        "list_1 = [i for i in range(1, n+1) if n%i == 0]\n",
        "if len(list_1) == 2:\n",
        "    print('True')\n",
        "else:\n",
        "    print('False')"
      ],
      "metadata": {
        "id": "nWdL3r66BbKE",
        "colab": {
          "base_uri": "https://localhost:8080/"
        },
        "outputId": "90a24f97-1eb4-473d-e694-9abcdd750fbc"
      },
      "execution_count": null,
      "outputs": [
        {
          "output_type": "stream",
          "name": "stdout",
          "text": [
            "5\n",
            "False\n"
          ]
        }
      ]
    },
    {
      "cell_type": "code",
      "source": [
        "# Task 3\n",
        "\"\"\"Write a program to find the radius of a circle.\n",
        "If the input is zero and print the output “None” & If the output is float value round off upto 2 decimal places.\n",
        "\n",
        "Input Description:\n",
        "First line consists of input number\n",
        "\n",
        "Output Description:\n",
        "Output consists of Radius of a circle\n",
        "\n",
        "Sample Input :\n",
        "5\n",
        "Sample Output :\n",
        "78.54\"\"\"\n",
        "import math\n",
        "n = int(input())\n",
        "r2 = n**2\n",
        "r1 = math.pi * r2\n",
        "print(round(r1, 2))"
      ],
      "metadata": {
        "colab": {
          "base_uri": "https://localhost:8080/"
        },
        "id": "4wuydHnEA4op",
        "outputId": "19bb10c6-88d7-4cb1-e558-b0c3346bf4ed"
      },
      "execution_count": null,
      "outputs": [
        {
          "output_type": "stream",
          "name": "stdout",
          "text": [
            "5\n",
            "78.54\n"
          ]
        }
      ]
    },
    {
      "cell_type": "code",
      "source": [
        "# Task 4\n",
        "\"\"\"Write a program to find the area of a rectangle. If the input or output value is floating point roundoff to nearest integer.\n",
        "\n",
        "Input Description:\n",
        "First line consists of input number\n",
        "\n",
        "Output Description:\n",
        "Output consists of area of rectangle\n",
        "\n",
        "Sample Input :\n",
        "2 4\n",
        "Sample Output :\n",
        "8\"\"\"\n",
        "length, width = map(int, input().split())\n",
        "print(round(length*width))"
      ],
      "metadata": {
        "colab": {
          "base_uri": "https://localhost:8080/"
        },
        "id": "CotAMRFhCGR2",
        "outputId": "cb1eb294-88b6-43b4-ed88-bb10a6f44098"
      },
      "execution_count": null,
      "outputs": [
        {
          "output_type": "stream",
          "name": "stdout",
          "text": [
            "2 4\n",
            "8\n"
          ]
        }
      ]
    },
    {
      "cell_type": "code",
      "source": [
        "# Task 5\n",
        "\"\"\"Write a program to find the largest of three numbers.\n",
        "\n",
        "Input Description:\n",
        "First line consists of input number\n",
        "\n",
        "Output Description:\n",
        "Output consists of largest of three numbers\n",
        "\n",
        "Sample Input :\n",
        "5 8 7\n",
        "Sample Output :\n",
        "8\"\"\"\n",
        "n = list(map(int, input().split()))\n",
        "print(max(n))"
      ],
      "metadata": {
        "id": "7kpTZ4qfCmZh"
      },
      "execution_count": null,
      "outputs": []
    },
    {
      "cell_type": "code",
      "source": [
        "# Task 6\n",
        "\"\"\"Write a program to print the given input string into 3 times in a single line.\n",
        "\n",
        "Input Description:\n",
        "First line consists of input string\n",
        "\n",
        "Output Description:\n",
        "Consist of string into 3 times in a single line\n",
        "\n",
        "Sample Input :\n",
        "GuVI\n",
        "Sample Output :\n",
        "GuVI GuVI GuVI\"\"\"\n",
        "n = input()\n",
        "output = 3*(n+' ')\n",
        "print(output.strip())"
      ],
      "metadata": {
        "id": "fe5TGUZMC6OF"
      },
      "execution_count": null,
      "outputs": []
    },
    {
      "cell_type": "code",
      "source": [
        "# Task 7\n",
        "\"\"\"Write a program to calculate the sum of all numbers from 1 to a given number. If the input is zero print “0”\n",
        "\n",
        "Input Description:\n",
        "First line consists of input number\n",
        "\n",
        "Output Description:\n",
        "Output consists sum of all numbers\n",
        "\n",
        "Sample Input :\n",
        "2\n",
        "Sample Output :\n",
        "3\"\"\"\n",
        "n = int(input())\n",
        "print(sum(range(1,n+1)))"
      ],
      "metadata": {
        "colab": {
          "base_uri": "https://localhost:8080/"
        },
        "id": "PPrPvWxJDsfZ",
        "outputId": "b4034178-491e-48f2-add5-8a94d255a7dc"
      },
      "execution_count": null,
      "outputs": [
        {
          "output_type": "stream",
          "name": "stdout",
          "text": [
            "2\n",
            "3\n"
          ]
        }
      ]
    },
    {
      "cell_type": "code",
      "source": [
        "# Task 8\n",
        "\"\"\"Write a program to display numbers from start to end range.\n",
        "\n",
        "Input Description:\n",
        "First line consists of input start & end range number\n",
        "\n",
        "Output Description:\n",
        "Output consists of total number of digits in a number.\n",
        "\n",
        "Sample Input :\n",
        "4 7\n",
        "Sample Output :\n",
        "4 5 6 7\"\"\"\n",
        "s, e = map(int, input().split())\n",
        "nums = list(range(s,e+1))\n",
        "print(*nums)"
      ],
      "metadata": {
        "colab": {
          "base_uri": "https://localhost:8080/"
        },
        "id": "8mdfrVJZEEh9",
        "outputId": "6b85fade-5c8c-4639-e8de-0c5a41f5eeef"
      },
      "execution_count": null,
      "outputs": [
        {
          "output_type": "stream",
          "name": "stdout",
          "text": [
            "4 7\n",
            "[4, 5, 6]\n"
          ]
        }
      ]
    },
    {
      "cell_type": "code",
      "source": [
        "# Task 9\n",
        "\"\"\"Write a program to display only those numbers from a input list that satisfy the following conditions:\n",
        "The number must be divisible by 2\n",
        "If the number is greater than or equal 80, then skip it and move to the next number\n",
        "If the number is greater than 125, then stop the loop\n",
        "\n",
        "Input Description:\n",
        "First line contains size of the list Second line contains list of elements\n",
        "\n",
        "Output Description:\n",
        "Consists of only those numbers from a input list that satisfy the following conditions\n",
        "\n",
        "Sample Input :\n",
        "6\n",
        "6 4 1 80 24 125\n",
        "Sample Output :\n",
        "6 4 24 125\"\"\"\n",
        "n = list(map(int, input().split()))\n",
        "arr= list(map(int,input().split()))\n",
        "new_list = []\n",
        "for i in arr:\n",
        "  if i%2==0:\n",
        "    if i>=80:\n",
        "      continue\n",
        "    if i>125:\n",
        "      break\n",
        "    new_list.append(i)\n",
        "print(*new_list)"
      ],
      "metadata": {
        "id": "1G9mP3kjWzOz"
      },
      "execution_count": null,
      "outputs": []
    },
    {
      "cell_type": "code",
      "source": [
        "# Task 10\n",
        "\"\"\"Write a program to iterate both lists simultaneously and display items from list1 in original order and items from list2 in reverse order.\n",
        "\n",
        "Input Description:\n",
        "First line of input consists of size of the list1 and list 2. Second & thrid line of input consist of elements of list1 and list2\n",
        "\n",
        "Output Description:\n",
        "Consist of list1 in original order and items from list2 in reverse order\n",
        "\n",
        "Sample Input :\n",
        "2 2\n",
        "1 2\n",
        "3 4\n",
        "Sample Output :\n",
        "1 4\n",
        "2 3\"\"\""
      ],
      "metadata": {
        "id": "RoXHpFw0x9PD"
      },
      "execution_count": null,
      "outputs": []
    },
    {
      "cell_type": "code",
      "source": [
        "# Task 11\n",
        "\"\"\"Write a program to count the total number of digits in a number.\n",
        "\n",
        "Input Description:\n",
        "First line consists of input number\n",
        "\n",
        "Output Description:\n",
        "Output consists of total number of digits in a number.\n",
        "\n",
        "Sample Input :\n",
        "345\n",
        "Sample Output :\n",
        "3\"\"\"\n",
        "n = input()\n",
        "print(len(n))"
      ],
      "metadata": {
        "id": "kvgorlK4yB05"
      },
      "execution_count": null,
      "outputs": []
    },
    {
      "cell_type": "code",
      "source": [
        "# Task 12\n",
        "\"\"\"Write a program to check whether a number is divisible by 11 or not. If divisible display “yes” else display “no”\n",
        "\n",
        "Input Description:\n",
        "First line consists of input number\n",
        "\n",
        "Output Description:\n",
        "Output consists of “yes” or “no”\n",
        "\n",
        "Sample Input :\n",
        "22\n",
        "Sample Output :\n",
        "yes\"\"\"\n",
        "n = int(input())\n",
        "if n%11 == 0:\n",
        "    print(\"yes\")\n",
        "else:\n",
        "    print(\"no\")"
      ],
      "metadata": {
        "colab": {
          "base_uri": "https://localhost:8080/"
        },
        "id": "Ket9mQhizrha",
        "outputId": "ee2b691d-3ccf-43be-a38f-263d20c36101"
      },
      "execution_count": null,
      "outputs": [
        {
          "output_type": "stream",
          "name": "stdout",
          "text": [
            "22\n",
            "yes\n"
          ]
        }
      ]
    },
    {
      "cell_type": "code",
      "source": [
        "# Task 13\n",
        "\"\"\"Write a program to remove the empty string in the given input list.\n",
        "\n",
        "Input Description:\n",
        "First line contains size of the list Second line contains list of elements\n",
        "\n",
        "Output Description:\n",
        "Consist of string without empty string\n",
        "\n",
        "Sample Input :\n",
        "3\n",
        "GUVI, ,Geek\n",
        "Sample Output :\n",
        "GUVI,Geek\"\"\"\n",
        "n = int(input())\n",
        "new_list = input().split(',')\n",
        "modified_string = ''\n",
        "for i in new_list:\n",
        "    if i.isidentifier():\n",
        "        if modified_string:\n",
        "            modified_string = modified_string + ',' + i\n",
        "        else:\n",
        "            modified_string = i\n",
        "print(modified_string)\n"
      ],
      "metadata": {
        "colab": {
          "base_uri": "https://localhost:8080/"
        },
        "id": "oWblPUU_0Avf",
        "outputId": "6bc03251-3f64-4d62-c028-44fc203daa5b"
      },
      "execution_count": null,
      "outputs": [
        {
          "output_type": "stream",
          "name": "stdout",
          "text": [
            "3\n",
            "shiva, ,ram\n",
            "shiva,ram\n"
          ]
        }
      ]
    },
    {
      "cell_type": "code",
      "source": [
        "# Task 14\n",
        "\"\"\"Write a program to calculate the sum of series up to n term. For example, if n=2 the series will become 2 + 22 = 24\n",
        "\n",
        "Input Description:\n",
        "First line consists of input number\n",
        "\n",
        "Output Description:\n",
        "Output consists of sum of series.\n",
        "\n",
        "Sample Input :\n",
        "2\n",
        "Sample Output :\n",
        "24\"\"\""
      ],
      "metadata": {
        "id": "ZH8FYbFy38n0"
      },
      "execution_count": null,
      "outputs": []
    },
    {
      "cell_type": "code",
      "source": [
        "# Task 16\n",
        "\"\"\"Write a program to find words with both alphabets and numbers from an input string.\n",
        "\n",
        "Input Description:\n",
        "Consists of string\n",
        "\n",
        "Output Description:\n",
        "Consist of words with both alphabets and numbers\n",
        "\n",
        "Sample Input :\n",
        "GUVI Geek Network1\n",
        "Sample Output :\n",
        "Network1\"\"\"\n",
        "n = input().split()\n",
        "new_list = []\n",
        "for i in n:\n",
        "    if not i.isalpha():\n",
        "        new_list.append(i)\n",
        "print(*new_list)"
      ],
      "metadata": {
        "colab": {
          "base_uri": "https://localhost:8080/"
        },
        "id": "PZ32kOGN57M0",
        "outputId": "4f82bad3-7b61-4d05-b084-a9d33da156e0"
      },
      "execution_count": null,
      "outputs": [
        {
          "output_type": "stream",
          "name": "stdout",
          "text": [
            "Guvi geek netwijhg8\n",
            "netwijhg8\n"
          ]
        }
      ]
    },
    {
      "cell_type": "code",
      "source": [
        "# Task 17\n",
        "\"\"\"Write a program to check whether a given number is even or odd. If even display “Even” else display “oDd”\n",
        "\n",
        "Input Description:\n",
        "First line consists of input number\n",
        "\n",
        "Output Description:\n",
        "Output consists of “Even” or “oDd”\n",
        "\n",
        "Sample Input :\n",
        "2\n",
        "Sample Output :\n",
        "Even\"\"\"\n",
        "n = int(input())\n",
        "print(\"Even\" if n%2 == 0 else \"oDd\")"
      ],
      "metadata": {
        "id": "2fqtWU-37ToF"
      },
      "execution_count": null,
      "outputs": []
    },
    {
      "cell_type": "code",
      "source": [
        "# Task 18\n",
        "\"\"\"Write a program to check whether a person is eligible for voting or not. If age is greater than or equal to 18 display “yes” else “no”\n",
        "\n",
        "Input Description:\n",
        "First line consists of input number\n",
        "\n",
        "Output Description:\n",
        "Output consists of “yes” or “no”\n",
        "\n",
        "Sample Input :\n",
        "18\n",
        "Sample Output :\n",
        "yes\"\"\"\n",
        "age = int(input())\n",
        "print(\"yes\" if age >= 18 else \"no\")"
      ],
      "metadata": {
        "id": "DhwvfDn37hA6"
      },
      "execution_count": null,
      "outputs": []
    },
    {
      "cell_type": "code",
      "source": [
        "# Task 19\n",
        "\"\"\"Write a program to print the first “n” Fibonacci series numbers,\n",
        "where n is a positive integer. If the input is zero and print the output “ZeRo”\n",
        "\n",
        "Input Description:\n",
        "First line consists of input number\n",
        "\n",
        "Output Description:\n",
        "Output consists of Fibonacci series\n",
        "\n",
        "Sample Input :\n",
        "2\n",
        "Sample Output :\n",
        "1 1\"\"\""
      ],
      "metadata": {
        "id": "AzsoSxl17x2o"
      },
      "execution_count": null,
      "outputs": []
    },
    {
      "cell_type": "code",
      "source": [
        "# Task 20\n",
        "\"\"\"Write a program to print the reverse order in the given input list\n",
        "\n",
        "Input Description:\n",
        "First line contains size of the list Second line contains list of elements\n",
        "\n",
        "Output Description:\n",
        "Consist of list if numbers in the reverse order\n",
        "\n",
        "Sample Input :\n",
        "5\n",
        "78 66 89 65 64\n",
        "Sample Output :\n",
        "64 65 89 66 78\"\"\"\n",
        "n = int(input())\n",
        "new_list = list(map(int, input().split()))\n",
        "print(new_list[::-1])"
      ],
      "metadata": {
        "colab": {
          "base_uri": "https://localhost:8080/"
        },
        "id": "UlFjJjDXMECM",
        "outputId": "998b8d8c-99bd-4518-f11a-bd4967e09dd2"
      },
      "execution_count": null,
      "outputs": [
        {
          "output_type": "stream",
          "name": "stdout",
          "text": [
            "5\n",
            "78 66 89 65 64\n",
            "[64, 65, 89, 66, 78]\n"
          ]
        }
      ]
    },
    {
      "cell_type": "code",
      "source": [
        "# Task 21\n",
        "\"\"\"Write a program to remove all characters from a string except integers\n",
        "\n",
        "Input Description:\n",
        "Consist of string and integers\n",
        "\n",
        "Output Description:\n",
        "Consist of integers present in the given string.\n",
        "\n",
        "Sample Input :\n",
        "GUVI 2 3 Geek\n",
        "Sample Output :\n",
        "23\"\"\"\n",
        "num = ''\n",
        "for i in n:\n",
        "    if i.isnumeric():\n",
        "        num+=i\n",
        "print(num)"
      ],
      "metadata": {
        "id": "VbU1D9-IMlWh"
      },
      "execution_count": null,
      "outputs": []
    },
    {
      "cell_type": "code",
      "source": [
        "# Task 22\n",
        "\"\"\"Write a program to calculate the area and volume of the Cube.\n",
        "\n",
        "Input Description:\n",
        "First line consists of input number\n",
        "\n",
        "Output Description:\n",
        "1. First line indicates area of the cube 2. Second line indicates colume of the cube\n",
        "\n",
        "Sample Input :\n",
        "9\n",
        "Sample Output :\n",
        "486\n",
        "729\"\"\"\n",
        "n = int(input())\n",
        "print(6*(n**2))\n",
        "print(n**3)"
      ],
      "metadata": {
        "colab": {
          "base_uri": "https://localhost:8080/"
        },
        "id": "Zw4_DaJ0NU1P",
        "outputId": "288df0b4-25ed-49d9-ad00-5a937f8497f9"
      },
      "execution_count": null,
      "outputs": [
        {
          "output_type": "stream",
          "name": "stdout",
          "text": [
            "486\n",
            "729\n"
          ]
        }
      ]
    },
    {
      "cell_type": "code",
      "source": [
        "# Task 23\n",
        "\"\"\"Write a program to print the index value from the given string.If the given index is not available print “None”.\n",
        "\n",
        "Input Description:\n",
        "First line consists of string Second line consist of index value\n",
        "\n",
        "Output Description:\n",
        "Output consists of index value from the given string\n",
        "\n",
        "Sample Input :\n",
        "GUVI\n",
        "2\n",
        "Sample Output :\n",
        "U\"\"\"\n",
        "s = input()\n",
        "index = int(input())\n",
        "\n",
        "if index > len(s) or index == 0:\n",
        "    print(\"None\")\n",
        "else:\n",
        "    print(s[index-1])"
      ],
      "metadata": {
        "colab": {
          "base_uri": "https://localhost:8080/"
        },
        "id": "7MPSE4z8OBMH",
        "outputId": "1c69605b-d668-439a-d388-8050641bef17"
      },
      "execution_count": null,
      "outputs": [
        {
          "output_type": "stream",
          "name": "stdout",
          "text": [
            "GUVI\n",
            "0\n",
            "I\n"
          ]
        }
      ]
    },
    {
      "cell_type": "markdown",
      "source": [
        "# **ZEN**"
      ],
      "metadata": {
        "id": "2z6EhBtUDjMh"
      }
    },
    {
      "cell_type": "code",
      "source": [
        "# Task 1\n",
        "\"\"\"Given a number n Find whether the number is divisible  by 2,3 and 5.if divisible print yes else print no\n",
        "\n",
        "Input Description:\n",
        "0<n<1000 Given a number n\n",
        "\n",
        "Output Description:\n",
        "Print yes or no\n",
        "\n",
        "Sample Input :\n",
        "30\n",
        "Sample Output :\n",
        "yes\"\"\"\n",
        "n = int(input())\n",
        "if n%2 == 0 and n%3 == 0 and n%5 == 0:\n",
        "    print(\"yes\")\n",
        "else:\n",
        "    print(\"no\")"
      ],
      "metadata": {
        "id": "Honbd8MLDrNM"
      },
      "execution_count": null,
      "outputs": []
    },
    {
      "cell_type": "code",
      "source": [
        "# Task 2\n",
        "\"\"\"Given a number n followed by n numbers print the number less than 15 if there is no number exits print -1\n",
        "\n",
        "Input Description:\n",
        "0<n<100 Given a number n Followed by n number in next line\n",
        "\n",
        "Output Description:\n",
        "Print the number which is less than 15 if there is no number exits print -1\n",
        "\n",
        "Sample Input :\n",
        "3\n",
        "5 7 4\n",
        "Sample Output :\n",
        "5 7 4\"\"\"\n",
        "n = int(input())\n",
        "nums = list(map(int, input().split()))\n",
        "new_list = [i for i in nums if i < 15]\n",
        "if len(new_list) != 0:\n",
        "    print(*new_list)\n",
        "else:\n",
        "    print(-1)"
      ],
      "metadata": {
        "colab": {
          "base_uri": "https://localhost:8080/"
        },
        "id": "iRa_n7hoDzFi",
        "outputId": "612225ec-3ada-4c6e-cf15-cc5c5f67988a"
      },
      "execution_count": null,
      "outputs": [
        {
          "output_type": "stream",
          "name": "stdout",
          "text": [
            "3\n",
            "5 7 4\n",
            "5 7 4\n"
          ]
        }
      ]
    },
    {
      "cell_type": "code",
      "source": [
        "# Task 3\n",
        "\"\"\"Given a string convert string into lower case\n",
        "\n",
        "Input Description:\n",
        "Given a string\n",
        "\n",
        "Output Description:\n",
        "Print string into lower case\n",
        "\n",
        "Sample Input :\n",
        "Guvi Geek\n",
        "Sample Output :\n",
        "guvi geek\"\"\"\n",
        "userInput = input()\n",
        "print(userInput.lower())"
      ],
      "metadata": {
        "id": "y3AvlJfaE7gt"
      },
      "execution_count": null,
      "outputs": []
    },
    {
      "cell_type": "code",
      "source": [
        "# Task 4\n",
        "\"\"\"Given a number n followed by n numbers find whether it is odd or even\n",
        "\n",
        "Input Description:\n",
        "0<n<100 Given a number n Followed by n number in next line\n",
        "\n",
        "Output Description:\n",
        "Print whether odd or even\n",
        "\n",
        "Sample Input :\n",
        "3\n",
        "5 7 4\n",
        "Sample Output :\n",
        "odd odd even\"\"\"\n",
        "n = int(input())\n",
        "arr = list(map(int, input().split()))\n",
        "new_list = [\"even\" if i%2 == 0 else \"odd\" for i in arr]\n",
        "print(*new_list)"
      ],
      "metadata": {
        "colab": {
          "base_uri": "https://localhost:8080/"
        },
        "id": "Yi26ucCTFCF5",
        "outputId": "69311083-04fb-4f8f-9f12-2e65ae365d25"
      },
      "execution_count": null,
      "outputs": [
        {
          "output_type": "stream",
          "name": "stdout",
          "text": [
            "3\n",
            "2 3 4\n",
            "even odd even\n"
          ]
        }
      ]
    },
    {
      "cell_type": "code",
      "source": [
        "# Task 5\n",
        "\"\"\"Given a year, find whether leap year or not?\n",
        "\n",
        "Input Description:\n",
        "Given a 4 digit number\n",
        "\n",
        "Output Description:\n",
        "Print leap year or not a leap year\n",
        "\n",
        "Sample Input :\n",
        "1996\n",
        "Sample Output :\n",
        "leap year\"\"\"\n",
        "n = int(input())\n",
        "if n%4 == 0:\n",
        "    print(\"leap year\")\n",
        "else:\n",
        "    print(\"not a leap year\")"
      ],
      "metadata": {
        "id": "a0ma2gwVHAV4"
      },
      "execution_count": null,
      "outputs": []
    },
    {
      "cell_type": "code",
      "source": [
        "# Task 6\n",
        "\"\"\"Given a number n followed by n numbers Print the smallest number in an array\n",
        "\n",
        "Input Description:\n",
        "0<n<100 Given a number n Followed by n number in next line\n",
        "\n",
        "Output Description:\n",
        "Print the smallest number in an array\n",
        "\n",
        "Sample Input :\n",
        "6\n",
        "5 7 4 4 6 8\n",
        "Sample Output :\n",
        "4\"\"\"\n",
        "n = int(input())\n",
        "arr= list(map(int,input().split()))\n",
        "print(min(arr))"
      ],
      "metadata": {
        "id": "ztmz0dzIHRGR"
      },
      "execution_count": null,
      "outputs": []
    },
    {
      "cell_type": "code",
      "source": [
        "# Task 7\n",
        "\"\"\"Given a number m and k separated by a space print the numbers between m and k\n",
        "\n",
        "Input Description:\n",
        "number m and n separated by a space 0<m<1000 0<n<1000 m<n\n",
        "\n",
        "Output Description:\n",
        "print the numbers between this two numbers\n",
        "\n",
        "Sample Input :\n",
        "5 8\n",
        "Sample Output :\n",
        "6 7\"\"\"\n",
        "n, m = map(int, input().split())\n",
        "new_list = [i for i in range(n+1, m)]\n",
        "print(*new_list)"
      ],
      "metadata": {
        "id": "Hqh5ZyXzHvGA"
      },
      "execution_count": null,
      "outputs": []
    },
    {
      "cell_type": "code",
      "source": [
        "# Task 8\n",
        "\"\"\"Given a number n,a,b and c Find the number n is divisible by a,b,c if divisible print yes else print no\n",
        "\n",
        "Input Description:\n",
        "Given number n,a,b and c separated by a space 0<n<1000 0<a<1000 0<b<1000 0<c<1000\n",
        "\n",
        "Output Description:\n",
        "Print yes or no\n",
        "\n",
        "Sample Input :\n",
        "3 5 8 9\n",
        "Sample Output :\n",
        "no\"\"\"\n",
        "n,a,b,c = map(int,input().split())\n",
        "if n%a==0 and n%b==0 and n%c== 0:\n",
        "  print(\"yes\")\n",
        "else:\n",
        "  print(\"no\")"
      ],
      "metadata": {
        "id": "VSUPtCIbIouR"
      },
      "execution_count": null,
      "outputs": []
    },
    {
      "cell_type": "code",
      "source": [
        "# Task 9\n",
        "\"\"\"Given a number n followed by n numbers Find the sum of the elements in an array and print sum of number is odd or even\n",
        "\n",
        "Input Description:\n",
        "0<n<100 Given a number n Followed by n number in next line\n",
        "\n",
        "Output Description:\n",
        "print sum of number is odd or even\n",
        "\n",
        "Sample Input :\n",
        "3\n",
        "5 7 4\n",
        "Sample Output :\n",
        "even\"\"\"\n",
        "n = int(input())\n",
        "arr = list(map(int, input().split()))\n",
        "total_sum = sum(arr)\n",
        "print(\"even\" if total_sum%2==0 else \"odd\")"
      ],
      "metadata": {
        "id": "BCkB1o01JOGA"
      },
      "execution_count": null,
      "outputs": []
    },
    {
      "cell_type": "code",
      "source": [
        "# Task 10\n",
        "\"\"\"Given a number m and k separated by a space print n numbers which multiple of m\n",
        "\n",
        "Input Description:\n",
        "number m and k separated by a space 0<n<1000 0<m<1000\n",
        "\n",
        "Output Description:\n",
        "print n numbers which multiple of m\n",
        "\n",
        "Sample Input :\n",
        "5 4\n",
        "Sample Output :\n",
        "4 8 12 16 20\"\"\"\n",
        "m, k = map(int, input().split())\n",
        "new_list = [i*k for i in range(1, m+1)]\n",
        "print(*new_list)"
      ],
      "metadata": {
        "colab": {
          "base_uri": "https://localhost:8080/"
        },
        "id": "sXciuBU2JkgR",
        "outputId": "a34c1bbb-e488-483e-fc1f-b6ffc6d7f573"
      },
      "execution_count": null,
      "outputs": [
        {
          "output_type": "stream",
          "name": "stdout",
          "text": [
            " 5 4\n",
            "4 8 12 16\n"
          ]
        }
      ]
    },
    {
      "cell_type": "code",
      "source": [
        "# Task 11\n",
        "\"\"\" Given a two number n and m find the Quotient and remainder\n",
        "\n",
        "Input Description:\n",
        "0<n<10000 0<m<10000 Given two number separated by a space\n",
        "\n",
        "Output Description:\n",
        "Need to print Quotient and remainder separated by a space\n",
        "\n",
        "Sample Input :\n",
        "6 3\n",
        "Sample Output :\n",
        "2 0\"\"\"\n",
        "n, m  = map(int, input().split())\n",
        "divide = [n//m, n%m]\n",
        "print(*divide)"
      ],
      "metadata": {
        "id": "cbln6w24KV79"
      },
      "execution_count": null,
      "outputs": []
    },
    {
      "cell_type": "code",
      "source": [
        "# Task 12\n",
        "\"\"\"Given a number n followed by n numbers print the number which is greater than 15 if there is no number exits print -1\n",
        "\n",
        "Input Description:\n",
        "0<n<100 Given a number n Followed by n number in next line\n",
        "\n",
        "Output Description:\n",
        "Print the number which is greater than 15 if there is no number exits print -1\n",
        "\n",
        "Sample Input :\n",
        "3\n",
        "5 7 4\n",
        "Sample Output :\n",
        "-1\"\"\"\n",
        "n = int(input())\n",
        "nums = list(map(int, input().split()))\n",
        "new_list = [i for i in nums if i > 15]\n",
        "if len(new_list) != 0:\n",
        "    print(*new_list)\n",
        "else:\n",
        "    print(-1)"
      ],
      "metadata": {
        "id": "aXYV5sMwLJ7m"
      },
      "execution_count": null,
      "outputs": []
    },
    {
      "cell_type": "code",
      "source": [
        "# Task 13\n",
        "\"\"\"Given a numbers n followed by x and y array of n number.\n",
        "Add the common number in the array x and y and print the numbers.\n",
        "If there is no such number print -1. A number is said to be a common number if x[i] == y[i].\n",
        "\n",
        "Input Description:\n",
        "0<n<100 Given a number n Followed by x number in next line Followed by y number in next line\n",
        "\n",
        "Output Description:\n",
        "Print added common numbers if their is no number print -1\n",
        "\n",
        "Sample Input :\n",
        "6\n",
        "5 7 4 4 6 8\n",
        "1 2 3 5 1 1\n",
        "Sample Output :\n",
        "-1\"\"\"\n",
        "n = int(input())\n",
        "arr1 = list(map(int, input().split()))\n",
        "arr2 = list(map(int, input().split()))\n",
        "new_list = []\n",
        "for i in range(n):\n",
        "    if arr1[i] == arr2[i]:\n",
        "        new_list.append(arr1[i])\n",
        "        new_list.append(arr2[i])\n",
        "\n",
        "if len(new_list) == 0:\n",
        "    print(-1)\n",
        "else:\n",
        "    print(sum(new_list))"
      ],
      "metadata": {
        "id": "bZfyDtU1NWVw"
      },
      "execution_count": null,
      "outputs": []
    },
    {
      "cell_type": "code",
      "source": [
        "# Task 14\n",
        "\"\"\"Given a number  n Find the number of the digits of number n\n",
        "\n",
        "Input Description:\n",
        "0<n<10000 Given number n\n",
        "\n",
        "Output Description:\n",
        "Print the number of the digits of number n\n",
        "\n",
        "Sample Input :\n",
        "3589\n",
        "Sample Output :\n",
        "4\"\"\"\n",
        "n = input()\n",
        "print(len(n))"
      ],
      "metadata": {
        "id": "IXGoG0aTR3wO"
      },
      "execution_count": null,
      "outputs": []
    },
    {
      "cell_type": "code",
      "source": [
        "# Task 15\n",
        "\"\"\"Given a string convert string into upper case\n",
        "\n",
        "Input Description:\n",
        "Given a string\n",
        "\n",
        "Output Description:\n",
        "print the string into uppercase\n",
        "\n",
        "Sample Input :\n",
        "guvi geek\n",
        "Sample Output :\n",
        "GUVI GEEK\"\"\"\n",
        "s = input()\n",
        "print(s.upper())"
      ],
      "metadata": {
        "id": "rYt3yQK4SA9-"
      },
      "execution_count": null,
      "outputs": []
    },
    {
      "cell_type": "code",
      "source": [
        "# Task 16\n",
        "\"\"\"Given a number n followed by n numbers Find the sum of the elements in an array\n",
        "\n",
        "Input Description:\n",
        "0<n<100 Given a number n Followed by n number in next line\n",
        "\n",
        "Output Description:\n",
        "Print the sum of the elements in an array\n",
        "\n",
        "Sample Input :\n",
        "3\n",
        "5 7 4\n",
        "Sample Output :\n",
        "16\"\"\"\n",
        "n = int(input())\n",
        "arr = list(map(int, input().split()))\n",
        "print(sum(arr))"
      ],
      "metadata": {
        "id": "ZNg_BzshSRDw"
      },
      "execution_count": null,
      "outputs": []
    },
    {
      "cell_type": "code",
      "source": [
        "# Task 17 (pending)\n",
        "\"\"\"Given a number n,m and k separated by a space followed by n numbers print the numbers\n",
        "between this two numbers listed in a array if there is no number exits print -1\n",
        "\n",
        "Input Description:\n",
        "number n, m and k separated by a space 0<n<1000 0<m<1000 0<k<1000 m<k Given a number n Followed by n number in next line\n",
        "\n",
        "Output Description:\n",
        "print the numbers between this two numbers listed in a array if there is no number exits print -1\n",
        "\n",
        "Sample Input :\n",
        "3 5 8\n",
        "5 7 4\n",
        "Sample Output :\n",
        "7\"\"\""
      ],
      "metadata": {
        "id": "e6tISqFLZM1m"
      },
      "execution_count": null,
      "outputs": []
    },
    {
      "cell_type": "code",
      "source": [
        "# Task 18\n",
        "\"\"\"Given a number n followed by n numbers add the odd number in an array\n",
        "\n",
        "Input Description:\n",
        "0<n<100 Given a number n Followed by n number in next line\n",
        "\n",
        "Output Description:\n",
        "Print the sum of odd numbers in an array\n",
        "\n",
        "Sample Input :\n",
        "6\n",
        "5 7 4 4 6 8\n",
        "Sample Output :\n",
        "12\"\"\"\n",
        "n = int(input())\n",
        "arr = list(map(int, input().split()))\n",
        "new_list = [i for i in arr if i%2 != 0]\n",
        "print(sum(new_list))"
      ],
      "metadata": {
        "colab": {
          "base_uri": "https://localhost:8080/"
        },
        "id": "L6XfBBNKZbHT",
        "outputId": "f6a590b4-272c-41ab-f4f6-a1279d75db2c"
      },
      "execution_count": null,
      "outputs": [
        {
          "output_type": "stream",
          "name": "stdout",
          "text": [
            "12\n"
          ]
        }
      ]
    },
    {
      "cell_type": "code",
      "source": [
        "# Task 19\n",
        "\"\"\" Given a string find the number of uppercase letters and lowercase letters\n",
        "\n",
        "Input Description:\n",
        "Given a string\n",
        "\n",
        "Output Description:\n",
        "Print the number of uppercase and lowercase\n",
        "\n",
        "Sample Input :\n",
        "Guvi Geek\n",
        "Sample Output :\n",
        "2 6\"\"\"\n",
        "n = input()\n",
        "upperLetters = [i for i in n if i.isupper()]\n",
        "lowerLetters = [i for i in n if i.islower()]\n",
        "print(len(upperLetters), len(lowerLetters))"
      ],
      "metadata": {
        "id": "EzuScc-Uai2Z"
      },
      "execution_count": null,
      "outputs": []
    },
    {
      "cell_type": "code",
      "source": [
        "# Task 20\n",
        "\"\"\"Given number n and m print the value of n power m\n",
        "\n",
        "Input Description:\n",
        "You will given a number n and m separated by by a space 0<n<100 0<m<100\n",
        "\n",
        "Output Description:\n",
        "print the value of n power m\n",
        "\n",
        "Sample Input :\n",
        "3 3\n",
        "Sample Output :\n",
        "27\"\"\"\n",
        "n, m = map(int, input().split())\n",
        "print(n**m)"
      ],
      "metadata": {
        "id": "3tDZMeWCcG0f"
      },
      "execution_count": null,
      "outputs": []
    },
    {
      "cell_type": "code",
      "source": [
        "# Task 21\n",
        "\"\"\"Given a number n print the three prime number which comes next to number n\n",
        "\n",
        "Input Description:\n",
        "0<n<100 Given a number n\n",
        "\n",
        "Output Description:\n",
        "print the three prime number which comes next to number n\n",
        "\n",
        "Sample Input :\n",
        "3\n",
        "Sample Output :\n",
        "5 7 11\"\"\"\n"
      ],
      "metadata": {
        "id": "-acTeR55cYDE"
      },
      "execution_count": null,
      "outputs": []
    },
    {
      "cell_type": "code",
      "source": [
        "# Task 22\n",
        "\"\"\"Given a number n followed by n numbers short the n number in ascending order\n",
        "\n",
        "Input Description:\n",
        "0<n<100 Given a number n Followed by n number in next line\n",
        "\n",
        "Output Description:\n",
        "Print the n number in ascending order\n",
        "\n",
        "Sample Input :\n",
        "6\n",
        "5 7 4 4 6 8\n",
        "Sample Output :\n",
        "4 4 5 6 7 8\"\"\"\n",
        "n = int(input())\n",
        "arr = list(map(int, input().split()))\n",
        "arr.sort()\n",
        "print(*arr)"
      ],
      "metadata": {
        "colab": {
          "base_uri": "https://localhost:8080/"
        },
        "id": "rmWnJfw7tR1e",
        "outputId": "d77b9c30-d333-4522-a051-f790c7806c88"
      },
      "execution_count": null,
      "outputs": [
        {
          "output_type": "stream",
          "name": "stdout",
          "text": [
            "6\n",
            "5 7 4 4 6 8\n",
            "[4, 4, 5, 6, 7, 8]\n"
          ]
        }
      ]
    },
    {
      "cell_type": "code",
      "source": [
        "# Task 24\n",
        "\"\"\"Given number n print the square root of the number n note n is a perfect square number\n",
        "\n",
        "Input Description:\n",
        "You will given a number n 0<n<=100\n",
        "\n",
        "Output Description:\n",
        "print the square root of the number n\n",
        "\n",
        "Sample Input :\n",
        "16\n",
        "Sample Output :\n",
        "4\"\"\"\n",
        "import math\n",
        "print(round(math.sqrt(int(input()))))"
      ],
      "metadata": {
        "colab": {
          "base_uri": "https://localhost:8080/"
        },
        "id": "KV8kKPs4trdL",
        "outputId": "f0d5941c-cbb6-48bd-9c78-d8802f6301d2"
      },
      "execution_count": null,
      "outputs": [
        {
          "output_type": "stream",
          "name": "stdout",
          "text": [
            "4.0\n"
          ]
        }
      ]
    },
    {
      "cell_type": "code",
      "source": [
        "# Task 24\n",
        "\"\"\"Given a number n followed by n numbers Print the largest number in an array\n",
        "\n",
        "Input Description:\n",
        "0<n<100 Given a number n Followed by n number in next line\n",
        "\n",
        "Output Description:\n",
        "Print the largest number in an array\n",
        "\n",
        "Sample Input :\n",
        "6\n",
        "5 7 4 4 6 8\n",
        "Sample Output :\n",
        "8\"\"\"\n",
        "n = int(input())\n",
        "arr = list(map(int, input().split()))\n",
        "print(max(arr))"
      ],
      "metadata": {
        "id": "N-Iazhr5uSkX"
      },
      "execution_count": null,
      "outputs": []
    },
    {
      "cell_type": "code",
      "source": [
        "# Task 25\n",
        "\"\"\"Given a string reverse the string\n",
        "\n",
        "Input Description:\n",
        "Given a string\n",
        "\n",
        "Output Description:\n",
        "Print string into reverse\n",
        "\n",
        "Sample Input :\n",
        "guvi geek\n",
        "Sample Output :\n",
        "geek guvi\"\"\"\n",
        "s = input()\n",
        "print(\" \".join(s.split()[::-1]))"
      ],
      "metadata": {
        "colab": {
          "base_uri": "https://localhost:8080/"
        },
        "id": "gZBqLxkEuX_E",
        "outputId": "6e268488-a22d-49d9-9e3c-eca86102943f"
      },
      "execution_count": null,
      "outputs": [
        {
          "output_type": "stream",
          "name": "stdout",
          "text": [
            "guvi geek\n",
            "geek guvi\n"
          ]
        }
      ]
    },
    {
      "cell_type": "code",
      "source": [
        "# Task 26\n",
        "\"\"\"Given a number n and m followed by n numbers remove the number m in the n number and print the remaining n number if m is not found print -1\n",
        "\n",
        "Input Description:\n",
        "0<n<100 Given a number n Followed by n number in next line\n",
        "\n",
        "Output Description:\n",
        "Print the remaining numbers or -1\n",
        "\n",
        "Sample Input :\n",
        "6 43\n",
        "5 7 4 4 6 8\n",
        "Sample Output :\n",
        "-1\"\"\"\n",
        "n, m = map(int, input().split())\n",
        "arr = list(map(int, input().split()))\n",
        "if m in arr:\n",
        "    arr.remove(m)\n",
        "    print(*arr)\n",
        "else:\n",
        "    print(-1)"
      ],
      "metadata": {
        "colab": {
          "base_uri": "https://localhost:8080/"
        },
        "id": "KVRJT8lAvIrC",
        "outputId": "bd82bc7d-6239-4f3f-da36-4239bb9a1310"
      },
      "execution_count": null,
      "outputs": [
        {
          "output_type": "stream",
          "name": "stdout",
          "text": [
            "7 4 4 6\n"
          ]
        }
      ]
    },
    {
      "cell_type": "code",
      "source": [
        "# Task 27\n",
        "\"\"\"Given a string print the duplicate in the string  if their no duplicate  print -1\n",
        "\n",
        "Input Description:\n",
        "Given a string\n",
        "\n",
        "Output Description:\n",
        "Print duplicate of the string or -1\n",
        "\n",
        "Sample Input :\n",
        "Guvi Geek\n",
        "Sample Output :\n",
        "Ge\"\"\"\n",
        "\n",
        "n = input()\n",
        "new_string = ''\n",
        "for i in n:\n",
        "  if n.count(i) != 1:\n",
        "    if i not in new_string:\n",
        "      new_string += i\n",
        "\n",
        "if new_string == '':\n",
        "  print(-1)\n",
        "else:\n",
        "  print(new_string)"
      ],
      "metadata": {
        "colab": {
          "base_uri": "https://localhost:8080/"
        },
        "id": "1jc_ecRyve-j",
        "outputId": "2c8f5253-2124-46b5-eb2d-bb17c87926af"
      },
      "execution_count": null,
      "outputs": [
        {
          "output_type": "stream",
          "name": "stdout",
          "text": [
            "Ge\n"
          ]
        }
      ]
    },
    {
      "cell_type": "markdown",
      "source": [
        "# **Accolite**"
      ],
      "metadata": {
        "id": "xnRmXxC0iedA"
      }
    },
    {
      "cell_type": "code",
      "source": [
        "# Task 1\n",
        "\"\"\"You are provided with a string ‘s’. Your task is to reverse the string using stack Data Structure.\n",
        "\n",
        "Input Description:\n",
        "You are given a string ‘s’.\n",
        "\n",
        "Output Description:\n",
        "Print the reverse string\n",
        "\n",
        "Sample Input :\n",
        "i am jsb\n",
        "Sample Output :\n",
        "jsb am i\"\"\"\n",
        "n = input()\n",
        "reversed_list = n.split()[::-1]\n",
        "print(*reversed_list)"
      ],
      "metadata": {
        "id": "LqP4FxYdijEw"
      },
      "execution_count": null,
      "outputs": []
    },
    {
      "cell_type": "code",
      "source": [
        "# Task 2\n",
        "\"\"\"Given 2 numbers N and K followed by N elements, find the Kth smallest element.If the element cannot be found then print -1\n",
        "Input Size : N <= 100000\n",
        "Sample Testcase :\n",
        "INPUT\n",
        "5 2\n",
        "1 1 2 4 5\n",
        "OUTPUT\n",
        "2\"\"\"\n",
        "n, k = map(int, input().split())\n",
        "arr = list(map(int, input().split()))\n",
        "arr.sort()\n",
        "try:\n",
        "    arr = list(set(arr))\n",
        "    print(arr[k-1])\n",
        "except IndexError:\n",
        "  print(-1)"
      ],
      "metadata": {
        "colab": {
          "base_uri": "https://localhost:8080/"
        },
        "id": "kApnx17firTa",
        "outputId": "8666ddba-2120-4603-8b32-2bde1024495e"
      },
      "execution_count": null,
      "outputs": [
        {
          "output_type": "stream",
          "name": "stdout",
          "text": [
            "5 5\n",
            "1 1 2 4 5\n",
            "-1\n"
          ]
        }
      ]
    },
    {
      "cell_type": "code",
      "source": [
        "# Task 3\n",
        "\"\"\"You are given with a queue. Your task is to reverse the queue elements and print it.\n",
        "\n",
        "Input Description:\n",
        "You are given a number ‘n’,denoting size of queue, Next line contains s space separated numbers\n",
        "\n",
        "Output Description:\n",
        "Print the reversed queue.\n",
        "\n",
        "Sample Input :\n",
        "6\n",
        "1 2 3 4 5 6\n",
        "Sample Output :\n",
        "6 5 4 3 2 1\"\"\"\n",
        "n = int(input())\n",
        "arr = list(map(int, input().split()))\n",
        "reversed_arr = arr[::-1]\n",
        "print(*reversed_arr)"
      ],
      "metadata": {
        "colab": {
          "base_uri": "https://localhost:8080/"
        },
        "id": "iKfsTxRCkLR5",
        "outputId": "b51c0998-821e-49f1-9c0b-eb29fd76d0a1"
      },
      "execution_count": null,
      "outputs": [
        {
          "output_type": "stream",
          "name": "stdout",
          "text": [
            "6\n",
            "1 2 3 4 5 6\n",
            "6 5 4 3 2 1\n"
          ]
        }
      ]
    },
    {
      "cell_type": "markdown",
      "source": [
        "# **Basics**"
      ],
      "metadata": {
        "id": "949FJQEU60Qk"
      }
    },
    {
      "cell_type": "code",
      "source": [
        "# Task 38\n",
        "\"\"\"Given 3 numbers A,B,C print 'yes' if they can form the sides of a scalene triangle else print 'no'.\n",
        "Input Size : A,B,C <= 100000\n",
        "Sample Testcase :\n",
        "INPUT\n",
        "3 4 5\n",
        "OUTPUT\n",
        "yes\"\"\"\n",
        "\n",
        "a,b,c = map(int, input().split())\n",
        "if a != b != c:\n",
        "    print(\"yes\")\n",
        "else:\n",
        "    print(\"no\")"
      ],
      "metadata": {
        "colab": {
          "base_uri": "https://localhost:8080/"
        },
        "id": "gH6GMTf96i4d",
        "outputId": "4e24c4fd-73db-4260-9e58-91f911052170"
      },
      "execution_count": null,
      "outputs": [
        {
          "output_type": "stream",
          "name": "stdout",
          "text": [
            "3 4 5\n",
            "yes\n"
          ]
        }
      ]
    },
    {
      "cell_type": "code",
      "source": [
        "# Task 39\n",
        "\"\"\"Write a code get an integer number as input and print the sum of the digits.\n",
        "\n",
        "Input Description:\n",
        "A single line containing an integer.\n",
        "\n",
        "Output Description:\n",
        "Print the sum of the digits of the integer.\n",
        "\n",
        "Sample Input :\n",
        "124\n",
        "Sample Output :\n",
        "7\"\"\"\n",
        "n = int(input())\n",
        "i = 0\n",
        "\n",
        "while n > 0:\n",
        "    d = n % 10\n",
        "    n = n//10\n",
        "    i = i + d\n",
        "print(i)"
      ],
      "metadata": {
        "id": "zvkC2MbF64yu"
      },
      "execution_count": null,
      "outputs": []
    },
    {
      "cell_type": "code",
      "source": [
        "# Task 40\n",
        "n = int(input())\n",
        "army = list(map(int, input().split()))\n",
        "\n",
        "weakness_count = 0\n",
        "for i in range(n - 2):\n",
        "  for j in range(i + 1, n - 1):\n",
        "    for k in range(j + 1, n):\n",
        "      print(army[i])\n",
        "      print(army[j])\n",
        "      print(army[k])\n",
        "      if army[i] > army[j] > army[k]:\n",
        "        weakness_count += 1\n",
        "print(weakness_count)\n"
      ],
      "metadata": {
        "colab": {
          "base_uri": "https://localhost:8080/"
        },
        "id": "MfoN7y9L7Bss",
        "outputId": "059fa1c9-fadf-4dd0-d633-cdbd83589a40"
      },
      "execution_count": null,
      "outputs": [
        {
          "output_type": "stream",
          "name": "stdout",
          "text": [
            "3\n",
            "3 2 1\n",
            "3\n",
            "2\n",
            "1\n",
            "1\n"
          ]
        }
      ]
    },
    {
      "cell_type": "code",
      "source": [
        "# Task 41\n",
        "\"\"\"Write a code get an integer number as input and print the odd and even digits of the number separately.\n",
        "\n",
        "Input Description:\n",
        "A single line containing an integer.\n",
        "\n",
        "Output Description:\n",
        "Print the even and odd integers of the integer in a separate line.\n",
        "\n",
        "Sample Input :\n",
        "1234\n",
        "Sample Output :\n",
        "2 4\n",
        "1 3\"\"\"\n",
        "n = input()\n",
        "even = [i for i in n if int(i)%2 == 0]\n",
        "odd = [i for i in n if int(i)%2 != 0]\n",
        "even.sort()\n",
        "odd.sort()\n",
        "print(' '.join(even))\n",
        "print(' '.join(odd))"
      ],
      "metadata": {
        "id": "9Y9KV63KCUqE"
      },
      "execution_count": null,
      "outputs": []
    },
    {
      "cell_type": "markdown",
      "source": [
        "# **Pattern**"
      ],
      "metadata": {
        "id": "4-NPhBO0Qh5S"
      }
    },
    {
      "cell_type": "code",
      "source": [
        "# Task 1\n",
        "\"\"\"Generate a half pyramid pattern using numbers.\n",
        "\n",
        "Input Description:\n",
        "Given an integer R indicates number of rows.\n",
        "\n",
        "Where 1<=R<=100.\n",
        "\n",
        "Output Description:\n",
        "Print the half pyramid pattern based on the given integer R.\n",
        "\n",
        "Sample Input :\n",
        "5\n",
        "Sample Output :\n",
        "1\n",
        "12\n",
        "123\n",
        "1234\n",
        "12345\"\"\"\n",
        "n = int(input())\n",
        "for i in range(1, n+1):\n",
        "    for j in range(1, i+1):\n",
        "        print(j, end='')\n",
        "    print()"
      ],
      "metadata": {
        "id": "uEUBkIgyQmSm"
      },
      "execution_count": null,
      "outputs": []
    },
    {
      "cell_type": "code",
      "source": [
        "# Task 2\n",
        "\"\"\"Generate a solid rectangle using stars.\n",
        "\n",
        "Input Description:\n",
        "Given an integer R indicates no of rows and an integer C indicates no of columns.\n",
        "\n",
        "Where 1<=R<=100 and Where 1<=C<=100.\n",
        "\n",
        "Output Description:\n",
        "Print the rectangle using stars with R rows and C columns.\n",
        "\n",
        "Sample Input :\n",
        "3 5\n",
        "Sample Output :\n",
        "* * * * *\n",
        "* * * * *\n",
        "* * * * *\"\"\"\n",
        "n, m = map(int, input().split())\n",
        "for i in range(n):\n",
        "    new_list = []\n",
        "    for i in range(m):\n",
        "        new_list.append('*')\n",
        "    print(*new_list)"
      ],
      "metadata": {
        "id": "49hiOZfZQ4L_"
      },
      "execution_count": null,
      "outputs": []
    },
    {
      "cell_type": "code",
      "source": [
        "# Task 3\n",
        "\"\"\"Generate a hollow inverted half pyramid pattern using numbers.\n",
        "\n",
        "Input Description:\n",
        "Given an integer R indicates number of rows.\n",
        "\n",
        "Where 1<=R<=100.\n",
        "\n",
        "Output Description:\n",
        "Print the hollow Inverted half pyramid pattern using numbers based on the given integer R.\n",
        "\n",
        "Sample Input :\n",
        "5\n",
        "Sample Output :\n",
        "12345\n",
        "1  4\n",
        "1 3\n",
        "12\n",
        "1\"\"\"\n",
        "n = int(input())\n",
        "for i in range(n,0,-1):\n",
        "    new_string = ''\n",
        "    for j in range(1,i+1):\n",
        "        if i == n:\n",
        "            new_string += str(j)\n",
        "        else:\n",
        "            if j == 1 or j == i:\n",
        "                new_string += str(j)\n",
        "            else:\n",
        "                new_string += ' '\n",
        "\n",
        "    print(new_string)"
      ],
      "metadata": {
        "id": "xbLIQ30_SWDI"
      },
      "execution_count": null,
      "outputs": []
    },
    {
      "cell_type": "code",
      "source": [
        "# Task 4\n",
        "\"\"\"Write a code to generate a pyramid pattern using stars from the given input size N.\n",
        "\n",
        "Input Description:\n",
        "Given an integer R indicates number of rows.\n",
        "\n",
        "Where 1<=R<=100.\n",
        "\n",
        "Output Description:\n",
        "Print the star pyramid with the given integer R.\n",
        "\n",
        "Sample Input :\n",
        "5\n",
        "Sample Output :\n",
        "*\n",
        "* *\n",
        "* * *\n",
        "* * * *\n",
        "* * * * *\"\"\"\n",
        "n = int(input())\n",
        "for i in range(1,n+1):\n",
        "    new_list = []\n",
        "    for j in range(1,i+1):\n",
        "        new_list.append('*')\n",
        "    print(*new_list)"
      ],
      "metadata": {
        "id": "By8s7pGinG7p"
      },
      "execution_count": null,
      "outputs": []
    },
    {
      "cell_type": "code",
      "source": [
        "# Task 5\n",
        "\"\"\"Generate a floyd's triangle.\n",
        "\n",
        "Input Description:\n",
        "Given an integer R indicates number of rows.\n",
        "\n",
        "Where 1<=R<=100.\n",
        "\n",
        "Output Description:\n",
        "Print a floyd's triangle based on the given integer R.\n",
        "\n",
        "Sample Input :\n",
        "5\n",
        "Sample Output :\n",
        "1\n",
        "2 3\n",
        "4 5 6\n",
        "7 8 9 10\n",
        "11 12 13 14 15\"\"\"\n",
        "n = int(input())\n",
        "count = 1\n",
        "for i in range(1, n+1):\n",
        "    new_list = []\n",
        "    for j in range(1, i+1):\n",
        "        new_list.append(count)\n",
        "        count+=1\n",
        "    print(*new_list)"
      ],
      "metadata": {
        "id": "ngcBcIXAnQUa"
      },
      "execution_count": null,
      "outputs": []
    },
    {
      "cell_type": "code",
      "source": [
        "# Task 6\n",
        "\"\"\"Write a code to generate a half pyramid pattern using numbers.\n",
        "\n",
        "Input Description:\n",
        "Given an integer R indicates number of rows.\n",
        "\n",
        "Where 1<=R<=100.\n",
        "\n",
        "Output Description:\n",
        "Print the number half pyramid pattern with the size R.\n",
        "\n",
        "Sample Input :\n",
        "5\n",
        "Sample Output :\n",
        "1\n",
        "22\n",
        "333\n",
        "4444\n",
        "55555\"\"\"\n",
        "n = int(input())\n",
        "for i in range(1,n+1):\n",
        "    new_string = ''\n",
        "    for j in range(i):\n",
        "        new_string += str(i)\n",
        "    print(new_string)"
      ],
      "metadata": {
        "id": "M2NUYbGfnXoa"
      },
      "execution_count": null,
      "outputs": []
    },
    {
      "cell_type": "code",
      "source": [
        "# Task 7\n",
        "\"\"\"Write a code to generate a half pyramid number pattern.\n",
        "\n",
        "Input Description:\n",
        "Given an even integer R indicates number of rows.\n",
        "\n",
        "Where 1<=R<=100.\n",
        "\n",
        "Output Description:\n",
        "Print the number half pyramid pattern with the size R.\n",
        "\n",
        "Sample Input :\n",
        "5\n",
        "Sample Output :\n",
        "12345\n",
        "4321\n",
        "123\n",
        "21\n",
        "1\n",
        "\"\"\"\n",
        "n = int(input())\n",
        "count = 1\n",
        "for i in range(n,0,-1):\n",
        "    new_sting = ''\n",
        "    if count%2 == 0:\n",
        "        for j in range(i,0,-1):\n",
        "            new_sting += str(j)\n",
        "    else:\n",
        "        for j in range(1,i+1):\n",
        "            new_sting += str(j)\n",
        "    count += 1\n",
        "    print(new_sting)"
      ],
      "metadata": {
        "id": "NkyBJL0Znc_w"
      },
      "execution_count": null,
      "outputs": []
    },
    {
      "cell_type": "code",
      "source": [
        "# Task 8\n",
        "\"\"\"Generate a hollow half pyramid pattern using numbers.\n",
        "\n",
        "\n",
        "Input Description:\n",
        "Given an integer R indicates number of rows.\n",
        "\n",
        "Where 1<=R<=100.\n",
        "\n",
        "Output Description:\n",
        "Print the hollow half pyramid pattern using numbers based on the given integer R.\n",
        "\n",
        "Sample Input :\n",
        "5\n",
        "Sample Output :\n",
        "1\n",
        "12\n",
        "1 3\n",
        "1  4\n",
        "12345\"\"\"\n",
        "n = int(input())\n",
        "for i in range(1, n+1):\n",
        "    new_string = ''\n",
        "    for j in range(1,i+1):\n",
        "        if i == n:\n",
        "            new_string += str(j)\n",
        "        else:\n",
        "            if j == 1 or j == i:\n",
        "                new_string += str(j)\n",
        "            else:\n",
        "                new_string += ' '\n",
        "\n",
        "    print(new_string)"
      ],
      "metadata": {
        "id": "-lcVnTIIqftl"
      },
      "execution_count": null,
      "outputs": []
    },
    {
      "cell_type": "code",
      "source": [],
      "metadata": {
        "id": "vxOcDP3nql4c"
      },
      "execution_count": null,
      "outputs": []
    }
  ]
}